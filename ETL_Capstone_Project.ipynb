{
  "nbformat": 4,
  "nbformat_minor": 0,
  "metadata": {
    "colab": {
      "provenance": [],
      "include_colab_link": true
    },
    "kernelspec": {
      "name": "python3",
      "display_name": "Python 3"
    },
    "language_info": {
      "name": "python"
    }
  },
  "cells": [
    {
      "cell_type": "markdown",
      "metadata": {
        "id": "view-in-github",
        "colab_type": "text"
      },
      "source": [
        "<a href=\"https://colab.research.google.com/github/Aaron25m/Aaron_Projects/blob/Data-Wrangling---ETL-Capstone/ETL_Capstone_Project.ipynb\" target=\"_parent\"><img src=\"https://colab.research.google.com/assets/colab-badge.svg\" alt=\"Open In Colab\"/></a>"
      ]
    },
    {
      "cell_type": "markdown",
      "source": [
        "# **Web Scraping (E in ETL)** "
      ],
      "metadata": {
        "id": "iuf6QDTmQhjQ"
      }
    },
    {
      "cell_type": "markdown",
      "source": [
        "***Question:*** You are working for the NY Times and are assigned to find uptil this years #1 Amazon Choice -  Kindle,Paperback,Hardcover and Audiobook editions."
      ],
      "metadata": {
        "id": "VI2VF-qRQOLk"
      }
    },
    {
      "cell_type": "markdown",
      "source": [
        "https://www.amazon.in/robots.txt"
      ],
      "metadata": {
        "id": "fV4ByVd5-qpr"
      }
    },
    {
      "cell_type": "code",
      "source": [
        "import requests\n",
        "import pandas as pd"
      ],
      "metadata": {
        "id": "pjSe97mV_E_U"
      },
      "execution_count": null,
      "outputs": []
    },
    {
      "cell_type": "code",
      "source": [
        "url='https://www.amazon.in/gp/bestsellers/books/'\n",
        "response = requests.get(url)\n",
        "page_content=response.text\n",
        "response.status_code"
      ],
      "metadata": {
        "colab": {
          "base_uri": "https://localhost:8080/"
        },
        "id": "m4TQGWzsqE3R",
        "outputId": "955c15da-905b-4332-8409-cba184b1eca2"
      },
      "execution_count": null,
      "outputs": [
        {
          "output_type": "execute_result",
          "data": {
            "text/plain": [
              "200"
            ]
          },
          "metadata": {},
          "execution_count": 7
        }
      ]
    },
    {
      "cell_type": "code",
      "source": [
        "page_content[0:500]"
      ],
      "metadata": {
        "colab": {
          "base_uri": "https://localhost:8080/",
          "height": 105
        },
        "id": "IH85V7yFqLC6",
        "outputId": "b700acb8-505f-4d74-f809-85bc64b2397d"
      },
      "execution_count": null,
      "outputs": [
        {
          "output_type": "execute_result",
          "data": {
            "text/plain": [
              "'<!doctype html><html lang=\"en-in\" class=\"a-no-js\" data-19ax5a9jf=\"dingo\"><!-- sp:feature:head-start -->\\n<head><script>var aPageStart = (new Date()).getTime();</script><meta charset=\"utf-8\"/>\\n<!-- sp:end-feature:head-start -->\\n<!-- sp:feature:csm:head-open-part1 -->\\n\\n<!-- sp:end-feature:csm:head-open-part1 -->\\n<!-- sp:feature:cs-optimization -->\\n<meta http-equiv=\\'x-dns-prefetch-control\\' content=\\'on\\'>\\n<link rel=\"dns-prefetch\" href=\"https://images-eu.ssl-images-amazon.com\">\\n<link rel=\"dns-prefetch\"'"
            ],
            "application/vnd.google.colaboratory.intrinsic+json": {
              "type": "string"
            }
          },
          "metadata": {},
          "execution_count": 8
        }
      ]
    },
    {
      "cell_type": "code",
      "source": [
        "from bs4 import BeautifulSoup\n",
        "doc = BeautifulSoup(page_content, 'html.parser')\n",
        "selection_class=\"_p13n-zg-nav-tree-all_style_zg-browse-item__1rdKf _p13n-zg-nav-tree-all_style_zg-browse-height-large__1z5B8\"\n",
        "books_title_tag=doc.find_all('div',{ 'class':selection_class})\n",
        "\n",
        "def get_topic_titles(doc):\n",
        "    selection_class=\"_p13n-zg-nav-tree-all_style_zg-browse-item__1rdKf _p13n-zg-nav-tree-all_style_zg-browse-height-large__1z5B8\"\n",
        "    books_title_tag=doc.find_all('div',{ 'class':selection_class})\n",
        "    topic_titles = []\n",
        "    for tag in books_title_tag:\n",
        "        topic_titles.append(tag.text)\n",
        "    return topic_titles\n",
        "get_topic_titles(doc)"
      ],
      "metadata": {
        "colab": {
          "base_uri": "https://localhost:8080/"
        },
        "id": "9WBVpo4Vr5M4",
        "outputId": "cbaf85e1-45b0-4c62-f418-c1755f813144"
      },
      "execution_count": null,
      "outputs": [
        {
          "output_type": "execute_result",
          "data": {
            "text/plain": [
              "['Books',\n",
              " 'Action & Adventure',\n",
              " 'Arts, Film & Photography',\n",
              " 'Biographies, Diaries & True Accounts',\n",
              " 'Business & Economics',\n",
              " \"Children's & Young Adult\",\n",
              " 'Comics & Mangas',\n",
              " 'Computing, Internet & Digital Media',\n",
              " 'Crafts, Home & Lifestyle',\n",
              " 'Crime, Thriller & Mystery',\n",
              " 'Engineering',\n",
              " 'Exam Preparation',\n",
              " 'Fantasy, Horror & Science Fiction',\n",
              " 'Health, Family & Personal Development',\n",
              " 'Health, Fitness & Nutrition',\n",
              " 'Higher Education Textbooks',\n",
              " 'Historical Fiction',\n",
              " 'History',\n",
              " 'Humour',\n",
              " 'Language, Linguistics & Writing',\n",
              " 'Law',\n",
              " 'Literature & Fiction',\n",
              " 'Maps & Atlases',\n",
              " 'Medicine & Health Sciences',\n",
              " 'Politics',\n",
              " 'Reference',\n",
              " 'Religion',\n",
              " 'Romance',\n",
              " 'School Books',\n",
              " 'Science & Mathematics',\n",
              " 'Sciences, Technology & Medicine',\n",
              " 'Society & Social Sciences',\n",
              " 'Sports',\n",
              " 'Textbooks & Study Guides',\n",
              " 'Travel']"
            ]
          },
          "metadata": {},
          "execution_count": 9
        }
      ]
    },
    {
      "cell_type": "code",
      "source": [
        "from bs4 import BeautifulSoup\n",
        "doc = BeautifulSoup(page_content, 'html.parser')\n",
        "selection_class=\"_p13n-zg-nav-tree-all_style_zg-browse-item__1rdKf _p13n-zg-nav-tree-all_style_zg-browse-height-large__1z5B8\"\n",
        "books_title_tag=doc.find_all('div',{ 'class':selection_class})\n",
        "books_url='https://www.amazon.in/gp/bestsellers/books/1318158031'\n",
        "response=requests.get(books_url)\n",
        "books_doc = BeautifulSoup(response.text, 'html.parser')\n",
        "div_tags= books_doc.find_all('div',{'class':\"zg-grid-general-faceout\"})\n",
        "#div_tags"
      ],
      "metadata": {
        "id": "_umLddHpqNf1"
      },
      "execution_count": null,
      "outputs": []
    },
    {
      "cell_type": "code",
      "source": [
        "import os\n",
        "books_doc = BeautifulSoup(response.text, 'html.parser')\n",
        "books_dict={\n",
        "        'Book_Name':[],\n",
        "        'Author_Name':[],\n",
        "        'Book_URL':[],\n",
        "        'Edition_Type':[],\n",
        "        'Price':[],\n",
        "        'Star_Rating':[],\n",
        "        'Reviews':[]\n",
        "    }    \n",
        "\n",
        "def get_topic_page(books_urls):\n",
        "    # download the page\n",
        "    books_url='https://www.amazon.in/gp/bestsellers/books/1318158031'\n",
        "    # check sucessful response\n",
        "    response=requests.get(books_urls)\n",
        "    \n",
        "    if response.status_code!=200:\n",
        "        raise Exception('failed to load page{}'.format(books_urls))\n",
        "    # parse using BeautifulSoup\n",
        "    topic_doc=BeautifulSoup(response.text, 'html.parser')\n",
        "    div_tags= books_doc.find_all('div',{'class':\"zg-grid-general-faceout\"})\n",
        "    return topic_doc\n",
        "\n",
        "\n",
        "def books_details(div_tags):\n",
        "    #extracting book names\n",
        "    Book_Name_tags =div_tags.find('span')\n",
        "    #extracting author name of books \n",
        "    Author_Name_tags = div_tags.find('a', class_ = 'a-size-small a-link-child')\n",
        "    #extracting books urls\n",
        "    Book_URL = 'https://amazon.in' + div_tags.find('a', class_ = 'a-link-normal')['href']\n",
        "    #extracting edition type of books\n",
        "    Edition_Type_tags = div_tags.find('span', class_ = 'a-size-small a-color-secondary a-text-normal')\n",
        "    #extracting price tag of book \n",
        "    Price_tags = div_tags.find('span', class_ = 'p13n-sc-price')\n",
        "    #extracting star rating of books\n",
        "    Star_Rating_tags = div_tags.find('span', class_ = 'a-icon-alt')\n",
        "    #extracting review of books\n",
        "    Reviews_tags = div_tags.find('span', class_ = 'a-size-small')\n",
        "    return Book_Name_tags, Author_Name_tags, Book_URL, Edition_Type_tags, Price_tags, Star_Rating_tags, Reviews_tags\n",
        "\n",
        "def get_books(books_doc):\n",
        "    div_selection_class = 'zg-grid-general-faceout'\n",
        "    div_tags = books_doc.find_all('div', class_ = div_selection_class ) # creating a dictionary   \n",
        "    for i in range(0, len(div_tags)):\n",
        "        books_info = books_details(div_tags[i])\n",
        "        book_name(books_info)\n",
        "        author_name(books_info)\n",
        "        book_url(books_info)\n",
        "        edition_type(books_info)\n",
        "        book_price(books_info)\n",
        "        star_rating(books_info)\n",
        "        book_reviews(books_info)  \n",
        "    return pd.DataFrame(books_dict)\n",
        "\n",
        "    \n",
        "def book_name(books_info):\n",
        "    if books_info[0] is not None:\n",
        "        books_dict['Book_Name'].append(books_info[0].text)\n",
        "    else:\n",
        "        books_dict['Book_Name'].append('Missing')\n",
        "    return books_dict\n",
        "\n",
        "def author_name(books_info):\n",
        "    if books_info[1] is not None:\n",
        "        books_dict['Author_Name'].append(books_info[1].text)\n",
        "    else:\n",
        "        books_dict['Author_Name'].append('Missing')\n",
        "    return books_dict\n",
        "\n",
        "def book_url(books_info):\n",
        "    if books_info[2] is not None:\n",
        "        books_dict['Book_URL'].append(books_info[2])\n",
        "    else:\n",
        "        books_dict['Book_URL'].append('Missing')\n",
        "    return books_dict\n",
        "\n",
        "def edition_type(books_info) :   \n",
        "    if books_info[3] is not None:\n",
        "        books_dict['Edition_Type'].append(books_info[3].text)\n",
        "    else:\n",
        "        books_dict['Edition_Type'].append('Missing')\n",
        "    return books_dict \n",
        "\n",
        "\n",
        "def book_price(books_info):     \n",
        "    if books_info[4] is not None:\n",
        "        return books_dict['Price'].append(books_info[4].text)\n",
        "    else:\n",
        "        return books_dict['Price'].append('Missing')\n",
        "    return books_dict\n",
        "          \n",
        "def star_rating(books_info):\n",
        "    if books_info[5] is not None:\n",
        "        books_dict['Star_Rating'].append(books_info[5].text)\n",
        "    else:\n",
        "        books_dict['Star_Rating'].append('Missing') \n",
        "    return books_dict   \n",
        "\n",
        "def book_reviews(books_info):\n",
        "    if books_info[6] is not None:\n",
        "        books_dict['Reviews'].append(books_info[6].text)\n",
        "    else:\n",
        "        books_dict['Reviews'].append('Missing')\n",
        "    return books_dict\n"
      ],
      "metadata": {
        "id": "XMl6ej57qQ61"
      },
      "execution_count": null,
      "outputs": []
    },
    {
      "cell_type": "code",
      "source": [
        "get_books(books_doc).head(5)"
      ],
      "metadata": {
        "colab": {
          "base_uri": "https://localhost:8080/",
          "height": 478
        },
        "id": "6iCN1_gwqjqs",
        "outputId": "771ac7d3-1ac0-4b9e-938f-6d23c308d985"
      },
      "execution_count": null,
      "outputs": [
        {
          "output_type": "execute_result",
          "data": {
            "text/plain": [
              "                                           Book_Name       Author_Name  \\\n",
              "0           War of Lanka (Ram Chandra Series Book 4)    Amish Tripathi   \n",
              "1           Harry Potter and the Philosopher's Stone      J.K. Rowling   \n",
              "2                                 THE SILENT PATIENT  Alex Michaelides   \n",
              "3  தீயில் தென்றலாய் உறவிதுவோ: theeyil thendralaai...           Missing   \n",
              "4           War Of Lanka (Ram Chandra Series Book 4)    Amish Tripathi   \n",
              "\n",
              "                                            Book_URL    Edition_Type    Price  \\\n",
              "0  https://amazon.in/War-Lanka-Ram-Chandra-Book/d...       Paperback  ₹288.00   \n",
              "1  https://amazon.in/Harry-Potter-Philosophers-St...  Kindle Edition  ₹251.75   \n",
              "2  https://amazon.in/Silent-Patient-Alex-Michaeli...       Paperback  ₹189.00   \n",
              "3  https://amazon.in/%E0%AE%A4%E0%AF%80%E0%AE%AF%...  Kindle Edition  ₹199.00   \n",
              "4  https://amazon.in/War-Lanka-Ram-Chandra-Book-e...  Kindle Edition  ₹273.60   \n",
              "\n",
              "          Star_Rating            Reviews  \n",
              "0  4.2 out of 5 stars              1,114  \n",
              "1  4.7 out of 5 stars             54,197  \n",
              "2  4.5 out of 5 stars            133,137  \n",
              "3  4.5 out of 5 stars  மேக வாணி Megavani  \n",
              "4  4.2 out of 5 stars              1,114  "
            ],
            "text/html": [
              "\n",
              "  <div id=\"df-98b94c42-4b2f-4c51-9d7e-f5a019a493cb\">\n",
              "    <div class=\"colab-df-container\">\n",
              "      <div>\n",
              "<style scoped>\n",
              "    .dataframe tbody tr th:only-of-type {\n",
              "        vertical-align: middle;\n",
              "    }\n",
              "\n",
              "    .dataframe tbody tr th {\n",
              "        vertical-align: top;\n",
              "    }\n",
              "\n",
              "    .dataframe thead th {\n",
              "        text-align: right;\n",
              "    }\n",
              "</style>\n",
              "<table border=\"1\" class=\"dataframe\">\n",
              "  <thead>\n",
              "    <tr style=\"text-align: right;\">\n",
              "      <th></th>\n",
              "      <th>Book_Name</th>\n",
              "      <th>Author_Name</th>\n",
              "      <th>Book_URL</th>\n",
              "      <th>Edition_Type</th>\n",
              "      <th>Price</th>\n",
              "      <th>Star_Rating</th>\n",
              "      <th>Reviews</th>\n",
              "    </tr>\n",
              "  </thead>\n",
              "  <tbody>\n",
              "    <tr>\n",
              "      <th>0</th>\n",
              "      <td>War of Lanka (Ram Chandra Series Book 4)</td>\n",
              "      <td>Amish Tripathi</td>\n",
              "      <td>https://amazon.in/War-Lanka-Ram-Chandra-Book/d...</td>\n",
              "      <td>Paperback</td>\n",
              "      <td>₹288.00</td>\n",
              "      <td>4.2 out of 5 stars</td>\n",
              "      <td>1,114</td>\n",
              "    </tr>\n",
              "    <tr>\n",
              "      <th>1</th>\n",
              "      <td>Harry Potter and the Philosopher's Stone</td>\n",
              "      <td>J.K. Rowling</td>\n",
              "      <td>https://amazon.in/Harry-Potter-Philosophers-St...</td>\n",
              "      <td>Kindle Edition</td>\n",
              "      <td>₹251.75</td>\n",
              "      <td>4.7 out of 5 stars</td>\n",
              "      <td>54,197</td>\n",
              "    </tr>\n",
              "    <tr>\n",
              "      <th>2</th>\n",
              "      <td>THE SILENT PATIENT</td>\n",
              "      <td>Alex Michaelides</td>\n",
              "      <td>https://amazon.in/Silent-Patient-Alex-Michaeli...</td>\n",
              "      <td>Paperback</td>\n",
              "      <td>₹189.00</td>\n",
              "      <td>4.5 out of 5 stars</td>\n",
              "      <td>133,137</td>\n",
              "    </tr>\n",
              "    <tr>\n",
              "      <th>3</th>\n",
              "      <td>தீயில் தென்றலாய் உறவிதுவோ: theeyil thendralaai...</td>\n",
              "      <td>Missing</td>\n",
              "      <td>https://amazon.in/%E0%AE%A4%E0%AF%80%E0%AE%AF%...</td>\n",
              "      <td>Kindle Edition</td>\n",
              "      <td>₹199.00</td>\n",
              "      <td>4.5 out of 5 stars</td>\n",
              "      <td>மேக வாணி Megavani</td>\n",
              "    </tr>\n",
              "    <tr>\n",
              "      <th>4</th>\n",
              "      <td>War Of Lanka (Ram Chandra Series Book 4)</td>\n",
              "      <td>Amish Tripathi</td>\n",
              "      <td>https://amazon.in/War-Lanka-Ram-Chandra-Book-e...</td>\n",
              "      <td>Kindle Edition</td>\n",
              "      <td>₹273.60</td>\n",
              "      <td>4.2 out of 5 stars</td>\n",
              "      <td>1,114</td>\n",
              "    </tr>\n",
              "  </tbody>\n",
              "</table>\n",
              "</div>\n",
              "      <button class=\"colab-df-convert\" onclick=\"convertToInteractive('df-98b94c42-4b2f-4c51-9d7e-f5a019a493cb')\"\n",
              "              title=\"Convert this dataframe to an interactive table.\"\n",
              "              style=\"display:none;\">\n",
              "        \n",
              "  <svg xmlns=\"http://www.w3.org/2000/svg\" height=\"24px\"viewBox=\"0 0 24 24\"\n",
              "       width=\"24px\">\n",
              "    <path d=\"M0 0h24v24H0V0z\" fill=\"none\"/>\n",
              "    <path d=\"M18.56 5.44l.94 2.06.94-2.06 2.06-.94-2.06-.94-.94-2.06-.94 2.06-2.06.94zm-11 1L8.5 8.5l.94-2.06 2.06-.94-2.06-.94L8.5 2.5l-.94 2.06-2.06.94zm10 10l.94 2.06.94-2.06 2.06-.94-2.06-.94-.94-2.06-.94 2.06-2.06.94z\"/><path d=\"M17.41 7.96l-1.37-1.37c-.4-.4-.92-.59-1.43-.59-.52 0-1.04.2-1.43.59L10.3 9.45l-7.72 7.72c-.78.78-.78 2.05 0 2.83L4 21.41c.39.39.9.59 1.41.59.51 0 1.02-.2 1.41-.59l7.78-7.78 2.81-2.81c.8-.78.8-2.07 0-2.86zM5.41 20L4 18.59l7.72-7.72 1.47 1.35L5.41 20z\"/>\n",
              "  </svg>\n",
              "      </button>\n",
              "      \n",
              "  <style>\n",
              "    .colab-df-container {\n",
              "      display:flex;\n",
              "      flex-wrap:wrap;\n",
              "      gap: 12px;\n",
              "    }\n",
              "\n",
              "    .colab-df-convert {\n",
              "      background-color: #E8F0FE;\n",
              "      border: none;\n",
              "      border-radius: 50%;\n",
              "      cursor: pointer;\n",
              "      display: none;\n",
              "      fill: #1967D2;\n",
              "      height: 32px;\n",
              "      padding: 0 0 0 0;\n",
              "      width: 32px;\n",
              "    }\n",
              "\n",
              "    .colab-df-convert:hover {\n",
              "      background-color: #E2EBFA;\n",
              "      box-shadow: 0px 1px 2px rgba(60, 64, 67, 0.3), 0px 1px 3px 1px rgba(60, 64, 67, 0.15);\n",
              "      fill: #174EA6;\n",
              "    }\n",
              "\n",
              "    [theme=dark] .colab-df-convert {\n",
              "      background-color: #3B4455;\n",
              "      fill: #D2E3FC;\n",
              "    }\n",
              "\n",
              "    [theme=dark] .colab-df-convert:hover {\n",
              "      background-color: #434B5C;\n",
              "      box-shadow: 0px 1px 3px 1px rgba(0, 0, 0, 0.15);\n",
              "      filter: drop-shadow(0px 1px 2px rgba(0, 0, 0, 0.3));\n",
              "      fill: #FFFFFF;\n",
              "    }\n",
              "  </style>\n",
              "\n",
              "      <script>\n",
              "        const buttonEl =\n",
              "          document.querySelector('#df-98b94c42-4b2f-4c51-9d7e-f5a019a493cb button.colab-df-convert');\n",
              "        buttonEl.style.display =\n",
              "          google.colab.kernel.accessAllowed ? 'block' : 'none';\n",
              "\n",
              "        async function convertToInteractive(key) {\n",
              "          const element = document.querySelector('#df-98b94c42-4b2f-4c51-9d7e-f5a019a493cb');\n",
              "          const dataTable =\n",
              "            await google.colab.kernel.invokeFunction('convertToInteractive',\n",
              "                                                     [key], {});\n",
              "          if (!dataTable) return;\n",
              "\n",
              "          const docLinkHtml = 'Like what you see? Visit the ' +\n",
              "            '<a target=\"_blank\" href=https://colab.research.google.com/notebooks/data_table.ipynb>data table notebook</a>'\n",
              "            + ' to learn more about interactive tables.';\n",
              "          element.innerHTML = '';\n",
              "          dataTable['output_type'] = 'display_data';\n",
              "          await google.colab.output.renderOutput(dataTable, element);\n",
              "          const docLink = document.createElement('div');\n",
              "          docLink.innerHTML = docLinkHtml;\n",
              "          element.appendChild(docLink);\n",
              "        }\n",
              "      </script>\n",
              "    </div>\n",
              "  </div>\n",
              "  "
            ]
          },
          "metadata": {},
          "execution_count": 17
        }
      ]
    },
    {
      "cell_type": "code",
      "source": [
        "df=get_books(books_doc)\n",
        "df['Reviews'] = df['Reviews'].str.replace(',', '').astype(str)\n",
        "df['Reviews'] = pd.to_numeric(df['Reviews'],errors=\"coerce\").fillna(0)\n",
        "df['Rating'] = df['Star_Rating'].str.split().str[0]\n",
        "df[\"Rating\"]=pd.to_numeric(df['Rating'],errors=\"coerce\").fillna(0)\n",
        "del df['Star_Rating']\n",
        "df[\"Price\"]=df['Price'].str.replace(',', '').str.replace('₹', '').astype(float)\n",
        "df.head()"
      ],
      "metadata": {
        "colab": {
          "base_uri": "https://localhost:8080/",
          "height": 441
        },
        "id": "KvbpzmLJqkRq",
        "outputId": "e7b43b88-ae19-450f-faa2-d705e0cfdd26"
      },
      "execution_count": null,
      "outputs": [
        {
          "output_type": "execute_result",
          "data": {
            "text/plain": [
              "                                           Book_Name       Author_Name  \\\n",
              "0           War of Lanka (Ram Chandra Series Book 4)    Amish Tripathi   \n",
              "1           Harry Potter and the Philosopher's Stone      J.K. Rowling   \n",
              "2                                 THE SILENT PATIENT  Alex Michaelides   \n",
              "3  தீயில் தென்றலாய் உறவிதுவோ: theeyil thendralaai...           Missing   \n",
              "4           War Of Lanka (Ram Chandra Series Book 4)    Amish Tripathi   \n",
              "\n",
              "                                            Book_URL    Edition_Type   Price  \\\n",
              "0  https://amazon.in/War-Lanka-Ram-Chandra-Book/d...       Paperback  288.00   \n",
              "1  https://amazon.in/Harry-Potter-Philosophers-St...  Kindle Edition  251.75   \n",
              "2  https://amazon.in/Silent-Patient-Alex-Michaeli...       Paperback  189.00   \n",
              "3  https://amazon.in/%E0%AE%A4%E0%AF%80%E0%AE%AF%...  Kindle Edition  199.00   \n",
              "4  https://amazon.in/War-Lanka-Ram-Chandra-Book-e...  Kindle Edition  273.60   \n",
              "\n",
              "    Reviews  Rating  \n",
              "0    1114.0     4.2  \n",
              "1   54197.0     4.7  \n",
              "2  133137.0     4.5  \n",
              "3       0.0     4.5  \n",
              "4    1114.0     4.2  "
            ],
            "text/html": [
              "\n",
              "  <div id=\"df-fa7a0a69-26c1-477c-86c9-eaf9c20343cf\">\n",
              "    <div class=\"colab-df-container\">\n",
              "      <div>\n",
              "<style scoped>\n",
              "    .dataframe tbody tr th:only-of-type {\n",
              "        vertical-align: middle;\n",
              "    }\n",
              "\n",
              "    .dataframe tbody tr th {\n",
              "        vertical-align: top;\n",
              "    }\n",
              "\n",
              "    .dataframe thead th {\n",
              "        text-align: right;\n",
              "    }\n",
              "</style>\n",
              "<table border=\"1\" class=\"dataframe\">\n",
              "  <thead>\n",
              "    <tr style=\"text-align: right;\">\n",
              "      <th></th>\n",
              "      <th>Book_Name</th>\n",
              "      <th>Author_Name</th>\n",
              "      <th>Book_URL</th>\n",
              "      <th>Edition_Type</th>\n",
              "      <th>Price</th>\n",
              "      <th>Reviews</th>\n",
              "      <th>Rating</th>\n",
              "    </tr>\n",
              "  </thead>\n",
              "  <tbody>\n",
              "    <tr>\n",
              "      <th>0</th>\n",
              "      <td>War of Lanka (Ram Chandra Series Book 4)</td>\n",
              "      <td>Amish Tripathi</td>\n",
              "      <td>https://amazon.in/War-Lanka-Ram-Chandra-Book/d...</td>\n",
              "      <td>Paperback</td>\n",
              "      <td>288.00</td>\n",
              "      <td>1114.0</td>\n",
              "      <td>4.2</td>\n",
              "    </tr>\n",
              "    <tr>\n",
              "      <th>1</th>\n",
              "      <td>Harry Potter and the Philosopher's Stone</td>\n",
              "      <td>J.K. Rowling</td>\n",
              "      <td>https://amazon.in/Harry-Potter-Philosophers-St...</td>\n",
              "      <td>Kindle Edition</td>\n",
              "      <td>251.75</td>\n",
              "      <td>54197.0</td>\n",
              "      <td>4.7</td>\n",
              "    </tr>\n",
              "    <tr>\n",
              "      <th>2</th>\n",
              "      <td>THE SILENT PATIENT</td>\n",
              "      <td>Alex Michaelides</td>\n",
              "      <td>https://amazon.in/Silent-Patient-Alex-Michaeli...</td>\n",
              "      <td>Paperback</td>\n",
              "      <td>189.00</td>\n",
              "      <td>133137.0</td>\n",
              "      <td>4.5</td>\n",
              "    </tr>\n",
              "    <tr>\n",
              "      <th>3</th>\n",
              "      <td>தீயில் தென்றலாய் உறவிதுவோ: theeyil thendralaai...</td>\n",
              "      <td>Missing</td>\n",
              "      <td>https://amazon.in/%E0%AE%A4%E0%AF%80%E0%AE%AF%...</td>\n",
              "      <td>Kindle Edition</td>\n",
              "      <td>199.00</td>\n",
              "      <td>0.0</td>\n",
              "      <td>4.5</td>\n",
              "    </tr>\n",
              "    <tr>\n",
              "      <th>4</th>\n",
              "      <td>War Of Lanka (Ram Chandra Series Book 4)</td>\n",
              "      <td>Amish Tripathi</td>\n",
              "      <td>https://amazon.in/War-Lanka-Ram-Chandra-Book-e...</td>\n",
              "      <td>Kindle Edition</td>\n",
              "      <td>273.60</td>\n",
              "      <td>1114.0</td>\n",
              "      <td>4.2</td>\n",
              "    </tr>\n",
              "  </tbody>\n",
              "</table>\n",
              "</div>\n",
              "      <button class=\"colab-df-convert\" onclick=\"convertToInteractive('df-fa7a0a69-26c1-477c-86c9-eaf9c20343cf')\"\n",
              "              title=\"Convert this dataframe to an interactive table.\"\n",
              "              style=\"display:none;\">\n",
              "        \n",
              "  <svg xmlns=\"http://www.w3.org/2000/svg\" height=\"24px\"viewBox=\"0 0 24 24\"\n",
              "       width=\"24px\">\n",
              "    <path d=\"M0 0h24v24H0V0z\" fill=\"none\"/>\n",
              "    <path d=\"M18.56 5.44l.94 2.06.94-2.06 2.06-.94-2.06-.94-.94-2.06-.94 2.06-2.06.94zm-11 1L8.5 8.5l.94-2.06 2.06-.94-2.06-.94L8.5 2.5l-.94 2.06-2.06.94zm10 10l.94 2.06.94-2.06 2.06-.94-2.06-.94-.94-2.06-.94 2.06-2.06.94z\"/><path d=\"M17.41 7.96l-1.37-1.37c-.4-.4-.92-.59-1.43-.59-.52 0-1.04.2-1.43.59L10.3 9.45l-7.72 7.72c-.78.78-.78 2.05 0 2.83L4 21.41c.39.39.9.59 1.41.59.51 0 1.02-.2 1.41-.59l7.78-7.78 2.81-2.81c.8-.78.8-2.07 0-2.86zM5.41 20L4 18.59l7.72-7.72 1.47 1.35L5.41 20z\"/>\n",
              "  </svg>\n",
              "      </button>\n",
              "      \n",
              "  <style>\n",
              "    .colab-df-container {\n",
              "      display:flex;\n",
              "      flex-wrap:wrap;\n",
              "      gap: 12px;\n",
              "    }\n",
              "\n",
              "    .colab-df-convert {\n",
              "      background-color: #E8F0FE;\n",
              "      border: none;\n",
              "      border-radius: 50%;\n",
              "      cursor: pointer;\n",
              "      display: none;\n",
              "      fill: #1967D2;\n",
              "      height: 32px;\n",
              "      padding: 0 0 0 0;\n",
              "      width: 32px;\n",
              "    }\n",
              "\n",
              "    .colab-df-convert:hover {\n",
              "      background-color: #E2EBFA;\n",
              "      box-shadow: 0px 1px 2px rgba(60, 64, 67, 0.3), 0px 1px 3px 1px rgba(60, 64, 67, 0.15);\n",
              "      fill: #174EA6;\n",
              "    }\n",
              "\n",
              "    [theme=dark] .colab-df-convert {\n",
              "      background-color: #3B4455;\n",
              "      fill: #D2E3FC;\n",
              "    }\n",
              "\n",
              "    [theme=dark] .colab-df-convert:hover {\n",
              "      background-color: #434B5C;\n",
              "      box-shadow: 0px 1px 3px 1px rgba(0, 0, 0, 0.15);\n",
              "      filter: drop-shadow(0px 1px 2px rgba(0, 0, 0, 0.3));\n",
              "      fill: #FFFFFF;\n",
              "    }\n",
              "  </style>\n",
              "\n",
              "      <script>\n",
              "        const buttonEl =\n",
              "          document.querySelector('#df-fa7a0a69-26c1-477c-86c9-eaf9c20343cf button.colab-df-convert');\n",
              "        buttonEl.style.display =\n",
              "          google.colab.kernel.accessAllowed ? 'block' : 'none';\n",
              "\n",
              "        async function convertToInteractive(key) {\n",
              "          const element = document.querySelector('#df-fa7a0a69-26c1-477c-86c9-eaf9c20343cf');\n",
              "          const dataTable =\n",
              "            await google.colab.kernel.invokeFunction('convertToInteractive',\n",
              "                                                     [key], {});\n",
              "          if (!dataTable) return;\n",
              "\n",
              "          const docLinkHtml = 'Like what you see? Visit the ' +\n",
              "            '<a target=\"_blank\" href=https://colab.research.google.com/notebooks/data_table.ipynb>data table notebook</a>'\n",
              "            + ' to learn more about interactive tables.';\n",
              "          element.innerHTML = '';\n",
              "          dataTable['output_type'] = 'display_data';\n",
              "          await google.colab.output.renderOutput(dataTable, element);\n",
              "          const docLink = document.createElement('div');\n",
              "          docLink.innerHTML = docLinkHtml;\n",
              "          element.appendChild(docLink);\n",
              "        }\n",
              "      </script>\n",
              "    </div>\n",
              "  </div>\n",
              "  "
            ]
          },
          "metadata": {},
          "execution_count": 15
        }
      ]
    },
    {
      "cell_type": "code",
      "source": [
        "df[\"Edition_Type\"].unique()"
      ],
      "metadata": {
        "colab": {
          "base_uri": "https://localhost:8080/"
        },
        "id": "ACckC5eTqoNC",
        "outputId": "816e5561-c009-443f-db28-795e8f489371"
      },
      "execution_count": null,
      "outputs": [
        {
          "output_type": "execute_result",
          "data": {
            "text/plain": [
              "array(['Paperback', 'Kindle Edition', 'Audible Audiobook', 'Hardcover'],\n",
              "      dtype=object)"
            ]
          },
          "metadata": {},
          "execution_count": 18
        }
      ]
    },
    {
      "cell_type": "markdown",
      "source": [
        "**#1 Hardcover**"
      ],
      "metadata": {
        "id": "JrLJF_g4qsa8"
      }
    },
    {
      "cell_type": "code",
      "source": [
        "data=df[df[\"Edition_Type\"]==\"Hardcover\"]\n",
        "data = data.sort_values([\"Reviews\"], axis=0, ascending=False)[:20]\n",
        "data=data.sort_values([\"Rating\"],axis=0,ascending=False)[:20]\n",
        "data= data.drop_duplicates(subset=\"Author_Name\", keep=\"first\")\n",
        "data.head(1)"
      ],
      "metadata": {
        "colab": {
          "base_uri": "https://localhost:8080/",
          "height": 81
        },
        "id": "7Bqhgqaxqrdn",
        "outputId": "7a214c71-abf8-440f-ff2c-9c4ded08b450"
      },
      "execution_count": null,
      "outputs": [
        {
          "output_type": "execute_result",
          "data": {
            "text/plain": [
              "             Book_Name        Author_Name  \\\n",
              "34  Cinema Speculation  Quentin Tarantino   \n",
              "\n",
              "                                             Book_URL Edition_Type  Price  \\\n",
              "34  https://amazon.in/QT-Non-fiction-Quentin-Taran...    Hardcover  877.0   \n",
              "\n",
              "    Reviews  Rating  \n",
              "34      7.0     4.6  "
            ],
            "text/html": [
              "\n",
              "  <div id=\"df-d792c1b9-ca20-4e16-b272-2d3df8ca3886\">\n",
              "    <div class=\"colab-df-container\">\n",
              "      <div>\n",
              "<style scoped>\n",
              "    .dataframe tbody tr th:only-of-type {\n",
              "        vertical-align: middle;\n",
              "    }\n",
              "\n",
              "    .dataframe tbody tr th {\n",
              "        vertical-align: top;\n",
              "    }\n",
              "\n",
              "    .dataframe thead th {\n",
              "        text-align: right;\n",
              "    }\n",
              "</style>\n",
              "<table border=\"1\" class=\"dataframe\">\n",
              "  <thead>\n",
              "    <tr style=\"text-align: right;\">\n",
              "      <th></th>\n",
              "      <th>Book_Name</th>\n",
              "      <th>Author_Name</th>\n",
              "      <th>Book_URL</th>\n",
              "      <th>Edition_Type</th>\n",
              "      <th>Price</th>\n",
              "      <th>Reviews</th>\n",
              "      <th>Rating</th>\n",
              "    </tr>\n",
              "  </thead>\n",
              "  <tbody>\n",
              "    <tr>\n",
              "      <th>34</th>\n",
              "      <td>Cinema Speculation</td>\n",
              "      <td>Quentin Tarantino</td>\n",
              "      <td>https://amazon.in/QT-Non-fiction-Quentin-Taran...</td>\n",
              "      <td>Hardcover</td>\n",
              "      <td>877.0</td>\n",
              "      <td>7.0</td>\n",
              "      <td>4.6</td>\n",
              "    </tr>\n",
              "  </tbody>\n",
              "</table>\n",
              "</div>\n",
              "      <button class=\"colab-df-convert\" onclick=\"convertToInteractive('df-d792c1b9-ca20-4e16-b272-2d3df8ca3886')\"\n",
              "              title=\"Convert this dataframe to an interactive table.\"\n",
              "              style=\"display:none;\">\n",
              "        \n",
              "  <svg xmlns=\"http://www.w3.org/2000/svg\" height=\"24px\"viewBox=\"0 0 24 24\"\n",
              "       width=\"24px\">\n",
              "    <path d=\"M0 0h24v24H0V0z\" fill=\"none\"/>\n",
              "    <path d=\"M18.56 5.44l.94 2.06.94-2.06 2.06-.94-2.06-.94-.94-2.06-.94 2.06-2.06.94zm-11 1L8.5 8.5l.94-2.06 2.06-.94-2.06-.94L8.5 2.5l-.94 2.06-2.06.94zm10 10l.94 2.06.94-2.06 2.06-.94-2.06-.94-.94-2.06-.94 2.06-2.06.94z\"/><path d=\"M17.41 7.96l-1.37-1.37c-.4-.4-.92-.59-1.43-.59-.52 0-1.04.2-1.43.59L10.3 9.45l-7.72 7.72c-.78.78-.78 2.05 0 2.83L4 21.41c.39.39.9.59 1.41.59.51 0 1.02-.2 1.41-.59l7.78-7.78 2.81-2.81c.8-.78.8-2.07 0-2.86zM5.41 20L4 18.59l7.72-7.72 1.47 1.35L5.41 20z\"/>\n",
              "  </svg>\n",
              "      </button>\n",
              "      \n",
              "  <style>\n",
              "    .colab-df-container {\n",
              "      display:flex;\n",
              "      flex-wrap:wrap;\n",
              "      gap: 12px;\n",
              "    }\n",
              "\n",
              "    .colab-df-convert {\n",
              "      background-color: #E8F0FE;\n",
              "      border: none;\n",
              "      border-radius: 50%;\n",
              "      cursor: pointer;\n",
              "      display: none;\n",
              "      fill: #1967D2;\n",
              "      height: 32px;\n",
              "      padding: 0 0 0 0;\n",
              "      width: 32px;\n",
              "    }\n",
              "\n",
              "    .colab-df-convert:hover {\n",
              "      background-color: #E2EBFA;\n",
              "      box-shadow: 0px 1px 2px rgba(60, 64, 67, 0.3), 0px 1px 3px 1px rgba(60, 64, 67, 0.15);\n",
              "      fill: #174EA6;\n",
              "    }\n",
              "\n",
              "    [theme=dark] .colab-df-convert {\n",
              "      background-color: #3B4455;\n",
              "      fill: #D2E3FC;\n",
              "    }\n",
              "\n",
              "    [theme=dark] .colab-df-convert:hover {\n",
              "      background-color: #434B5C;\n",
              "      box-shadow: 0px 1px 3px 1px rgba(0, 0, 0, 0.15);\n",
              "      filter: drop-shadow(0px 1px 2px rgba(0, 0, 0, 0.3));\n",
              "      fill: #FFFFFF;\n",
              "    }\n",
              "  </style>\n",
              "\n",
              "      <script>\n",
              "        const buttonEl =\n",
              "          document.querySelector('#df-d792c1b9-ca20-4e16-b272-2d3df8ca3886 button.colab-df-convert');\n",
              "        buttonEl.style.display =\n",
              "          google.colab.kernel.accessAllowed ? 'block' : 'none';\n",
              "\n",
              "        async function convertToInteractive(key) {\n",
              "          const element = document.querySelector('#df-d792c1b9-ca20-4e16-b272-2d3df8ca3886');\n",
              "          const dataTable =\n",
              "            await google.colab.kernel.invokeFunction('convertToInteractive',\n",
              "                                                     [key], {});\n",
              "          if (!dataTable) return;\n",
              "\n",
              "          const docLinkHtml = 'Like what you see? Visit the ' +\n",
              "            '<a target=\"_blank\" href=https://colab.research.google.com/notebooks/data_table.ipynb>data table notebook</a>'\n",
              "            + ' to learn more about interactive tables.';\n",
              "          element.innerHTML = '';\n",
              "          dataTable['output_type'] = 'display_data';\n",
              "          await google.colab.output.renderOutput(dataTable, element);\n",
              "          const docLink = document.createElement('div');\n",
              "          docLink.innerHTML = docLinkHtml;\n",
              "          element.appendChild(docLink);\n",
              "        }\n",
              "      </script>\n",
              "    </div>\n",
              "  </div>\n",
              "  "
            ]
          },
          "metadata": {},
          "execution_count": 19
        }
      ]
    },
    {
      "cell_type": "markdown",
      "source": [
        "**#1 Audiobook**"
      ],
      "metadata": {
        "id": "KEhKqslUqxSM"
      }
    },
    {
      "cell_type": "code",
      "source": [
        "data=df[df[\"Edition_Type\"]==\"Audible Audiobook\"]\n",
        "data = data.sort_values([\"Reviews\"], axis=0, ascending=False)[:20]\n",
        "data=data.sort_values([\"Rating\"],axis=0,ascending=False)[:20]\n",
        "data= data.drop_duplicates(subset=\"Author_Name\", keep=\"first\")\n",
        "data.head(1)"
      ],
      "metadata": {
        "colab": {
          "base_uri": "https://localhost:8080/",
          "height": 142
        },
        "id": "Qt4DGXBCqz4E",
        "outputId": "d1d83355-3669-4939-ff4c-92aa014d7307"
      },
      "execution_count": null,
      "outputs": [
        {
          "output_type": "execute_result",
          "data": {
            "text/plain": [
              "                                            Book_Name Author_Name  \\\n",
              "26  A Game of Thrones: Book 1 of A Song of Ice and...     Missing   \n",
              "\n",
              "                                             Book_URL       Edition_Type  \\\n",
              "26  https://amazon.in/Game-Thrones-Book-Song-Fire/...  Audible Audiobook   \n",
              "\n",
              "     Price  Reviews  Rating  \n",
              "26  1025.0      0.0     4.6  "
            ],
            "text/html": [
              "\n",
              "  <div id=\"df-2ab53970-38c9-4849-bbf1-6fb62e67cf8b\">\n",
              "    <div class=\"colab-df-container\">\n",
              "      <div>\n",
              "<style scoped>\n",
              "    .dataframe tbody tr th:only-of-type {\n",
              "        vertical-align: middle;\n",
              "    }\n",
              "\n",
              "    .dataframe tbody tr th {\n",
              "        vertical-align: top;\n",
              "    }\n",
              "\n",
              "    .dataframe thead th {\n",
              "        text-align: right;\n",
              "    }\n",
              "</style>\n",
              "<table border=\"1\" class=\"dataframe\">\n",
              "  <thead>\n",
              "    <tr style=\"text-align: right;\">\n",
              "      <th></th>\n",
              "      <th>Book_Name</th>\n",
              "      <th>Author_Name</th>\n",
              "      <th>Book_URL</th>\n",
              "      <th>Edition_Type</th>\n",
              "      <th>Price</th>\n",
              "      <th>Reviews</th>\n",
              "      <th>Rating</th>\n",
              "    </tr>\n",
              "  </thead>\n",
              "  <tbody>\n",
              "    <tr>\n",
              "      <th>26</th>\n",
              "      <td>A Game of Thrones: Book 1 of A Song of Ice and...</td>\n",
              "      <td>Missing</td>\n",
              "      <td>https://amazon.in/Game-Thrones-Book-Song-Fire/...</td>\n",
              "      <td>Audible Audiobook</td>\n",
              "      <td>1025.0</td>\n",
              "      <td>0.0</td>\n",
              "      <td>4.6</td>\n",
              "    </tr>\n",
              "  </tbody>\n",
              "</table>\n",
              "</div>\n",
              "      <button class=\"colab-df-convert\" onclick=\"convertToInteractive('df-2ab53970-38c9-4849-bbf1-6fb62e67cf8b')\"\n",
              "              title=\"Convert this dataframe to an interactive table.\"\n",
              "              style=\"display:none;\">\n",
              "        \n",
              "  <svg xmlns=\"http://www.w3.org/2000/svg\" height=\"24px\"viewBox=\"0 0 24 24\"\n",
              "       width=\"24px\">\n",
              "    <path d=\"M0 0h24v24H0V0z\" fill=\"none\"/>\n",
              "    <path d=\"M18.56 5.44l.94 2.06.94-2.06 2.06-.94-2.06-.94-.94-2.06-.94 2.06-2.06.94zm-11 1L8.5 8.5l.94-2.06 2.06-.94-2.06-.94L8.5 2.5l-.94 2.06-2.06.94zm10 10l.94 2.06.94-2.06 2.06-.94-2.06-.94-.94-2.06-.94 2.06-2.06.94z\"/><path d=\"M17.41 7.96l-1.37-1.37c-.4-.4-.92-.59-1.43-.59-.52 0-1.04.2-1.43.59L10.3 9.45l-7.72 7.72c-.78.78-.78 2.05 0 2.83L4 21.41c.39.39.9.59 1.41.59.51 0 1.02-.2 1.41-.59l7.78-7.78 2.81-2.81c.8-.78.8-2.07 0-2.86zM5.41 20L4 18.59l7.72-7.72 1.47 1.35L5.41 20z\"/>\n",
              "  </svg>\n",
              "      </button>\n",
              "      \n",
              "  <style>\n",
              "    .colab-df-container {\n",
              "      display:flex;\n",
              "      flex-wrap:wrap;\n",
              "      gap: 12px;\n",
              "    }\n",
              "\n",
              "    .colab-df-convert {\n",
              "      background-color: #E8F0FE;\n",
              "      border: none;\n",
              "      border-radius: 50%;\n",
              "      cursor: pointer;\n",
              "      display: none;\n",
              "      fill: #1967D2;\n",
              "      height: 32px;\n",
              "      padding: 0 0 0 0;\n",
              "      width: 32px;\n",
              "    }\n",
              "\n",
              "    .colab-df-convert:hover {\n",
              "      background-color: #E2EBFA;\n",
              "      box-shadow: 0px 1px 2px rgba(60, 64, 67, 0.3), 0px 1px 3px 1px rgba(60, 64, 67, 0.15);\n",
              "      fill: #174EA6;\n",
              "    }\n",
              "\n",
              "    [theme=dark] .colab-df-convert {\n",
              "      background-color: #3B4455;\n",
              "      fill: #D2E3FC;\n",
              "    }\n",
              "\n",
              "    [theme=dark] .colab-df-convert:hover {\n",
              "      background-color: #434B5C;\n",
              "      box-shadow: 0px 1px 3px 1px rgba(0, 0, 0, 0.15);\n",
              "      filter: drop-shadow(0px 1px 2px rgba(0, 0, 0, 0.3));\n",
              "      fill: #FFFFFF;\n",
              "    }\n",
              "  </style>\n",
              "\n",
              "      <script>\n",
              "        const buttonEl =\n",
              "          document.querySelector('#df-2ab53970-38c9-4849-bbf1-6fb62e67cf8b button.colab-df-convert');\n",
              "        buttonEl.style.display =\n",
              "          google.colab.kernel.accessAllowed ? 'block' : 'none';\n",
              "\n",
              "        async function convertToInteractive(key) {\n",
              "          const element = document.querySelector('#df-2ab53970-38c9-4849-bbf1-6fb62e67cf8b');\n",
              "          const dataTable =\n",
              "            await google.colab.kernel.invokeFunction('convertToInteractive',\n",
              "                                                     [key], {});\n",
              "          if (!dataTable) return;\n",
              "\n",
              "          const docLinkHtml = 'Like what you see? Visit the ' +\n",
              "            '<a target=\"_blank\" href=https://colab.research.google.com/notebooks/data_table.ipynb>data table notebook</a>'\n",
              "            + ' to learn more about interactive tables.';\n",
              "          element.innerHTML = '';\n",
              "          dataTable['output_type'] = 'display_data';\n",
              "          await google.colab.output.renderOutput(dataTable, element);\n",
              "          const docLink = document.createElement('div');\n",
              "          docLink.innerHTML = docLinkHtml;\n",
              "          element.appendChild(docLink);\n",
              "        }\n",
              "      </script>\n",
              "    </div>\n",
              "  </div>\n",
              "  "
            ]
          },
          "metadata": {},
          "execution_count": 20
        }
      ]
    },
    {
      "cell_type": "markdown",
      "source": [
        "**#1 Paperback**"
      ],
      "metadata": {
        "id": "6MNA8x9lq3PY"
      }
    },
    {
      "cell_type": "code",
      "source": [
        "data=df[df[\"Edition_Type\"]==\"Paperback\"]\n",
        "data = data.sort_values([\"Reviews\"], axis=0, ascending=False)[:20]\n",
        "data=data.sort_values([\"Rating\"],axis=0,ascending=False)[:20]\n",
        "data= data.drop_duplicates(subset=\"Author_Name\", keep=\"first\")\n",
        "data.head(1)"
      ],
      "metadata": {
        "colab": {
          "base_uri": "https://localhost:8080/",
          "height": 142
        },
        "id": "z11MfYD9q75p",
        "outputId": "3f5474dd-d3bc-455a-a84c-498783c885f3"
      },
      "execution_count": null,
      "outputs": [
        {
          "output_type": "execute_result",
          "data": {
            "text/plain": [
              "                                            Book_Name Author_Name  \\\n",
              "49  Project Hail Mary: From the bestselling author...   Andy Weir   \n",
              "\n",
              "                                             Book_URL Edition_Type  Price  \\\n",
              "49  https://amazon.in/Project-Hail-Mary-bestsellin...    Paperback  398.0   \n",
              "\n",
              "    Reviews  Rating  \n",
              "49  84969.0     4.7  "
            ],
            "text/html": [
              "\n",
              "  <div id=\"df-e3c189aa-4011-466b-bf8f-ddf87d1e1ae3\">\n",
              "    <div class=\"colab-df-container\">\n",
              "      <div>\n",
              "<style scoped>\n",
              "    .dataframe tbody tr th:only-of-type {\n",
              "        vertical-align: middle;\n",
              "    }\n",
              "\n",
              "    .dataframe tbody tr th {\n",
              "        vertical-align: top;\n",
              "    }\n",
              "\n",
              "    .dataframe thead th {\n",
              "        text-align: right;\n",
              "    }\n",
              "</style>\n",
              "<table border=\"1\" class=\"dataframe\">\n",
              "  <thead>\n",
              "    <tr style=\"text-align: right;\">\n",
              "      <th></th>\n",
              "      <th>Book_Name</th>\n",
              "      <th>Author_Name</th>\n",
              "      <th>Book_URL</th>\n",
              "      <th>Edition_Type</th>\n",
              "      <th>Price</th>\n",
              "      <th>Reviews</th>\n",
              "      <th>Rating</th>\n",
              "    </tr>\n",
              "  </thead>\n",
              "  <tbody>\n",
              "    <tr>\n",
              "      <th>49</th>\n",
              "      <td>Project Hail Mary: From the bestselling author...</td>\n",
              "      <td>Andy Weir</td>\n",
              "      <td>https://amazon.in/Project-Hail-Mary-bestsellin...</td>\n",
              "      <td>Paperback</td>\n",
              "      <td>398.0</td>\n",
              "      <td>84969.0</td>\n",
              "      <td>4.7</td>\n",
              "    </tr>\n",
              "  </tbody>\n",
              "</table>\n",
              "</div>\n",
              "      <button class=\"colab-df-convert\" onclick=\"convertToInteractive('df-e3c189aa-4011-466b-bf8f-ddf87d1e1ae3')\"\n",
              "              title=\"Convert this dataframe to an interactive table.\"\n",
              "              style=\"display:none;\">\n",
              "        \n",
              "  <svg xmlns=\"http://www.w3.org/2000/svg\" height=\"24px\"viewBox=\"0 0 24 24\"\n",
              "       width=\"24px\">\n",
              "    <path d=\"M0 0h24v24H0V0z\" fill=\"none\"/>\n",
              "    <path d=\"M18.56 5.44l.94 2.06.94-2.06 2.06-.94-2.06-.94-.94-2.06-.94 2.06-2.06.94zm-11 1L8.5 8.5l.94-2.06 2.06-.94-2.06-.94L8.5 2.5l-.94 2.06-2.06.94zm10 10l.94 2.06.94-2.06 2.06-.94-2.06-.94-.94-2.06-.94 2.06-2.06.94z\"/><path d=\"M17.41 7.96l-1.37-1.37c-.4-.4-.92-.59-1.43-.59-.52 0-1.04.2-1.43.59L10.3 9.45l-7.72 7.72c-.78.78-.78 2.05 0 2.83L4 21.41c.39.39.9.59 1.41.59.51 0 1.02-.2 1.41-.59l7.78-7.78 2.81-2.81c.8-.78.8-2.07 0-2.86zM5.41 20L4 18.59l7.72-7.72 1.47 1.35L5.41 20z\"/>\n",
              "  </svg>\n",
              "      </button>\n",
              "      \n",
              "  <style>\n",
              "    .colab-df-container {\n",
              "      display:flex;\n",
              "      flex-wrap:wrap;\n",
              "      gap: 12px;\n",
              "    }\n",
              "\n",
              "    .colab-df-convert {\n",
              "      background-color: #E8F0FE;\n",
              "      border: none;\n",
              "      border-radius: 50%;\n",
              "      cursor: pointer;\n",
              "      display: none;\n",
              "      fill: #1967D2;\n",
              "      height: 32px;\n",
              "      padding: 0 0 0 0;\n",
              "      width: 32px;\n",
              "    }\n",
              "\n",
              "    .colab-df-convert:hover {\n",
              "      background-color: #E2EBFA;\n",
              "      box-shadow: 0px 1px 2px rgba(60, 64, 67, 0.3), 0px 1px 3px 1px rgba(60, 64, 67, 0.15);\n",
              "      fill: #174EA6;\n",
              "    }\n",
              "\n",
              "    [theme=dark] .colab-df-convert {\n",
              "      background-color: #3B4455;\n",
              "      fill: #D2E3FC;\n",
              "    }\n",
              "\n",
              "    [theme=dark] .colab-df-convert:hover {\n",
              "      background-color: #434B5C;\n",
              "      box-shadow: 0px 1px 3px 1px rgba(0, 0, 0, 0.15);\n",
              "      filter: drop-shadow(0px 1px 2px rgba(0, 0, 0, 0.3));\n",
              "      fill: #FFFFFF;\n",
              "    }\n",
              "  </style>\n",
              "\n",
              "      <script>\n",
              "        const buttonEl =\n",
              "          document.querySelector('#df-e3c189aa-4011-466b-bf8f-ddf87d1e1ae3 button.colab-df-convert');\n",
              "        buttonEl.style.display =\n",
              "          google.colab.kernel.accessAllowed ? 'block' : 'none';\n",
              "\n",
              "        async function convertToInteractive(key) {\n",
              "          const element = document.querySelector('#df-e3c189aa-4011-466b-bf8f-ddf87d1e1ae3');\n",
              "          const dataTable =\n",
              "            await google.colab.kernel.invokeFunction('convertToInteractive',\n",
              "                                                     [key], {});\n",
              "          if (!dataTable) return;\n",
              "\n",
              "          const docLinkHtml = 'Like what you see? Visit the ' +\n",
              "            '<a target=\"_blank\" href=https://colab.research.google.com/notebooks/data_table.ipynb>data table notebook</a>'\n",
              "            + ' to learn more about interactive tables.';\n",
              "          element.innerHTML = '';\n",
              "          dataTable['output_type'] = 'display_data';\n",
              "          await google.colab.output.renderOutput(dataTable, element);\n",
              "          const docLink = document.createElement('div');\n",
              "          docLink.innerHTML = docLinkHtml;\n",
              "          element.appendChild(docLink);\n",
              "        }\n",
              "      </script>\n",
              "    </div>\n",
              "  </div>\n",
              "  "
            ]
          },
          "metadata": {},
          "execution_count": 21
        }
      ]
    },
    {
      "cell_type": "markdown",
      "source": [
        "**#1 Kindle**"
      ],
      "metadata": {
        "id": "TSqo45KGq8s_"
      }
    },
    {
      "cell_type": "code",
      "source": [
        "data=df[df[\"Edition_Type\"]==\"Kindle Edition\"]\n",
        "data = data.sort_values([\"Reviews\"], axis=0, ascending=False)[:20]\n",
        "data=data.sort_values([\"Rating\"],axis=0,ascending=False)[:20]\n",
        "data= data.drop_duplicates(subset=\"Author_Name\", keep=\"first\")\n",
        "data.head(1)"
      ],
      "metadata": {
        "colab": {
          "base_uri": "https://localhost:8080/",
          "height": 142
        },
        "id": "kNfPSoBsq-kp",
        "outputId": "0b647923-e930-4050-97cc-26751f98b480"
      },
      "execution_count": null,
      "outputs": [
        {
          "output_type": "execute_result",
          "data": {
            "text/plain": [
              "                                  Book_Name   Author_Name  \\\n",
              "1  Harry Potter and the Philosopher's Stone  J.K. Rowling   \n",
              "\n",
              "                                            Book_URL    Edition_Type   Price  \\\n",
              "1  https://amazon.in/Harry-Potter-Philosophers-St...  Kindle Edition  251.75   \n",
              "\n",
              "   Reviews  Rating  \n",
              "1  54197.0     4.7  "
            ],
            "text/html": [
              "\n",
              "  <div id=\"df-e84080f8-e98e-4b48-b576-6275a47b6cd8\">\n",
              "    <div class=\"colab-df-container\">\n",
              "      <div>\n",
              "<style scoped>\n",
              "    .dataframe tbody tr th:only-of-type {\n",
              "        vertical-align: middle;\n",
              "    }\n",
              "\n",
              "    .dataframe tbody tr th {\n",
              "        vertical-align: top;\n",
              "    }\n",
              "\n",
              "    .dataframe thead th {\n",
              "        text-align: right;\n",
              "    }\n",
              "</style>\n",
              "<table border=\"1\" class=\"dataframe\">\n",
              "  <thead>\n",
              "    <tr style=\"text-align: right;\">\n",
              "      <th></th>\n",
              "      <th>Book_Name</th>\n",
              "      <th>Author_Name</th>\n",
              "      <th>Book_URL</th>\n",
              "      <th>Edition_Type</th>\n",
              "      <th>Price</th>\n",
              "      <th>Reviews</th>\n",
              "      <th>Rating</th>\n",
              "    </tr>\n",
              "  </thead>\n",
              "  <tbody>\n",
              "    <tr>\n",
              "      <th>1</th>\n",
              "      <td>Harry Potter and the Philosopher's Stone</td>\n",
              "      <td>J.K. Rowling</td>\n",
              "      <td>https://amazon.in/Harry-Potter-Philosophers-St...</td>\n",
              "      <td>Kindle Edition</td>\n",
              "      <td>251.75</td>\n",
              "      <td>54197.0</td>\n",
              "      <td>4.7</td>\n",
              "    </tr>\n",
              "  </tbody>\n",
              "</table>\n",
              "</div>\n",
              "      <button class=\"colab-df-convert\" onclick=\"convertToInteractive('df-e84080f8-e98e-4b48-b576-6275a47b6cd8')\"\n",
              "              title=\"Convert this dataframe to an interactive table.\"\n",
              "              style=\"display:none;\">\n",
              "        \n",
              "  <svg xmlns=\"http://www.w3.org/2000/svg\" height=\"24px\"viewBox=\"0 0 24 24\"\n",
              "       width=\"24px\">\n",
              "    <path d=\"M0 0h24v24H0V0z\" fill=\"none\"/>\n",
              "    <path d=\"M18.56 5.44l.94 2.06.94-2.06 2.06-.94-2.06-.94-.94-2.06-.94 2.06-2.06.94zm-11 1L8.5 8.5l.94-2.06 2.06-.94-2.06-.94L8.5 2.5l-.94 2.06-2.06.94zm10 10l.94 2.06.94-2.06 2.06-.94-2.06-.94-.94-2.06-.94 2.06-2.06.94z\"/><path d=\"M17.41 7.96l-1.37-1.37c-.4-.4-.92-.59-1.43-.59-.52 0-1.04.2-1.43.59L10.3 9.45l-7.72 7.72c-.78.78-.78 2.05 0 2.83L4 21.41c.39.39.9.59 1.41.59.51 0 1.02-.2 1.41-.59l7.78-7.78 2.81-2.81c.8-.78.8-2.07 0-2.86zM5.41 20L4 18.59l7.72-7.72 1.47 1.35L5.41 20z\"/>\n",
              "  </svg>\n",
              "      </button>\n",
              "      \n",
              "  <style>\n",
              "    .colab-df-container {\n",
              "      display:flex;\n",
              "      flex-wrap:wrap;\n",
              "      gap: 12px;\n",
              "    }\n",
              "\n",
              "    .colab-df-convert {\n",
              "      background-color: #E8F0FE;\n",
              "      border: none;\n",
              "      border-radius: 50%;\n",
              "      cursor: pointer;\n",
              "      display: none;\n",
              "      fill: #1967D2;\n",
              "      height: 32px;\n",
              "      padding: 0 0 0 0;\n",
              "      width: 32px;\n",
              "    }\n",
              "\n",
              "    .colab-df-convert:hover {\n",
              "      background-color: #E2EBFA;\n",
              "      box-shadow: 0px 1px 2px rgba(60, 64, 67, 0.3), 0px 1px 3px 1px rgba(60, 64, 67, 0.15);\n",
              "      fill: #174EA6;\n",
              "    }\n",
              "\n",
              "    [theme=dark] .colab-df-convert {\n",
              "      background-color: #3B4455;\n",
              "      fill: #D2E3FC;\n",
              "    }\n",
              "\n",
              "    [theme=dark] .colab-df-convert:hover {\n",
              "      background-color: #434B5C;\n",
              "      box-shadow: 0px 1px 3px 1px rgba(0, 0, 0, 0.15);\n",
              "      filter: drop-shadow(0px 1px 2px rgba(0, 0, 0, 0.3));\n",
              "      fill: #FFFFFF;\n",
              "    }\n",
              "  </style>\n",
              "\n",
              "      <script>\n",
              "        const buttonEl =\n",
              "          document.querySelector('#df-e84080f8-e98e-4b48-b576-6275a47b6cd8 button.colab-df-convert');\n",
              "        buttonEl.style.display =\n",
              "          google.colab.kernel.accessAllowed ? 'block' : 'none';\n",
              "\n",
              "        async function convertToInteractive(key) {\n",
              "          const element = document.querySelector('#df-e84080f8-e98e-4b48-b576-6275a47b6cd8');\n",
              "          const dataTable =\n",
              "            await google.colab.kernel.invokeFunction('convertToInteractive',\n",
              "                                                     [key], {});\n",
              "          if (!dataTable) return;\n",
              "\n",
              "          const docLinkHtml = 'Like what you see? Visit the ' +\n",
              "            '<a target=\"_blank\" href=https://colab.research.google.com/notebooks/data_table.ipynb>data table notebook</a>'\n",
              "            + ' to learn more about interactive tables.';\n",
              "          element.innerHTML = '';\n",
              "          dataTable['output_type'] = 'display_data';\n",
              "          await google.colab.output.renderOutput(dataTable, element);\n",
              "          const docLink = document.createElement('div');\n",
              "          docLink.innerHTML = docLinkHtml;\n",
              "          element.appendChild(docLink);\n",
              "        }\n",
              "      </script>\n",
              "    </div>\n",
              "  </div>\n",
              "  "
            ]
          },
          "metadata": {},
          "execution_count": 22
        }
      ]
    },
    {
      "cell_type": "markdown",
      "source": [
        "# Online Retail Store Analysis (The T in ETL) "
      ],
      "metadata": {
        "id": "iBbDcWlNf7Hp"
      }
    },
    {
      "cell_type": "markdown",
      "source": [
        "*Reading the dataset*"
      ],
      "metadata": {
        "id": "DxVswiLER1c9"
      }
    },
    {
      "cell_type": "code",
      "execution_count": null,
      "metadata": {
        "id": "g3pst-OwfxVI"
      },
      "outputs": [],
      "source": [
        "import pandas as pd\n",
        "cust=pd.read_csv(\"customers.csv\")\n",
        "ord=pd.read_csv(\"orders.csv\")\n",
        "prod=pd.read_csv(\"products.csv\")\n",
        "sales=pd.read_csv(\"sales.csv\")"
      ]
    },
    {
      "cell_type": "markdown",
      "source": [
        "*Merging the datasets to form one dataset*"
      ],
      "metadata": {
        "id": "wdV13Na9gMRJ"
      }
    },
    {
      "cell_type": "code",
      "source": [
        "cust_order = pd.merge(left=cust, right=ord,left_index=True, right_index=True)\n",
        "df = pd.merge(left=cust_order, right=prod,left_index=True, right_index=True)\n",
        "df4=df\n",
        "df3=df\n",
        "df5=df\n",
        "df4.head()"
      ],
      "metadata": {
        "colab": {
          "base_uri": "https://localhost:8080/",
          "height": 560
        },
        "id": "lGFcYUwBiS59",
        "outputId": "a0c8b73c-003f-43eb-9e32-b9e21b22ca7b"
      },
      "execution_count": null,
      "outputs": [
        {
          "output_type": "execute_result",
          "data": {
            "text/plain": [
              "   customer_id_x        customer_name       gender  age  \\\n",
              "0              1        Leanna Busson       Female   30   \n",
              "1              2  Zabrina Harrowsmith  Genderfluid   69   \n",
              "2              3      Shina Dullaghan   Polygender   59   \n",
              "3              4        Hewet McVitie     Bigender   67   \n",
              "4              5       Rubia Ashleigh   Polygender   30   \n",
              "\n",
              "                     home_address  zip_code               city  \\\n",
              "0  8606 Victoria TerraceSuite 560      5464      Johnstonhaven   \n",
              "1      8327 Kirlin SummitApt. 461      8223    New Zacharyfort   \n",
              "2       269 Gemma SummitSuite 109      5661           Aliburgh   \n",
              "3       743 Bailey GroveSuite 141      1729  South Justinhaven   \n",
              "4         48 Hyatt ManorSuite 375      4032     Griffithsshire   \n",
              "\n",
              "                          state    country  order_id  ...  order_date  \\\n",
              "0            Northern Territory  Australia         1  ...   2021-8-30   \n",
              "1               South Australia  Australia         2  ...    2021-2-3   \n",
              "2  Australian Capital Territory  Australia         3  ...   2021-10-8   \n",
              "3                    Queensland  Australia         4  ...    2021-5-6   \n",
              "4                    Queensland  Australia         5  ...   2021-3-23   \n",
              "\n",
              "   delivery_date product_ID product_type  product_name size colour price  \\\n",
              "0     2021-09-24          0        Shirt  Oxford Cloth   XS    red   114   \n",
              "1     2021-02-13          1        Shirt  Oxford Cloth    S    red   114   \n",
              "2     2021-11-03          2        Shirt  Oxford Cloth    M    red   114   \n",
              "3     2021-05-19          3        Shirt  Oxford Cloth    L    red   114   \n",
              "4     2021-03-24          4        Shirt  Oxford Cloth   XL    red   114   \n",
              "\n",
              "  quantity                                   description  \n",
              "0       66  A red coloured, XS sized, Oxford Cloth Shirt  \n",
              "1       53   A red coloured, S sized, Oxford Cloth Shirt  \n",
              "2       54   A red coloured, M sized, Oxford Cloth Shirt  \n",
              "3       69   A red coloured, L sized, Oxford Cloth Shirt  \n",
              "4       47  A red coloured, XL sized, Oxford Cloth Shirt  \n",
              "\n",
              "[5 rows x 22 columns]"
            ],
            "text/html": [
              "\n",
              "  <div id=\"df-adb25e2b-19bc-454d-afca-0af07703bdb8\">\n",
              "    <div class=\"colab-df-container\">\n",
              "      <div>\n",
              "<style scoped>\n",
              "    .dataframe tbody tr th:only-of-type {\n",
              "        vertical-align: middle;\n",
              "    }\n",
              "\n",
              "    .dataframe tbody tr th {\n",
              "        vertical-align: top;\n",
              "    }\n",
              "\n",
              "    .dataframe thead th {\n",
              "        text-align: right;\n",
              "    }\n",
              "</style>\n",
              "<table border=\"1\" class=\"dataframe\">\n",
              "  <thead>\n",
              "    <tr style=\"text-align: right;\">\n",
              "      <th></th>\n",
              "      <th>customer_id_x</th>\n",
              "      <th>customer_name</th>\n",
              "      <th>gender</th>\n",
              "      <th>age</th>\n",
              "      <th>home_address</th>\n",
              "      <th>zip_code</th>\n",
              "      <th>city</th>\n",
              "      <th>state</th>\n",
              "      <th>country</th>\n",
              "      <th>order_id</th>\n",
              "      <th>...</th>\n",
              "      <th>order_date</th>\n",
              "      <th>delivery_date</th>\n",
              "      <th>product_ID</th>\n",
              "      <th>product_type</th>\n",
              "      <th>product_name</th>\n",
              "      <th>size</th>\n",
              "      <th>colour</th>\n",
              "      <th>price</th>\n",
              "      <th>quantity</th>\n",
              "      <th>description</th>\n",
              "    </tr>\n",
              "  </thead>\n",
              "  <tbody>\n",
              "    <tr>\n",
              "      <th>0</th>\n",
              "      <td>1</td>\n",
              "      <td>Leanna Busson</td>\n",
              "      <td>Female</td>\n",
              "      <td>30</td>\n",
              "      <td>8606 Victoria TerraceSuite 560</td>\n",
              "      <td>5464</td>\n",
              "      <td>Johnstonhaven</td>\n",
              "      <td>Northern Territory</td>\n",
              "      <td>Australia</td>\n",
              "      <td>1</td>\n",
              "      <td>...</td>\n",
              "      <td>2021-8-30</td>\n",
              "      <td>2021-09-24</td>\n",
              "      <td>0</td>\n",
              "      <td>Shirt</td>\n",
              "      <td>Oxford Cloth</td>\n",
              "      <td>XS</td>\n",
              "      <td>red</td>\n",
              "      <td>114</td>\n",
              "      <td>66</td>\n",
              "      <td>A red coloured, XS sized, Oxford Cloth Shirt</td>\n",
              "    </tr>\n",
              "    <tr>\n",
              "      <th>1</th>\n",
              "      <td>2</td>\n",
              "      <td>Zabrina Harrowsmith</td>\n",
              "      <td>Genderfluid</td>\n",
              "      <td>69</td>\n",
              "      <td>8327 Kirlin SummitApt. 461</td>\n",
              "      <td>8223</td>\n",
              "      <td>New Zacharyfort</td>\n",
              "      <td>South Australia</td>\n",
              "      <td>Australia</td>\n",
              "      <td>2</td>\n",
              "      <td>...</td>\n",
              "      <td>2021-2-3</td>\n",
              "      <td>2021-02-13</td>\n",
              "      <td>1</td>\n",
              "      <td>Shirt</td>\n",
              "      <td>Oxford Cloth</td>\n",
              "      <td>S</td>\n",
              "      <td>red</td>\n",
              "      <td>114</td>\n",
              "      <td>53</td>\n",
              "      <td>A red coloured, S sized, Oxford Cloth Shirt</td>\n",
              "    </tr>\n",
              "    <tr>\n",
              "      <th>2</th>\n",
              "      <td>3</td>\n",
              "      <td>Shina Dullaghan</td>\n",
              "      <td>Polygender</td>\n",
              "      <td>59</td>\n",
              "      <td>269 Gemma SummitSuite 109</td>\n",
              "      <td>5661</td>\n",
              "      <td>Aliburgh</td>\n",
              "      <td>Australian Capital Territory</td>\n",
              "      <td>Australia</td>\n",
              "      <td>3</td>\n",
              "      <td>...</td>\n",
              "      <td>2021-10-8</td>\n",
              "      <td>2021-11-03</td>\n",
              "      <td>2</td>\n",
              "      <td>Shirt</td>\n",
              "      <td>Oxford Cloth</td>\n",
              "      <td>M</td>\n",
              "      <td>red</td>\n",
              "      <td>114</td>\n",
              "      <td>54</td>\n",
              "      <td>A red coloured, M sized, Oxford Cloth Shirt</td>\n",
              "    </tr>\n",
              "    <tr>\n",
              "      <th>3</th>\n",
              "      <td>4</td>\n",
              "      <td>Hewet McVitie</td>\n",
              "      <td>Bigender</td>\n",
              "      <td>67</td>\n",
              "      <td>743 Bailey GroveSuite 141</td>\n",
              "      <td>1729</td>\n",
              "      <td>South Justinhaven</td>\n",
              "      <td>Queensland</td>\n",
              "      <td>Australia</td>\n",
              "      <td>4</td>\n",
              "      <td>...</td>\n",
              "      <td>2021-5-6</td>\n",
              "      <td>2021-05-19</td>\n",
              "      <td>3</td>\n",
              "      <td>Shirt</td>\n",
              "      <td>Oxford Cloth</td>\n",
              "      <td>L</td>\n",
              "      <td>red</td>\n",
              "      <td>114</td>\n",
              "      <td>69</td>\n",
              "      <td>A red coloured, L sized, Oxford Cloth Shirt</td>\n",
              "    </tr>\n",
              "    <tr>\n",
              "      <th>4</th>\n",
              "      <td>5</td>\n",
              "      <td>Rubia Ashleigh</td>\n",
              "      <td>Polygender</td>\n",
              "      <td>30</td>\n",
              "      <td>48 Hyatt ManorSuite 375</td>\n",
              "      <td>4032</td>\n",
              "      <td>Griffithsshire</td>\n",
              "      <td>Queensland</td>\n",
              "      <td>Australia</td>\n",
              "      <td>5</td>\n",
              "      <td>...</td>\n",
              "      <td>2021-3-23</td>\n",
              "      <td>2021-03-24</td>\n",
              "      <td>4</td>\n",
              "      <td>Shirt</td>\n",
              "      <td>Oxford Cloth</td>\n",
              "      <td>XL</td>\n",
              "      <td>red</td>\n",
              "      <td>114</td>\n",
              "      <td>47</td>\n",
              "      <td>A red coloured, XL sized, Oxford Cloth Shirt</td>\n",
              "    </tr>\n",
              "  </tbody>\n",
              "</table>\n",
              "<p>5 rows × 22 columns</p>\n",
              "</div>\n",
              "      <button class=\"colab-df-convert\" onclick=\"convertToInteractive('df-adb25e2b-19bc-454d-afca-0af07703bdb8')\"\n",
              "              title=\"Convert this dataframe to an interactive table.\"\n",
              "              style=\"display:none;\">\n",
              "        \n",
              "  <svg xmlns=\"http://www.w3.org/2000/svg\" height=\"24px\"viewBox=\"0 0 24 24\"\n",
              "       width=\"24px\">\n",
              "    <path d=\"M0 0h24v24H0V0z\" fill=\"none\"/>\n",
              "    <path d=\"M18.56 5.44l.94 2.06.94-2.06 2.06-.94-2.06-.94-.94-2.06-.94 2.06-2.06.94zm-11 1L8.5 8.5l.94-2.06 2.06-.94-2.06-.94L8.5 2.5l-.94 2.06-2.06.94zm10 10l.94 2.06.94-2.06 2.06-.94-2.06-.94-.94-2.06-.94 2.06-2.06.94z\"/><path d=\"M17.41 7.96l-1.37-1.37c-.4-.4-.92-.59-1.43-.59-.52 0-1.04.2-1.43.59L10.3 9.45l-7.72 7.72c-.78.78-.78 2.05 0 2.83L4 21.41c.39.39.9.59 1.41.59.51 0 1.02-.2 1.41-.59l7.78-7.78 2.81-2.81c.8-.78.8-2.07 0-2.86zM5.41 20L4 18.59l7.72-7.72 1.47 1.35L5.41 20z\"/>\n",
              "  </svg>\n",
              "      </button>\n",
              "      \n",
              "  <style>\n",
              "    .colab-df-container {\n",
              "      display:flex;\n",
              "      flex-wrap:wrap;\n",
              "      gap: 12px;\n",
              "    }\n",
              "\n",
              "    .colab-df-convert {\n",
              "      background-color: #E8F0FE;\n",
              "      border: none;\n",
              "      border-radius: 50%;\n",
              "      cursor: pointer;\n",
              "      display: none;\n",
              "      fill: #1967D2;\n",
              "      height: 32px;\n",
              "      padding: 0 0 0 0;\n",
              "      width: 32px;\n",
              "    }\n",
              "\n",
              "    .colab-df-convert:hover {\n",
              "      background-color: #E2EBFA;\n",
              "      box-shadow: 0px 1px 2px rgba(60, 64, 67, 0.3), 0px 1px 3px 1px rgba(60, 64, 67, 0.15);\n",
              "      fill: #174EA6;\n",
              "    }\n",
              "\n",
              "    [theme=dark] .colab-df-convert {\n",
              "      background-color: #3B4455;\n",
              "      fill: #D2E3FC;\n",
              "    }\n",
              "\n",
              "    [theme=dark] .colab-df-convert:hover {\n",
              "      background-color: #434B5C;\n",
              "      box-shadow: 0px 1px 3px 1px rgba(0, 0, 0, 0.15);\n",
              "      filter: drop-shadow(0px 1px 2px rgba(0, 0, 0, 0.3));\n",
              "      fill: #FFFFFF;\n",
              "    }\n",
              "  </style>\n",
              "\n",
              "      <script>\n",
              "        const buttonEl =\n",
              "          document.querySelector('#df-adb25e2b-19bc-454d-afca-0af07703bdb8 button.colab-df-convert');\n",
              "        buttonEl.style.display =\n",
              "          google.colab.kernel.accessAllowed ? 'block' : 'none';\n",
              "\n",
              "        async function convertToInteractive(key) {\n",
              "          const element = document.querySelector('#df-adb25e2b-19bc-454d-afca-0af07703bdb8');\n",
              "          const dataTable =\n",
              "            await google.colab.kernel.invokeFunction('convertToInteractive',\n",
              "                                                     [key], {});\n",
              "          if (!dataTable) return;\n",
              "\n",
              "          const docLinkHtml = 'Like what you see? Visit the ' +\n",
              "            '<a target=\"_blank\" href=https://colab.research.google.com/notebooks/data_table.ipynb>data table notebook</a>'\n",
              "            + ' to learn more about interactive tables.';\n",
              "          element.innerHTML = '';\n",
              "          dataTable['output_type'] = 'display_data';\n",
              "          await google.colab.output.renderOutput(dataTable, element);\n",
              "          const docLink = document.createElement('div');\n",
              "          docLink.innerHTML = docLinkHtml;\n",
              "          element.appendChild(docLink);\n",
              "        }\n",
              "      </script>\n",
              "    </div>\n",
              "  </div>\n",
              "  "
            ]
          },
          "metadata": {},
          "execution_count": 79
        }
      ]
    },
    {
      "cell_type": "code",
      "source": [
        "df.info()"
      ],
      "metadata": {
        "colab": {
          "base_uri": "https://localhost:8080/"
        },
        "id": "TEz6-gTQjJZr",
        "outputId": "78772a71-92ad-4e23-d1c0-413b144e7e7d"
      },
      "execution_count": null,
      "outputs": [
        {
          "output_type": "stream",
          "name": "stdout",
          "text": [
            "<class 'pandas.core.frame.DataFrame'>\n",
            "Int64Index: 1000 entries, 0 to 999\n",
            "Data columns (total 22 columns):\n",
            " #   Column         Non-Null Count  Dtype \n",
            "---  ------         --------------  ----- \n",
            " 0   customer_id_x  1000 non-null   int64 \n",
            " 1   customer_name  1000 non-null   object\n",
            " 2   gender         1000 non-null   object\n",
            " 3   age            1000 non-null   int64 \n",
            " 4   home_address   1000 non-null   object\n",
            " 5   zip_code       1000 non-null   int64 \n",
            " 6   city           1000 non-null   object\n",
            " 7   state          1000 non-null   object\n",
            " 8   country        1000 non-null   object\n",
            " 9   order_id       1000 non-null   int64 \n",
            " 10  customer_id_y  1000 non-null   int64 \n",
            " 11  payment        1000 non-null   int64 \n",
            " 12  order_date     1000 non-null   object\n",
            " 13  delivery_date  1000 non-null   object\n",
            " 14  product_ID     1000 non-null   int64 \n",
            " 15  product_type   1000 non-null   object\n",
            " 16  product_name   1000 non-null   object\n",
            " 17  size           1000 non-null   object\n",
            " 18  colour         1000 non-null   object\n",
            " 19  price          1000 non-null   int64 \n",
            " 20  quantity       1000 non-null   int64 \n",
            " 21  description    1000 non-null   object\n",
            "dtypes: int64(9), object(13)\n",
            "memory usage: 179.7+ KB\n"
          ]
        }
      ]
    },
    {
      "cell_type": "code",
      "source": [
        "df.describe()"
      ],
      "metadata": {
        "colab": {
          "base_uri": "https://localhost:8080/",
          "height": 344
        },
        "id": "Cy8DQlTOjKHn",
        "outputId": "cd4085fb-f27e-4ba5-89af-d095cf312f29"
      },
      "execution_count": null,
      "outputs": [
        {
          "output_type": "execute_result",
          "data": {
            "text/plain": [
              "       customer_id_x          age     zip_code     order_id  customer_id_y  \\\n",
              "count    1000.000000  1000.000000  1000.000000  1000.000000    1000.000000   \n",
              "mean      500.500000    49.860000  5004.872000   500.500000     506.640000   \n",
              "std       288.819436    17.647828  2884.497332   288.819436     277.115502   \n",
              "min         1.000000    20.000000     2.000000     1.000000       1.000000   \n",
              "25%       250.750000    34.000000  2401.750000   250.750000     275.250000   \n",
              "50%       500.500000    50.000000  5083.000000   500.500000     515.000000   \n",
              "75%       750.250000    65.000000  7460.250000   750.250000     737.250000   \n",
              "max      1000.000000    80.000000  9998.000000  1000.000000    1000.000000   \n",
              "\n",
              "            payment   product_ID        price     quantity  \n",
              "count   1000.000000  1000.000000  1000.000000  1000.000000  \n",
              "mean   33972.936000   499.500000   108.095000    60.371000  \n",
              "std    14451.609047   288.819436     9.158048    11.606812  \n",
              "min    10043.000000     0.000000    90.000000    40.000000  \n",
              "25%    21329.250000   249.750000   102.000000    50.000000  \n",
              "50%    33697.500000   499.500000   112.000000    61.000000  \n",
              "75%    46249.000000   749.250000   115.000000    70.000000  \n",
              "max    59910.000000   999.000000   119.000000    80.000000  "
            ],
            "text/html": [
              "\n",
              "  <div id=\"df-5f570ed1-e575-4dd3-9ac0-32ccaf2952da\">\n",
              "    <div class=\"colab-df-container\">\n",
              "      <div>\n",
              "<style scoped>\n",
              "    .dataframe tbody tr th:only-of-type {\n",
              "        vertical-align: middle;\n",
              "    }\n",
              "\n",
              "    .dataframe tbody tr th {\n",
              "        vertical-align: top;\n",
              "    }\n",
              "\n",
              "    .dataframe thead th {\n",
              "        text-align: right;\n",
              "    }\n",
              "</style>\n",
              "<table border=\"1\" class=\"dataframe\">\n",
              "  <thead>\n",
              "    <tr style=\"text-align: right;\">\n",
              "      <th></th>\n",
              "      <th>customer_id_x</th>\n",
              "      <th>age</th>\n",
              "      <th>zip_code</th>\n",
              "      <th>order_id</th>\n",
              "      <th>customer_id_y</th>\n",
              "      <th>payment</th>\n",
              "      <th>product_ID</th>\n",
              "      <th>price</th>\n",
              "      <th>quantity</th>\n",
              "    </tr>\n",
              "  </thead>\n",
              "  <tbody>\n",
              "    <tr>\n",
              "      <th>count</th>\n",
              "      <td>1000.000000</td>\n",
              "      <td>1000.000000</td>\n",
              "      <td>1000.000000</td>\n",
              "      <td>1000.000000</td>\n",
              "      <td>1000.000000</td>\n",
              "      <td>1000.000000</td>\n",
              "      <td>1000.000000</td>\n",
              "      <td>1000.000000</td>\n",
              "      <td>1000.000000</td>\n",
              "    </tr>\n",
              "    <tr>\n",
              "      <th>mean</th>\n",
              "      <td>500.500000</td>\n",
              "      <td>49.860000</td>\n",
              "      <td>5004.872000</td>\n",
              "      <td>500.500000</td>\n",
              "      <td>506.640000</td>\n",
              "      <td>33972.936000</td>\n",
              "      <td>499.500000</td>\n",
              "      <td>108.095000</td>\n",
              "      <td>60.371000</td>\n",
              "    </tr>\n",
              "    <tr>\n",
              "      <th>std</th>\n",
              "      <td>288.819436</td>\n",
              "      <td>17.647828</td>\n",
              "      <td>2884.497332</td>\n",
              "      <td>288.819436</td>\n",
              "      <td>277.115502</td>\n",
              "      <td>14451.609047</td>\n",
              "      <td>288.819436</td>\n",
              "      <td>9.158048</td>\n",
              "      <td>11.606812</td>\n",
              "    </tr>\n",
              "    <tr>\n",
              "      <th>min</th>\n",
              "      <td>1.000000</td>\n",
              "      <td>20.000000</td>\n",
              "      <td>2.000000</td>\n",
              "      <td>1.000000</td>\n",
              "      <td>1.000000</td>\n",
              "      <td>10043.000000</td>\n",
              "      <td>0.000000</td>\n",
              "      <td>90.000000</td>\n",
              "      <td>40.000000</td>\n",
              "    </tr>\n",
              "    <tr>\n",
              "      <th>25%</th>\n",
              "      <td>250.750000</td>\n",
              "      <td>34.000000</td>\n",
              "      <td>2401.750000</td>\n",
              "      <td>250.750000</td>\n",
              "      <td>275.250000</td>\n",
              "      <td>21329.250000</td>\n",
              "      <td>249.750000</td>\n",
              "      <td>102.000000</td>\n",
              "      <td>50.000000</td>\n",
              "    </tr>\n",
              "    <tr>\n",
              "      <th>50%</th>\n",
              "      <td>500.500000</td>\n",
              "      <td>50.000000</td>\n",
              "      <td>5083.000000</td>\n",
              "      <td>500.500000</td>\n",
              "      <td>515.000000</td>\n",
              "      <td>33697.500000</td>\n",
              "      <td>499.500000</td>\n",
              "      <td>112.000000</td>\n",
              "      <td>61.000000</td>\n",
              "    </tr>\n",
              "    <tr>\n",
              "      <th>75%</th>\n",
              "      <td>750.250000</td>\n",
              "      <td>65.000000</td>\n",
              "      <td>7460.250000</td>\n",
              "      <td>750.250000</td>\n",
              "      <td>737.250000</td>\n",
              "      <td>46249.000000</td>\n",
              "      <td>749.250000</td>\n",
              "      <td>115.000000</td>\n",
              "      <td>70.000000</td>\n",
              "    </tr>\n",
              "    <tr>\n",
              "      <th>max</th>\n",
              "      <td>1000.000000</td>\n",
              "      <td>80.000000</td>\n",
              "      <td>9998.000000</td>\n",
              "      <td>1000.000000</td>\n",
              "      <td>1000.000000</td>\n",
              "      <td>59910.000000</td>\n",
              "      <td>999.000000</td>\n",
              "      <td>119.000000</td>\n",
              "      <td>80.000000</td>\n",
              "    </tr>\n",
              "  </tbody>\n",
              "</table>\n",
              "</div>\n",
              "      <button class=\"colab-df-convert\" onclick=\"convertToInteractive('df-5f570ed1-e575-4dd3-9ac0-32ccaf2952da')\"\n",
              "              title=\"Convert this dataframe to an interactive table.\"\n",
              "              style=\"display:none;\">\n",
              "        \n",
              "  <svg xmlns=\"http://www.w3.org/2000/svg\" height=\"24px\"viewBox=\"0 0 24 24\"\n",
              "       width=\"24px\">\n",
              "    <path d=\"M0 0h24v24H0V0z\" fill=\"none\"/>\n",
              "    <path d=\"M18.56 5.44l.94 2.06.94-2.06 2.06-.94-2.06-.94-.94-2.06-.94 2.06-2.06.94zm-11 1L8.5 8.5l.94-2.06 2.06-.94-2.06-.94L8.5 2.5l-.94 2.06-2.06.94zm10 10l.94 2.06.94-2.06 2.06-.94-2.06-.94-.94-2.06-.94 2.06-2.06.94z\"/><path d=\"M17.41 7.96l-1.37-1.37c-.4-.4-.92-.59-1.43-.59-.52 0-1.04.2-1.43.59L10.3 9.45l-7.72 7.72c-.78.78-.78 2.05 0 2.83L4 21.41c.39.39.9.59 1.41.59.51 0 1.02-.2 1.41-.59l7.78-7.78 2.81-2.81c.8-.78.8-2.07 0-2.86zM5.41 20L4 18.59l7.72-7.72 1.47 1.35L5.41 20z\"/>\n",
              "  </svg>\n",
              "      </button>\n",
              "      \n",
              "  <style>\n",
              "    .colab-df-container {\n",
              "      display:flex;\n",
              "      flex-wrap:wrap;\n",
              "      gap: 12px;\n",
              "    }\n",
              "\n",
              "    .colab-df-convert {\n",
              "      background-color: #E8F0FE;\n",
              "      border: none;\n",
              "      border-radius: 50%;\n",
              "      cursor: pointer;\n",
              "      display: none;\n",
              "      fill: #1967D2;\n",
              "      height: 32px;\n",
              "      padding: 0 0 0 0;\n",
              "      width: 32px;\n",
              "    }\n",
              "\n",
              "    .colab-df-convert:hover {\n",
              "      background-color: #E2EBFA;\n",
              "      box-shadow: 0px 1px 2px rgba(60, 64, 67, 0.3), 0px 1px 3px 1px rgba(60, 64, 67, 0.15);\n",
              "      fill: #174EA6;\n",
              "    }\n",
              "\n",
              "    [theme=dark] .colab-df-convert {\n",
              "      background-color: #3B4455;\n",
              "      fill: #D2E3FC;\n",
              "    }\n",
              "\n",
              "    [theme=dark] .colab-df-convert:hover {\n",
              "      background-color: #434B5C;\n",
              "      box-shadow: 0px 1px 3px 1px rgba(0, 0, 0, 0.15);\n",
              "      filter: drop-shadow(0px 1px 2px rgba(0, 0, 0, 0.3));\n",
              "      fill: #FFFFFF;\n",
              "    }\n",
              "  </style>\n",
              "\n",
              "      <script>\n",
              "        const buttonEl =\n",
              "          document.querySelector('#df-5f570ed1-e575-4dd3-9ac0-32ccaf2952da button.colab-df-convert');\n",
              "        buttonEl.style.display =\n",
              "          google.colab.kernel.accessAllowed ? 'block' : 'none';\n",
              "\n",
              "        async function convertToInteractive(key) {\n",
              "          const element = document.querySelector('#df-5f570ed1-e575-4dd3-9ac0-32ccaf2952da');\n",
              "          const dataTable =\n",
              "            await google.colab.kernel.invokeFunction('convertToInteractive',\n",
              "                                                     [key], {});\n",
              "          if (!dataTable) return;\n",
              "\n",
              "          const docLinkHtml = 'Like what you see? Visit the ' +\n",
              "            '<a target=\"_blank\" href=https://colab.research.google.com/notebooks/data_table.ipynb>data table notebook</a>'\n",
              "            + ' to learn more about interactive tables.';\n",
              "          element.innerHTML = '';\n",
              "          dataTable['output_type'] = 'display_data';\n",
              "          await google.colab.output.renderOutput(dataTable, element);\n",
              "          const docLink = document.createElement('div');\n",
              "          docLink.innerHTML = docLinkHtml;\n",
              "          element.appendChild(docLink);\n",
              "        }\n",
              "      </script>\n",
              "    </div>\n",
              "  </div>\n",
              "  "
            ]
          },
          "metadata": {},
          "execution_count": 26
        }
      ]
    },
    {
      "cell_type": "markdown",
      "source": [
        "***Question 1: Corporate wants you to analyse the different gender identities of the customers; and to find a way to boost their sales***"
      ],
      "metadata": {
        "id": "DW-vDs9igWay"
      }
    },
    {
      "cell_type": "code",
      "source": [
        "df[\"gender\"].unique()"
      ],
      "metadata": {
        "colab": {
          "base_uri": "https://localhost:8080/"
        },
        "id": "v0qBNn3rkJe6",
        "outputId": "c383fff3-3b5b-47c6-b3a1-593945474bf3"
      },
      "execution_count": null,
      "outputs": [
        {
          "output_type": "execute_result",
          "data": {
            "text/plain": [
              "array(['Female', 'Genderfluid', 'Polygender', 'Bigender', 'Agender',\n",
              "       'Male', 'Genderqueer', 'Non-binary'], dtype=object)"
            ]
          },
          "metadata": {},
          "execution_count": 27
        }
      ]
    },
    {
      "cell_type": "code",
      "source": [
        "df_gen=df.drop_duplicates(subset=['customer_id_y'])\n",
        "df[\"gender\"].value_counts()"
      ],
      "metadata": {
        "colab": {
          "base_uri": "https://localhost:8080/"
        },
        "id": "nnIcXKskktk2",
        "outputId": "0ec27a69-cf04-4d27-edaf-d0a88a0ff29a"
      },
      "execution_count": null,
      "outputs": [
        {
          "output_type": "execute_result",
          "data": {
            "text/plain": [
              "Male           143\n",
              "Non-binary     131\n",
              "Polygender     128\n",
              "Genderqueer    127\n",
              "Genderfluid    122\n",
              "Bigender       120\n",
              "Female         115\n",
              "Agender        114\n",
              "Name: gender, dtype: int64"
            ]
          },
          "metadata": {},
          "execution_count": 28
        }
      ]
    },
    {
      "cell_type": "code",
      "source": [
        "import matplotlib.pyplot as plt\n",
        "import seaborn as sns\n",
        "df_gen[\"gender\"].value_counts().plot(kind=\"bar\")\n",
        "plt.xlabel(\"Gender\")\n",
        "plt.ylabel(\"Orders\")\n",
        "plt.ylim(50,100)\n",
        "plt.xticks(rotation=45)"
      ],
      "metadata": {
        "colab": {
          "base_uri": "https://localhost:8080/",
          "height": 344
        },
        "id": "gI_SO27ioV6V",
        "outputId": "ab9a8c59-cd3e-4adf-d320-2aa4d0c5466b"
      },
      "execution_count": null,
      "outputs": [
        {
          "output_type": "execute_result",
          "data": {
            "text/plain": [
              "(array([0, 1, 2, 3, 4, 5, 6, 7]), <a list of 8 Text major ticklabel objects>)"
            ]
          },
          "metadata": {},
          "execution_count": 29
        },
        {
          "output_type": "display_data",
          "data": {
            "text/plain": [
              "<Figure size 432x288 with 1 Axes>"
            ],
            "image/png": "[encoded data removed]"
          },
          "metadata": {
            "needs_background": "light"
          }
        }
      ]
    },
    {
      "cell_type": "markdown",
      "source": [
        "*We can infer that Bigender customers have placed the least amount of orders.*"
      ],
      "metadata": {
        "id": "Vq6glrM0g8Hr"
      }
    },
    {
      "cell_type": "markdown",
      "source": [
        "*In addition to that; The number of orders placed by Female customers are lesser than the orders placed by Male Customers.*"
      ],
      "metadata": {
        "id": "jLdu9ObmhGWa"
      }
    },
    {
      "cell_type": "markdown",
      "source": [
        "***We can boost their sales by creating a range of popular products based on a color palette that tenders to both of their needs.***"
      ],
      "metadata": {
        "id": "AYKDXdBnhWa2"
      }
    },
    {
      "cell_type": "code",
      "source": [
        "df_bi=df_gen[df_gen[\"gender\"]==\"Bigender\"]\n",
        "df_bi[\"product_name\"].value_counts()"
      ],
      "metadata": {
        "colab": {
          "base_uri": "https://localhost:8080/"
        },
        "id": "hohFJYVLpsDX",
        "outputId": "2b328dea-a97d-413b-f1fa-1c1874d841a4"
      },
      "execution_count": null,
      "outputs": [
        {
          "output_type": "execute_result",
          "data": {
            "text/plain": [
              "Denim              8\n",
              "Polo               7\n",
              "Windbreaker        6\n",
              "Oxford Cloth       5\n",
              "Parka              4\n",
              "Camp Collared      3\n",
              "Chambray           3\n",
              "Dress              3\n",
              "Cardigan           3\n",
              "Chinos             3\n",
              "Linen              2\n",
              "Drawstring         2\n",
              "Shearling          2\n",
              "Henley             2\n",
              "Casual Slim Fit    2\n",
              "Flannel            2\n",
              "Leather            2\n",
              "Bomber             2\n",
              "Cords              1\n",
              "Puffer             1\n",
              "Pullover           1\n",
              "Coach              1\n",
              "Mandarin Collar    1\n",
              "Cuban Collar       1\n",
              "Slim-Fit           1\n",
              "Name: product_name, dtype: int64"
            ]
          },
          "metadata": {},
          "execution_count": 30
        }
      ]
    },
    {
      "cell_type": "code",
      "source": [
        "df_bi[\"colour\"].value_counts()"
      ],
      "metadata": {
        "colab": {
          "base_uri": "https://localhost:8080/"
        },
        "id": "A8Y_SayyrtXp",
        "outputId": "ce5e064c-1ced-4aab-aab7-58679985d210"
      },
      "execution_count": null,
      "outputs": [
        {
          "output_type": "execute_result",
          "data": {
            "text/plain": [
              "violet    14\n",
              "red       12\n",
              "orange    12\n",
              "yellow     8\n",
              "indigo     8\n",
              "green      8\n",
              "blue       6\n",
              "Name: colour, dtype: int64"
            ]
          },
          "metadata": {},
          "execution_count": 31
        }
      ]
    },
    {
      "cell_type": "markdown",
      "source": [
        "Among the Bigender customers, **Violet and Denim** seem to be popular themes."
      ],
      "metadata": {
        "id": "FCr8IQ8-ht-V"
      }
    },
    {
      "cell_type": "code",
      "source": [
        "df_fem=df_gen[df_gen[\"gender\"]==\"Female\"]\n",
        "df_fem[\"product_name\"].value_counts()"
      ],
      "metadata": {
        "colab": {
          "base_uri": "https://localhost:8080/"
        },
        "id": "avSLLA_GqUPA",
        "outputId": "ffc3bbdf-6ead-4ce2-c975-8964a327f14b"
      },
      "execution_count": null,
      "outputs": [
        {
          "output_type": "execute_result",
          "data": {
            "text/plain": [
              "Denim              6\n",
              "Flannel            5\n",
              "Camp Collared      5\n",
              "Coach              5\n",
              "Puffer             4\n",
              "Peacoat            4\n",
              "Chambray           4\n",
              "Bomber             4\n",
              "Oxford Cloth       3\n",
              "Dress              3\n",
              "Windbreaker        3\n",
              "Henley             3\n",
              "Polo               3\n",
              "Linen              3\n",
              "Wool               3\n",
              "Leather            2\n",
              "Cuban Collar       2\n",
              "Pullover           2\n",
              "Shearling          2\n",
              "Drawstring         2\n",
              "Slim-Fit           2\n",
              "Casual Slim Fit    1\n",
              "Mandarin Collar    1\n",
              "Cardigan           1\n",
              "Trench Coat        1\n",
              "Chinos             1\n",
              "Cords              1\n",
              "Name: product_name, dtype: int64"
            ]
          },
          "metadata": {},
          "execution_count": 32
        }
      ]
    },
    {
      "cell_type": "code",
      "source": [
        "df_fem[\"colour\"].value_counts()"
      ],
      "metadata": {
        "colab": {
          "base_uri": "https://localhost:8080/"
        },
        "id": "UVZ3Ed7AsAfX",
        "outputId": "7af6886c-4b82-49d4-a95d-2d2cc24a1328"
      },
      "execution_count": null,
      "outputs": [
        {
          "output_type": "execute_result",
          "data": {
            "text/plain": [
              "indigo    15\n",
              "yellow    15\n",
              "green     13\n",
              "orange    11\n",
              "violet     9\n",
              "red        7\n",
              "blue       6\n",
              "Name: colour, dtype: int64"
            ]
          },
          "metadata": {},
          "execution_count": 33
        }
      ]
    },
    {
      "cell_type": "markdown",
      "source": [
        "Among the Bigender customers, **Indigo and Denim** seem to be popular themes."
      ],
      "metadata": {
        "id": "TQDz9PJsiCU1"
      }
    },
    {
      "cell_type": "markdown",
      "source": [
        "**We can therefore create a new Denim range of Indigo/Violet products to attract more Female and Bigender customers!**"
      ],
      "metadata": {
        "id": "F4OUt9rfiFsE"
      }
    },
    {
      "cell_type": "code",
      "source": [
        "from IPython.display import Image\n",
        "Image(url=\"https://sosoclothing.se/wp-content/uploads/2021/09/IMG_20210906_131131_566-600x600.jpg\", width=250, height=250)"
      ],
      "metadata": {
        "colab": {
          "base_uri": "https://localhost:8080/",
          "height": 271
        },
        "id": "N0oZ9tJxirlc",
        "outputId": "2a3c7bbd-f235-4cc8-a390-5892a47fbacc"
      },
      "execution_count": null,
      "outputs": [
        {
          "output_type": "execute_result",
          "data": {
            "text/html": [
              "<img src=\"https://sosoclothing.se/wp-content/uploads/2021/09/IMG_20210906_131131_566-600x600.jpg\" width=\"250\" height=\"250\"/>"
            ],
            "text/plain": [
              "<IPython.core.display.Image object>"
            ]
          },
          "metadata": {},
          "execution_count": 104
        }
      ]
    },
    {
      "cell_type": "code",
      "source": [
        "df[\"sales\"] = df[\"price\"] * df[\"quantity\"]\n",
        "df.head()"
      ],
      "metadata": {
        "colab": {
          "base_uri": "https://localhost:8080/",
          "height": 560
        },
        "id": "MyuPTRiZkGA-",
        "outputId": "b6d27ae3-3907-42b4-8c0e-5ea485e68e21"
      },
      "execution_count": null,
      "outputs": [
        {
          "output_type": "execute_result",
          "data": {
            "text/plain": [
              "   customer_id_x        customer_name       gender  age  \\\n",
              "0              1        Leanna Busson       Female   30   \n",
              "1              2  Zabrina Harrowsmith  Genderfluid   69   \n",
              "2              3      Shina Dullaghan   Polygender   59   \n",
              "3              4        Hewet McVitie     Bigender   67   \n",
              "4              5       Rubia Ashleigh   Polygender   30   \n",
              "\n",
              "                     home_address  zip_code               city  \\\n",
              "0  8606 Victoria TerraceSuite 560      5464      Johnstonhaven   \n",
              "1      8327 Kirlin SummitApt. 461      8223    New Zacharyfort   \n",
              "2       269 Gemma SummitSuite 109      5661           Aliburgh   \n",
              "3       743 Bailey GroveSuite 141      1729  South Justinhaven   \n",
              "4         48 Hyatt ManorSuite 375      4032     Griffithsshire   \n",
              "\n",
              "                          state    country  order_id  ...  delivery_date  \\\n",
              "0            Northern Territory  Australia         1  ...     2021-09-24   \n",
              "1               South Australia  Australia         2  ...     2021-02-13   \n",
              "2  Australian Capital Territory  Australia         3  ...     2021-11-03   \n",
              "3                    Queensland  Australia         4  ...     2021-05-19   \n",
              "4                    Queensland  Australia         5  ...     2021-03-24   \n",
              "\n",
              "   product_ID product_type  product_name  size colour price quantity  \\\n",
              "0           0        Shirt  Oxford Cloth    XS    red   114       66   \n",
              "1           1        Shirt  Oxford Cloth     S    red   114       53   \n",
              "2           2        Shirt  Oxford Cloth     M    red   114       54   \n",
              "3           3        Shirt  Oxford Cloth     L    red   114       69   \n",
              "4           4        Shirt  Oxford Cloth    XL    red   114       47   \n",
              "\n",
              "                                    description  sales  \n",
              "0  A red coloured, XS sized, Oxford Cloth Shirt   7524  \n",
              "1   A red coloured, S sized, Oxford Cloth Shirt   6042  \n",
              "2   A red coloured, M sized, Oxford Cloth Shirt   6156  \n",
              "3   A red coloured, L sized, Oxford Cloth Shirt   7866  \n",
              "4  A red coloured, XL sized, Oxford Cloth Shirt   5358  \n",
              "\n",
              "[5 rows x 23 columns]"
            ],
            "text/html": [
              "\n",
              "  <div id=\"df-cba0895a-9908-4905-a1d8-1118d8bd28b5\">\n",
              "    <div class=\"colab-df-container\">\n",
              "      <div>\n",
              "<style scoped>\n",
              "    .dataframe tbody tr th:only-of-type {\n",
              "        vertical-align: middle;\n",
              "    }\n",
              "\n",
              "    .dataframe tbody tr th {\n",
              "        vertical-align: top;\n",
              "    }\n",
              "\n",
              "    .dataframe thead th {\n",
              "        text-align: right;\n",
              "    }\n",
              "</style>\n",
              "<table border=\"1\" class=\"dataframe\">\n",
              "  <thead>\n",
              "    <tr style=\"text-align: right;\">\n",
              "      <th></th>\n",
              "      <th>customer_id_x</th>\n",
              "      <th>customer_name</th>\n",
              "      <th>gender</th>\n",
              "      <th>age</th>\n",
              "      <th>home_address</th>\n",
              "      <th>zip_code</th>\n",
              "      <th>city</th>\n",
              "      <th>state</th>\n",
              "      <th>country</th>\n",
              "      <th>order_id</th>\n",
              "      <th>...</th>\n",
              "      <th>delivery_date</th>\n",
              "      <th>product_ID</th>\n",
              "      <th>product_type</th>\n",
              "      <th>product_name</th>\n",
              "      <th>size</th>\n",
              "      <th>colour</th>\n",
              "      <th>price</th>\n",
              "      <th>quantity</th>\n",
              "      <th>description</th>\n",
              "      <th>sales</th>\n",
              "    </tr>\n",
              "  </thead>\n",
              "  <tbody>\n",
              "    <tr>\n",
              "      <th>0</th>\n",
              "      <td>1</td>\n",
              "      <td>Leanna Busson</td>\n",
              "      <td>Female</td>\n",
              "      <td>30</td>\n",
              "      <td>8606 Victoria TerraceSuite 560</td>\n",
              "      <td>5464</td>\n",
              "      <td>Johnstonhaven</td>\n",
              "      <td>Northern Territory</td>\n",
              "      <td>Australia</td>\n",
              "      <td>1</td>\n",
              "      <td>...</td>\n",
              "      <td>2021-09-24</td>\n",
              "      <td>0</td>\n",
              "      <td>Shirt</td>\n",
              "      <td>Oxford Cloth</td>\n",
              "      <td>XS</td>\n",
              "      <td>red</td>\n",
              "      <td>114</td>\n",
              "      <td>66</td>\n",
              "      <td>A red coloured, XS sized, Oxford Cloth Shirt</td>\n",
              "      <td>7524</td>\n",
              "    </tr>\n",
              "    <tr>\n",
              "      <th>1</th>\n",
              "      <td>2</td>\n",
              "      <td>Zabrina Harrowsmith</td>\n",
              "      <td>Genderfluid</td>\n",
              "      <td>69</td>\n",
              "      <td>8327 Kirlin SummitApt. 461</td>\n",
              "      <td>8223</td>\n",
              "      <td>New Zacharyfort</td>\n",
              "      <td>South Australia</td>\n",
              "      <td>Australia</td>\n",
              "      <td>2</td>\n",
              "      <td>...</td>\n",
              "      <td>2021-02-13</td>\n",
              "      <td>1</td>\n",
              "      <td>Shirt</td>\n",
              "      <td>Oxford Cloth</td>\n",
              "      <td>S</td>\n",
              "      <td>red</td>\n",
              "      <td>114</td>\n",
              "      <td>53</td>\n",
              "      <td>A red coloured, S sized, Oxford Cloth Shirt</td>\n",
              "      <td>6042</td>\n",
              "    </tr>\n",
              "    <tr>\n",
              "      <th>2</th>\n",
              "      <td>3</td>\n",
              "      <td>Shina Dullaghan</td>\n",
              "      <td>Polygender</td>\n",
              "      <td>59</td>\n",
              "      <td>269 Gemma SummitSuite 109</td>\n",
              "      <td>5661</td>\n",
              "      <td>Aliburgh</td>\n",
              "      <td>Australian Capital Territory</td>\n",
              "      <td>Australia</td>\n",
              "      <td>3</td>\n",
              "      <td>...</td>\n",
              "      <td>2021-11-03</td>\n",
              "      <td>2</td>\n",
              "      <td>Shirt</td>\n",
              "      <td>Oxford Cloth</td>\n",
              "      <td>M</td>\n",
              "      <td>red</td>\n",
              "      <td>114</td>\n",
              "      <td>54</td>\n",
              "      <td>A red coloured, M sized, Oxford Cloth Shirt</td>\n",
              "      <td>6156</td>\n",
              "    </tr>\n",
              "    <tr>\n",
              "      <th>3</th>\n",
              "      <td>4</td>\n",
              "      <td>Hewet McVitie</td>\n",
              "      <td>Bigender</td>\n",
              "      <td>67</td>\n",
              "      <td>743 Bailey GroveSuite 141</td>\n",
              "      <td>1729</td>\n",
              "      <td>South Justinhaven</td>\n",
              "      <td>Queensland</td>\n",
              "      <td>Australia</td>\n",
              "      <td>4</td>\n",
              "      <td>...</td>\n",
              "      <td>2021-05-19</td>\n",
              "      <td>3</td>\n",
              "      <td>Shirt</td>\n",
              "      <td>Oxford Cloth</td>\n",
              "      <td>L</td>\n",
              "      <td>red</td>\n",
              "      <td>114</td>\n",
              "      <td>69</td>\n",
              "      <td>A red coloured, L sized, Oxford Cloth Shirt</td>\n",
              "      <td>7866</td>\n",
              "    </tr>\n",
              "    <tr>\n",
              "      <th>4</th>\n",
              "      <td>5</td>\n",
              "      <td>Rubia Ashleigh</td>\n",
              "      <td>Polygender</td>\n",
              "      <td>30</td>\n",
              "      <td>48 Hyatt ManorSuite 375</td>\n",
              "      <td>4032</td>\n",
              "      <td>Griffithsshire</td>\n",
              "      <td>Queensland</td>\n",
              "      <td>Australia</td>\n",
              "      <td>5</td>\n",
              "      <td>...</td>\n",
              "      <td>2021-03-24</td>\n",
              "      <td>4</td>\n",
              "      <td>Shirt</td>\n",
              "      <td>Oxford Cloth</td>\n",
              "      <td>XL</td>\n",
              "      <td>red</td>\n",
              "      <td>114</td>\n",
              "      <td>47</td>\n",
              "      <td>A red coloured, XL sized, Oxford Cloth Shirt</td>\n",
              "      <td>5358</td>\n",
              "    </tr>\n",
              "  </tbody>\n",
              "</table>\n",
              "<p>5 rows × 23 columns</p>\n",
              "</div>\n",
              "      <button class=\"colab-df-convert\" onclick=\"convertToInteractive('df-cba0895a-9908-4905-a1d8-1118d8bd28b5')\"\n",
              "              title=\"Convert this dataframe to an interactive table.\"\n",
              "              style=\"display:none;\">\n",
              "        \n",
              "  <svg xmlns=\"http://www.w3.org/2000/svg\" height=\"24px\"viewBox=\"0 0 24 24\"\n",
              "       width=\"24px\">\n",
              "    <path d=\"M0 0h24v24H0V0z\" fill=\"none\"/>\n",
              "    <path d=\"M18.56 5.44l.94 2.06.94-2.06 2.06-.94-2.06-.94-.94-2.06-.94 2.06-2.06.94zm-11 1L8.5 8.5l.94-2.06 2.06-.94-2.06-.94L8.5 2.5l-.94 2.06-2.06.94zm10 10l.94 2.06.94-2.06 2.06-.94-2.06-.94-.94-2.06-.94 2.06-2.06.94z\"/><path d=\"M17.41 7.96l-1.37-1.37c-.4-.4-.92-.59-1.43-.59-.52 0-1.04.2-1.43.59L10.3 9.45l-7.72 7.72c-.78.78-.78 2.05 0 2.83L4 21.41c.39.39.9.59 1.41.59.51 0 1.02-.2 1.41-.59l7.78-7.78 2.81-2.81c.8-.78.8-2.07 0-2.86zM5.41 20L4 18.59l7.72-7.72 1.47 1.35L5.41 20z\"/>\n",
              "  </svg>\n",
              "      </button>\n",
              "      \n",
              "  <style>\n",
              "    .colab-df-container {\n",
              "      display:flex;\n",
              "      flex-wrap:wrap;\n",
              "      gap: 12px;\n",
              "    }\n",
              "\n",
              "    .colab-df-convert {\n",
              "      background-color: #E8F0FE;\n",
              "      border: none;\n",
              "      border-radius: 50%;\n",
              "      cursor: pointer;\n",
              "      display: none;\n",
              "      fill: #1967D2;\n",
              "      height: 32px;\n",
              "      padding: 0 0 0 0;\n",
              "      width: 32px;\n",
              "    }\n",
              "\n",
              "    .colab-df-convert:hover {\n",
              "      background-color: #E2EBFA;\n",
              "      box-shadow: 0px 1px 2px rgba(60, 64, 67, 0.3), 0px 1px 3px 1px rgba(60, 64, 67, 0.15);\n",
              "      fill: #174EA6;\n",
              "    }\n",
              "\n",
              "    [theme=dark] .colab-df-convert {\n",
              "      background-color: #3B4455;\n",
              "      fill: #D2E3FC;\n",
              "    }\n",
              "\n",
              "    [theme=dark] .colab-df-convert:hover {\n",
              "      background-color: #434B5C;\n",
              "      box-shadow: 0px 1px 3px 1px rgba(0, 0, 0, 0.15);\n",
              "      filter: drop-shadow(0px 1px 2px rgba(0, 0, 0, 0.3));\n",
              "      fill: #FFFFFF;\n",
              "    }\n",
              "  </style>\n",
              "\n",
              "      <script>\n",
              "        const buttonEl =\n",
              "          document.querySelector('#df-cba0895a-9908-4905-a1d8-1118d8bd28b5 button.colab-df-convert');\n",
              "        buttonEl.style.display =\n",
              "          google.colab.kernel.accessAllowed ? 'block' : 'none';\n",
              "\n",
              "        async function convertToInteractive(key) {\n",
              "          const element = document.querySelector('#df-cba0895a-9908-4905-a1d8-1118d8bd28b5');\n",
              "          const dataTable =\n",
              "            await google.colab.kernel.invokeFunction('convertToInteractive',\n",
              "                                                     [key], {});\n",
              "          if (!dataTable) return;\n",
              "\n",
              "          const docLinkHtml = 'Like what you see? Visit the ' +\n",
              "            '<a target=\"_blank\" href=https://colab.research.google.com/notebooks/data_table.ipynb>data table notebook</a>'\n",
              "            + ' to learn more about interactive tables.';\n",
              "          element.innerHTML = '';\n",
              "          dataTable['output_type'] = 'display_data';\n",
              "          await google.colab.output.renderOutput(dataTable, element);\n",
              "          const docLink = document.createElement('div');\n",
              "          docLink.innerHTML = docLinkHtml;\n",
              "          element.appendChild(docLink);\n",
              "        }\n",
              "      </script>\n",
              "    </div>\n",
              "  </div>\n",
              "  "
            ]
          },
          "metadata": {},
          "execution_count": 35
        }
      ]
    },
    {
      "cell_type": "markdown",
      "source": [
        "**Univariate Analysis to deduce if the data has a normal distribution**."
      ],
      "metadata": {
        "id": "DW951-yDEs3g"
      }
    },
    {
      "cell_type": "code",
      "source": [
        "def univariate_analysis(data, color, title1):\n",
        "    \n",
        "    sns.distplot( # create a distplot visualization\n",
        "        data, # data\n",
        "         # axes 1\n",
        "        kde=True, # kde\n",
        "        color=color # color\n",
        "    )"
      ],
      "metadata": {
        "id": "IhKRjo3j1e1x"
      },
      "execution_count": null,
      "outputs": []
    },
    {
      "cell_type": "code",
      "source": [
        "\n",
        "univariate_analysis( # call the function\n",
        "    data=df['sales'], # put the data\n",
        "    color='red', # pick the color\n",
        "    title1='COP Data - Sales Data Distribution')"
      ],
      "metadata": {
        "colab": {
          "base_uri": "https://localhost:8080/",
          "height": 334
        },
        "id": "w_LLHOYr2vQE",
        "outputId": "723a2041-8150-4864-e92e-5ba18df86b89"
      },
      "execution_count": null,
      "outputs": [
        {
          "output_type": "stream",
          "name": "stderr",
          "text": [
            "/usr/local/lib/python3.7/dist-packages/seaborn/distributions.py:2619: FutureWarning: `distplot` is a deprecated function and will be removed in a future version. Please adapt your code to use either `displot` (a figure-level function with similar flexibility) or `histplot` (an axes-level function for histograms).\n",
            "  warnings.warn(msg, FutureWarning)\n"
          ]
        },
        {
          "output_type": "display_data",
          "data": {
            "text/plain": [
              "<Figure size 432x288 with 1 Axes>"
            ],
            "image/png": "[encoded data removed]"
          },
          "metadata": {
            "needs_background": "light"
          }
        }
      ]
    },
    {
      "cell_type": "markdown",
      "source": [
        "***Using Chebyshev's Theorem to find the inter-quartile ranges.***"
      ],
      "metadata": {
        "id": "tNNXTFwlFAi5"
      }
    },
    {
      "cell_type": "code",
      "source": [
        "import math\n",
        "df1=df[[\"sales\",\"age\",\"price\",\"quantity\"]].copy()\n",
        "print(\"Using Chebyshev's Theorem,\")\n",
        "for x in df1.columns:\n",
        "  mean1=df1[x].mean()\n",
        "  std1=df1[x].std()\n",
        "  low_lim=mean1-2*(std1).round(0)\n",
        "  upper_lim=mean1+2*(std1).round(0)\n",
        "  print(\"At least 75% of the Retail customer population in Australia has {} ranging from {} - {} (Australian Dollars).\".format(x,low_lim,upper_lim))\n"
      ],
      "metadata": {
        "colab": {
          "base_uri": "https://localhost:8080/"
        },
        "id": "dc76KWRl4P8h",
        "outputId": "ad03d072-aa7a-4cf4-835c-9bd17f619e2d"
      },
      "execution_count": null,
      "outputs": [
        {
          "output_type": "stream",
          "name": "stdout",
          "text": [
            "Using Chebyshev's Theorem,\n",
            "At least 75% of the Retail customer population in Australia has sales ranging from 3714.937 - 9350.937 (Australian Dollars).\n",
            "At least 75% of the Retail customer population in Australia has age ranging from 13.86 - 85.86 (Australian Dollars).\n",
            "At least 75% of the Retail customer population in Australia has price ranging from 90.095 - 126.095 (Australian Dollars).\n",
            "At least 75% of the Retail customer population in Australia has quantity ranging from 36.371 - 84.37100000000001 (Australian Dollars).\n"
          ]
        }
      ]
    },
    {
      "cell_type": "markdown",
      "source": [
        "**Question 2:** What is the most popular clothing item per month? Does it match with the seasonal clothing preferences?"
      ],
      "metadata": {
        "id": "MyPEggKtFkUP"
      }
    },
    {
      "cell_type": "code",
      "source": [
        "months=[1,2,3,4,5,6,7,8,9]\n",
        "clothes=pd.DataFrame(months,columns=[\"Month\"])\n",
        "list1=[]\n",
        "for i in months:\n",
        "  list1.append(df2[df2[\"order_date\"]==i][\"product_name\"].value_counts().index.tolist()[0])\n",
        "clothes['Popular Product'] = list1\n",
        "clothes[\"Month\"]=[\"Jan\", \"Feb\", \"Mar\", \"Apr\", \"May\", \"Jun\", \"Jul\", \"Aug\", \"Sep\"]\n",
        "clothes"
      ],
      "metadata": {
        "colab": {
          "base_uri": "https://localhost:8080/",
          "height": 332
        },
        "id": "8OYeG4I6_U0F",
        "outputId": "809c6552-654d-462a-9e12-41781d329638"
      },
      "execution_count": null,
      "outputs": [
        {
          "output_type": "execute_result",
          "data": {
            "text/plain": [
              "  Month Popular Product\n",
              "0   Jan           Denim\n",
              "1   Feb           Denim\n",
              "2   Mar           Denim\n",
              "3   Apr           Denim\n",
              "4   May    Oxford Cloth\n",
              "5   Jun         Flannel\n",
              "6   Jul     Windbreaker\n",
              "7   Aug        Cardigan\n",
              "8   Sep          Chinos"
            ],
            "text/html": [
              "\n",
              "  <div id=\"df-e18b992b-84c7-4974-98f0-b8b6df199ece\">\n",
              "    <div class=\"colab-df-container\">\n",
              "      <div>\n",
              "<style scoped>\n",
              "    .dataframe tbody tr th:only-of-type {\n",
              "        vertical-align: middle;\n",
              "    }\n",
              "\n",
              "    .dataframe tbody tr th {\n",
              "        vertical-align: top;\n",
              "    }\n",
              "\n",
              "    .dataframe thead th {\n",
              "        text-align: right;\n",
              "    }\n",
              "</style>\n",
              "<table border=\"1\" class=\"dataframe\">\n",
              "  <thead>\n",
              "    <tr style=\"text-align: right;\">\n",
              "      <th></th>\n",
              "      <th>Month</th>\n",
              "      <th>Popular Product</th>\n",
              "    </tr>\n",
              "  </thead>\n",
              "  <tbody>\n",
              "    <tr>\n",
              "      <th>0</th>\n",
              "      <td>Jan</td>\n",
              "      <td>Denim</td>\n",
              "    </tr>\n",
              "    <tr>\n",
              "      <th>1</th>\n",
              "      <td>Feb</td>\n",
              "      <td>Denim</td>\n",
              "    </tr>\n",
              "    <tr>\n",
              "      <th>2</th>\n",
              "      <td>Mar</td>\n",
              "      <td>Denim</td>\n",
              "    </tr>\n",
              "    <tr>\n",
              "      <th>3</th>\n",
              "      <td>Apr</td>\n",
              "      <td>Denim</td>\n",
              "    </tr>\n",
              "    <tr>\n",
              "      <th>4</th>\n",
              "      <td>May</td>\n",
              "      <td>Oxford Cloth</td>\n",
              "    </tr>\n",
              "    <tr>\n",
              "      <th>5</th>\n",
              "      <td>Jun</td>\n",
              "      <td>Flannel</td>\n",
              "    </tr>\n",
              "    <tr>\n",
              "      <th>6</th>\n",
              "      <td>Jul</td>\n",
              "      <td>Windbreaker</td>\n",
              "    </tr>\n",
              "    <tr>\n",
              "      <th>7</th>\n",
              "      <td>Aug</td>\n",
              "      <td>Cardigan</td>\n",
              "    </tr>\n",
              "    <tr>\n",
              "      <th>8</th>\n",
              "      <td>Sep</td>\n",
              "      <td>Chinos</td>\n",
              "    </tr>\n",
              "  </tbody>\n",
              "</table>\n",
              "</div>\n",
              "      <button class=\"colab-df-convert\" onclick=\"convertToInteractive('df-e18b992b-84c7-4974-98f0-b8b6df199ece')\"\n",
              "              title=\"Convert this dataframe to an interactive table.\"\n",
              "              style=\"display:none;\">\n",
              "        \n",
              "  <svg xmlns=\"http://www.w3.org/2000/svg\" height=\"24px\"viewBox=\"0 0 24 24\"\n",
              "       width=\"24px\">\n",
              "    <path d=\"M0 0h24v24H0V0z\" fill=\"none\"/>\n",
              "    <path d=\"M18.56 5.44l.94 2.06.94-2.06 2.06-.94-2.06-.94-.94-2.06-.94 2.06-2.06.94zm-11 1L8.5 8.5l.94-2.06 2.06-.94-2.06-.94L8.5 2.5l-.94 2.06-2.06.94zm10 10l.94 2.06.94-2.06 2.06-.94-2.06-.94-.94-2.06-.94 2.06-2.06.94z\"/><path d=\"M17.41 7.96l-1.37-1.37c-.4-.4-.92-.59-1.43-.59-.52 0-1.04.2-1.43.59L10.3 9.45l-7.72 7.72c-.78.78-.78 2.05 0 2.83L4 21.41c.39.39.9.59 1.41.59.51 0 1.02-.2 1.41-.59l7.78-7.78 2.81-2.81c.8-.78.8-2.07 0-2.86zM5.41 20L4 18.59l7.72-7.72 1.47 1.35L5.41 20z\"/>\n",
              "  </svg>\n",
              "      </button>\n",
              "      \n",
              "  <style>\n",
              "    .colab-df-container {\n",
              "      display:flex;\n",
              "      flex-wrap:wrap;\n",
              "      gap: 12px;\n",
              "    }\n",
              "\n",
              "    .colab-df-convert {\n",
              "      background-color: #E8F0FE;\n",
              "      border: none;\n",
              "      border-radius: 50%;\n",
              "      cursor: pointer;\n",
              "      display: none;\n",
              "      fill: #1967D2;\n",
              "      height: 32px;\n",
              "      padding: 0 0 0 0;\n",
              "      width: 32px;\n",
              "    }\n",
              "\n",
              "    .colab-df-convert:hover {\n",
              "      background-color: #E2EBFA;\n",
              "      box-shadow: 0px 1px 2px rgba(60, 64, 67, 0.3), 0px 1px 3px 1px rgba(60, 64, 67, 0.15);\n",
              "      fill: #174EA6;\n",
              "    }\n",
              "\n",
              "    [theme=dark] .colab-df-convert {\n",
              "      background-color: #3B4455;\n",
              "      fill: #D2E3FC;\n",
              "    }\n",
              "\n",
              "    [theme=dark] .colab-df-convert:hover {\n",
              "      background-color: #434B5C;\n",
              "      box-shadow: 0px 1px 3px 1px rgba(0, 0, 0, 0.15);\n",
              "      filter: drop-shadow(0px 1px 2px rgba(0, 0, 0, 0.3));\n",
              "      fill: #FFFFFF;\n",
              "    }\n",
              "  </style>\n",
              "\n",
              "      <script>\n",
              "        const buttonEl =\n",
              "          document.querySelector('#df-e18b992b-84c7-4974-98f0-b8b6df199ece button.colab-df-convert');\n",
              "        buttonEl.style.display =\n",
              "          google.colab.kernel.accessAllowed ? 'block' : 'none';\n",
              "\n",
              "        async function convertToInteractive(key) {\n",
              "          const element = document.querySelector('#df-e18b992b-84c7-4974-98f0-b8b6df199ece');\n",
              "          const dataTable =\n",
              "            await google.colab.kernel.invokeFunction('convertToInteractive',\n",
              "                                                     [key], {});\n",
              "          if (!dataTable) return;\n",
              "\n",
              "          const docLinkHtml = 'Like what you see? Visit the ' +\n",
              "            '<a target=\"_blank\" href=https://colab.research.google.com/notebooks/data_table.ipynb>data table notebook</a>'\n",
              "            + ' to learn more about interactive tables.';\n",
              "          element.innerHTML = '';\n",
              "          dataTable['output_type'] = 'display_data';\n",
              "          await google.colab.output.renderOutput(dataTable, element);\n",
              "          const docLink = document.createElement('div');\n",
              "          docLink.innerHTML = docLinkHtml;\n",
              "          element.appendChild(docLink);\n",
              "        }\n",
              "      </script>\n",
              "    </div>\n",
              "  </div>\n",
              "  "
            ]
          },
          "metadata": {},
          "execution_count": 51
        }
      ]
    },
    {
      "cell_type": "markdown",
      "source": [
        "**Queestion 3:** The Marketing team wishes to publicize the company by guaranteeing a \"10 Day Shipping Period\" for all the orders placed. Does this correspond with the data? If not how could we improve the situation."
      ],
      "metadata": {
        "id": "K_ufx-KeF0CU"
      }
    },
    {
      "cell_type": "code",
      "source": [
        "delivery=df4[[\"city\",\"state\",\"order_date\",\"delivery_date\"]].copy()\n",
        "import datetime\n",
        "delivery[[\"order_date\", \"delivery_date\"]] = delivery[[\"order_date\", \"delivery_date\"]].apply(pd.to_datetime)\n",
        "delivery[\"Time Taken in Days\"]=delivery[\"order_date\"] - delivery[\"delivery_date\"]\n",
        "delivery[\"Time Taken in Days\"]=delivery[\"Time Taken in Days\"].abs()\n",
        "delivery[\"Time Taken in Days\"] = pd.to_numeric(delivery[\"Time Taken in Days\"].dt.days, downcast='integer')\n",
        "delivery.head()"
      ],
      "metadata": {
        "colab": {
          "base_uri": "https://localhost:8080/",
          "height": 206
        },
        "id": "pgR6wV9VKVsP",
        "outputId": "3630e531-da98-4318-a61f-07409d8ded1c"
      },
      "execution_count": null,
      "outputs": [
        {
          "output_type": "execute_result",
          "data": {
            "text/plain": [
              "                city                         state order_date delivery_date  \\\n",
              "0      Johnstonhaven            Northern Territory 2021-08-30    2021-09-24   \n",
              "1    New Zacharyfort               South Australia 2021-02-03    2021-02-13   \n",
              "2           Aliburgh  Australian Capital Territory 2021-10-08    2021-11-03   \n",
              "3  South Justinhaven                    Queensland 2021-05-06    2021-05-19   \n",
              "4     Griffithsshire                    Queensland 2021-03-23    2021-03-24   \n",
              "\n",
              "   Time Taken in Days  \n",
              "0                  25  \n",
              "1                  10  \n",
              "2                  26  \n",
              "3                  13  \n",
              "4                   1  "
            ],
            "text/html": [
              "\n",
              "  <div id=\"df-e926e0c7-1b54-48ff-99aa-b7884e1f8e1b\">\n",
              "    <div class=\"colab-df-container\">\n",
              "      <div>\n",
              "<style scoped>\n",
              "    .dataframe tbody tr th:only-of-type {\n",
              "        vertical-align: middle;\n",
              "    }\n",
              "\n",
              "    .dataframe tbody tr th {\n",
              "        vertical-align: top;\n",
              "    }\n",
              "\n",
              "    .dataframe thead th {\n",
              "        text-align: right;\n",
              "    }\n",
              "</style>\n",
              "<table border=\"1\" class=\"dataframe\">\n",
              "  <thead>\n",
              "    <tr style=\"text-align: right;\">\n",
              "      <th></th>\n",
              "      <th>city</th>\n",
              "      <th>state</th>\n",
              "      <th>order_date</th>\n",
              "      <th>delivery_date</th>\n",
              "      <th>Time Taken in Days</th>\n",
              "    </tr>\n",
              "  </thead>\n",
              "  <tbody>\n",
              "    <tr>\n",
              "      <th>0</th>\n",
              "      <td>Johnstonhaven</td>\n",
              "      <td>Northern Territory</td>\n",
              "      <td>2021-08-30</td>\n",
              "      <td>2021-09-24</td>\n",
              "      <td>25</td>\n",
              "    </tr>\n",
              "    <tr>\n",
              "      <th>1</th>\n",
              "      <td>New Zacharyfort</td>\n",
              "      <td>South Australia</td>\n",
              "      <td>2021-02-03</td>\n",
              "      <td>2021-02-13</td>\n",
              "      <td>10</td>\n",
              "    </tr>\n",
              "    <tr>\n",
              "      <th>2</th>\n",
              "      <td>Aliburgh</td>\n",
              "      <td>Australian Capital Territory</td>\n",
              "      <td>2021-10-08</td>\n",
              "      <td>2021-11-03</td>\n",
              "      <td>26</td>\n",
              "    </tr>\n",
              "    <tr>\n",
              "      <th>3</th>\n",
              "      <td>South Justinhaven</td>\n",
              "      <td>Queensland</td>\n",
              "      <td>2021-05-06</td>\n",
              "      <td>2021-05-19</td>\n",
              "      <td>13</td>\n",
              "    </tr>\n",
              "    <tr>\n",
              "      <th>4</th>\n",
              "      <td>Griffithsshire</td>\n",
              "      <td>Queensland</td>\n",
              "      <td>2021-03-23</td>\n",
              "      <td>2021-03-24</td>\n",
              "      <td>1</td>\n",
              "    </tr>\n",
              "  </tbody>\n",
              "</table>\n",
              "</div>\n",
              "      <button class=\"colab-df-convert\" onclick=\"convertToInteractive('df-e926e0c7-1b54-48ff-99aa-b7884e1f8e1b')\"\n",
              "              title=\"Convert this dataframe to an interactive table.\"\n",
              "              style=\"display:none;\">\n",
              "        \n",
              "  <svg xmlns=\"http://www.w3.org/2000/svg\" height=\"24px\"viewBox=\"0 0 24 24\"\n",
              "       width=\"24px\">\n",
              "    <path d=\"M0 0h24v24H0V0z\" fill=\"none\"/>\n",
              "    <path d=\"M18.56 5.44l.94 2.06.94-2.06 2.06-.94-2.06-.94-.94-2.06-.94 2.06-2.06.94zm-11 1L8.5 8.5l.94-2.06 2.06-.94-2.06-.94L8.5 2.5l-.94 2.06-2.06.94zm10 10l.94 2.06.94-2.06 2.06-.94-2.06-.94-.94-2.06-.94 2.06-2.06.94z\"/><path d=\"M17.41 7.96l-1.37-1.37c-.4-.4-.92-.59-1.43-.59-.52 0-1.04.2-1.43.59L10.3 9.45l-7.72 7.72c-.78.78-.78 2.05 0 2.83L4 21.41c.39.39.9.59 1.41.59.51 0 1.02-.2 1.41-.59l7.78-7.78 2.81-2.81c.8-.78.8-2.07 0-2.86zM5.41 20L4 18.59l7.72-7.72 1.47 1.35L5.41 20z\"/>\n",
              "  </svg>\n",
              "      </button>\n",
              "      \n",
              "  <style>\n",
              "    .colab-df-container {\n",
              "      display:flex;\n",
              "      flex-wrap:wrap;\n",
              "      gap: 12px;\n",
              "    }\n",
              "\n",
              "    .colab-df-convert {\n",
              "      background-color: #E8F0FE;\n",
              "      border: none;\n",
              "      border-radius: 50%;\n",
              "      cursor: pointer;\n",
              "      display: none;\n",
              "      fill: #1967D2;\n",
              "      height: 32px;\n",
              "      padding: 0 0 0 0;\n",
              "      width: 32px;\n",
              "    }\n",
              "\n",
              "    .colab-df-convert:hover {\n",
              "      background-color: #E2EBFA;\n",
              "      box-shadow: 0px 1px 2px rgba(60, 64, 67, 0.3), 0px 1px 3px 1px rgba(60, 64, 67, 0.15);\n",
              "      fill: #174EA6;\n",
              "    }\n",
              "\n",
              "    [theme=dark] .colab-df-convert {\n",
              "      background-color: #3B4455;\n",
              "      fill: #D2E3FC;\n",
              "    }\n",
              "\n",
              "    [theme=dark] .colab-df-convert:hover {\n",
              "      background-color: #434B5C;\n",
              "      box-shadow: 0px 1px 3px 1px rgba(0, 0, 0, 0.15);\n",
              "      filter: drop-shadow(0px 1px 2px rgba(0, 0, 0, 0.3));\n",
              "      fill: #FFFFFF;\n",
              "    }\n",
              "  </style>\n",
              "\n",
              "      <script>\n",
              "        const buttonEl =\n",
              "          document.querySelector('#df-e926e0c7-1b54-48ff-99aa-b7884e1f8e1b button.colab-df-convert');\n",
              "        buttonEl.style.display =\n",
              "          google.colab.kernel.accessAllowed ? 'block' : 'none';\n",
              "\n",
              "        async function convertToInteractive(key) {\n",
              "          const element = document.querySelector('#df-e926e0c7-1b54-48ff-99aa-b7884e1f8e1b');\n",
              "          const dataTable =\n",
              "            await google.colab.kernel.invokeFunction('convertToInteractive',\n",
              "                                                     [key], {});\n",
              "          if (!dataTable) return;\n",
              "\n",
              "          const docLinkHtml = 'Like what you see? Visit the ' +\n",
              "            '<a target=\"_blank\" href=https://colab.research.google.com/notebooks/data_table.ipynb>data table notebook</a>'\n",
              "            + ' to learn more about interactive tables.';\n",
              "          element.innerHTML = '';\n",
              "          dataTable['output_type'] = 'display_data';\n",
              "          await google.colab.output.renderOutput(dataTable, element);\n",
              "          const docLink = document.createElement('div');\n",
              "          docLink.innerHTML = docLinkHtml;\n",
              "          element.appendChild(docLink);\n",
              "        }\n",
              "      </script>\n",
              "    </div>\n",
              "  </div>\n",
              "  "
            ]
          },
          "metadata": {},
          "execution_count": 60
        }
      ]
    },
    {
      "cell_type": "code",
      "source": [
        "delivery[\"Time Taken in Days\"].mean()"
      ],
      "metadata": {
        "colab": {
          "base_uri": "https://localhost:8080/"
        },
        "id": "507MCO2uOaL2",
        "outputId": "0dd74a7e-5f84-4a86-a7b3-05bb2736cbd9"
      },
      "execution_count": null,
      "outputs": [
        {
          "output_type": "execute_result",
          "data": {
            "text/plain": [
              "14.078"
            ]
          },
          "metadata": {},
          "execution_count": 61
        }
      ]
    },
    {
      "cell_type": "code",
      "source": [
        "delivery[\"Time Taken in Days\"].median()"
      ],
      "metadata": {
        "colab": {
          "base_uri": "https://localhost:8080/"
        },
        "id": "rUCU4_AXOhlL",
        "outputId": "3f72e84a-62a7-44b3-f7a8-0e79f43e80d7"
      },
      "execution_count": null,
      "outputs": [
        {
          "output_type": "execute_result",
          "data": {
            "text/plain": [
              "14.0"
            ]
          },
          "metadata": {},
          "execution_count": 62
        }
      ]
    },
    {
      "cell_type": "markdown",
      "source": [
        "***The Mean and Median are almost the same, hence we can assume there are no outliers in the data.***"
      ],
      "metadata": {
        "id": "931WXCFkGdpH"
      }
    },
    {
      "cell_type": "markdown",
      "source": [
        "The average delivery period is 14 days and not 10 days, hence it would not be ethical to market the claim."
      ],
      "metadata": {
        "id": "o4W-K5cDGodq"
      }
    },
    {
      "cell_type": "markdown",
      "source": [
        "We can improve this situation by setting up delivery stations in areas where the ***Time Taken*** and ***Quantity*** of orders are more."
      ],
      "metadata": {
        "id": "UdHyHSJXGzuD"
      }
    },
    {
      "cell_type": "code",
      "source": [
        "delivery[delivery[\"Time Taken in Days\"]>=10][\"state\"].value_counts()"
      ],
      "metadata": {
        "colab": {
          "base_uri": "https://localhost:8080/"
        },
        "id": "TllA-gD7Tncl",
        "outputId": "de393ba8-276d-46b7-b3a4-333f7ee4a4a8"
      },
      "execution_count": null,
      "outputs": [
        {
          "output_type": "execute_result",
          "data": {
            "text/plain": [
              "Queensland                      93\n",
              "New South Wales                 90\n",
              "South Australia                 89\n",
              "Northern Territory              87\n",
              "Australian Capital Territory    87\n",
              "Victoria                        82\n",
              "Western Australia               80\n",
              "Tasmania                        70\n",
              "Name: state, dtype: int64"
            ]
          },
          "metadata": {},
          "execution_count": 63
        }
      ]
    },
    {
      "cell_type": "code",
      "source": [
        "state_data=df.loc[df[\"quantity\"]==df[\"quantity\"].max()]\n",
        "state_data[\"state\"].value_counts()"
      ],
      "metadata": {
        "colab": {
          "base_uri": "https://localhost:8080/"
        },
        "id": "hKJtvjChWFxD",
        "outputId": "6fbc97ef-4cf1-439c-80b2-03234cfada81"
      },
      "execution_count": null,
      "outputs": [
        {
          "output_type": "execute_result",
          "data": {
            "text/plain": [
              "South Australia                 4\n",
              "Tasmania                        4\n",
              "Victoria                        3\n",
              "Australian Capital Territory    3\n",
              "New South Wales                 2\n",
              "Northern Territory              1\n",
              "Queensland                      1\n",
              "Western Australia               1\n",
              "Name: state, dtype: int64"
            ]
          },
          "metadata": {},
          "execution_count": 64
        }
      ]
    },
    {
      "cell_type": "code",
      "source": [
        "city=df[df[\"state\"]==\"South Australia\"]\n",
        "city[\"city\"].value_counts()"
      ],
      "metadata": {
        "colab": {
          "base_uri": "https://localhost:8080/"
        },
        "id": "b4O-r3eAXqNq",
        "outputId": "18b32104-aec7-42f5-a7c2-767f9ea44a5e"
      },
      "execution_count": null,
      "outputs": [
        {
          "output_type": "execute_result",
          "data": {
            "text/plain": [
              "West Kai            2\n",
              "Port Isabelle       2\n",
              "New Angelina        1\n",
              "New Emmastad        1\n",
              "Port Zaraberg       1\n",
              "                   ..\n",
              "South Jayden        1\n",
              "South Pipermouth    1\n",
              "New Sienna          1\n",
              "Johntown            1\n",
              "Glovershire         1\n",
              "Name: city, Length: 137, dtype: int64"
            ]
          },
          "metadata": {},
          "execution_count": 65
        }
      ]
    },
    {
      "cell_type": "markdown",
      "source": [
        "**Question 4:** An In-Store Shop wishes to set up mannequins clothed in Male and Female clothes to increase sales. Find out the best and economically profitable combination of clothes to do so."
      ],
      "metadata": {
        "id": "ZHCfj3kMHHrp"
      }
    },
    {
      "cell_type": "code",
      "source": [
        "df[\"product_type\"].unique()"
      ],
      "metadata": {
        "colab": {
          "base_uri": "https://localhost:8080/"
        },
        "id": "8yOF31LWYU20",
        "outputId": "64e80fb3-987b-408f-857d-1cf4b984d1fb"
      },
      "execution_count": null,
      "outputs": [
        {
          "output_type": "execute_result",
          "data": {
            "text/plain": [
              "array(['Shirt', 'Jacket', 'Trousers'], dtype=object)"
            ]
          },
          "metadata": {},
          "execution_count": 66
        }
      ]
    },
    {
      "cell_type": "code",
      "source": [
        "df[\"order_date\"]=df[\"order_date\"].str[5:6]\n",
        "df[\"order_date\"]=df[\"order_date\"].astype(int)\n",
        "df[\"order_date\"] = df['order_date'].apply(lambda x: calendar.month_abbr[x])"
      ],
      "metadata": {
        "id": "L_kEdHIVdi82"
      },
      "execution_count": null,
      "outputs": []
    },
    {
      "cell_type": "code",
      "source": [
        "jacket=df[(df[\"product_type\"]==\"Jacket\") & (df[\"gender\"]==\"Female\") & (df[\"order_date\"]==\"Sep\")]\n",
        "jacket_f=jacket[\"product_name\"].value_counts().index.tolist()[0]\n",
        "jacket_f\n",
        "\n",
        "shirt=df[(df[\"product_type\"]==\"Shirt\") & (df[\"gender\"]==\"Female\") & (df[\"order_date\"]==\"Sep\")]\n",
        "shirt_f=shirt[\"product_name\"].value_counts().index.tolist()[2]\n",
        "shirt_f\n",
        "\n",
        "trousers=df[(df[\"product_type\"]==\"Trousers\") & (df[\"gender\"]==\"Female\") & (df[\"order_date\"]==\"Sep\")]\n",
        "trousers_f=trousers[\"product_name\"].value_counts().index.tolist()[0]\n",
        "trousers_f\n",
        "\n",
        "print(\"The ideal combo for a female mannequin: \")\n",
        "print(\"Jacket: {}\\n Shirt: {}\\n Trousers: {}\".format(jacket_f,shirt_f,trousers_f))\n",
        "from IPython.display import Image\n",
        "Image(url=\"https://i.styleoholic.com/2020/02/With-beige-shirt-black-cropped-pants-and-lace-up-high-heels.jpg\", width=250, height=250)"
      ],
      "metadata": {
        "colab": {
          "base_uri": "https://localhost:8080/",
          "height": 341
        },
        "id": "nF_RNEs0Yqrb",
        "outputId": "782307e8-aa8e-4e19-835e-9c5ddbfdf1c1"
      },
      "execution_count": null,
      "outputs": [
        {
          "output_type": "stream",
          "name": "stdout",
          "text": [
            "The ideal combo for a female mannequin: \n",
            "Jacket: Leather\n",
            " Shirt: Camp Collared\n",
            " Trousers: Drawstring\n"
          ]
        },
        {
          "output_type": "execute_result",
          "data": {
            "text/html": [
              "<img src=\"https://i.styleoholic.com/2020/02/With-beige-shirt-black-cropped-pants-and-lace-up-high-heels.jpg\" width=\"250\" height=\"250\"/>"
            ],
            "text/plain": [
              "<IPython.core.display.Image object>"
            ]
          },
          "metadata": {},
          "execution_count": 68
        }
      ]
    },
    {
      "cell_type": "code",
      "source": [
        "jacket=df[(df[\"product_type\"]==\"Jacket\") & (df[\"gender\"]==\"Male\")  & (df[\"order_date\"]==\"Sep\")]\n",
        "jacket_m=jacket[\"product_name\"].value_counts().index.tolist()[0]\n",
        "jacket_m\n",
        "\n",
        "shirt=df[(df[\"product_type\"]==\"Shirt\") & (df[\"gender\"]==\"Male\")  & (df[\"order_date\"]==\"Sep\")]\n",
        "shirt_m=shirt[\"product_name\"].value_counts().index.tolist()[4]\n",
        "shirt_m\n",
        "\n",
        "trousers=df[(df[\"product_type\"]==\"Trousers\") & (df[\"gender\"]==\"Male\")  & (df[\"order_date\"]==\"Sep\")]\n",
        "trousers_m=trousers[\"product_name\"].value_counts().index.tolist()[0]\n",
        "trousers_m\n",
        "\n",
        "print(\"The ideal combo for a male mannequin: \")\n",
        "print(\"Jacket: {}\\n Shirt: {}\\n Trousers: {}\".format(jacket_m,shirt_m,trousers_m))\n",
        "from IPython.display import Image\n",
        "Image(url=\"https://world.benetton.com/on/demandware.static/-/Sites-ucb-master/default/dwb75a226d/images/Full_Card_h/Benetton_22P_5VKD5QMI8_905_FY_Full_Card_h.jpg\", width=250, height=250)"
      ],
      "metadata": {
        "colab": {
          "base_uri": "https://localhost:8080/",
          "height": 341
        },
        "id": "V5QzvSMcZuPE",
        "outputId": "06bb9dc4-ae6d-4e8e-cc0e-9e2ffdada963"
      },
      "execution_count": null,
      "outputs": [
        {
          "output_type": "stream",
          "name": "stdout",
          "text": [
            "The ideal combo for a male mannequin: \n",
            "Jacket: Cardigan\n",
            " Shirt: Mandarin Collar\n",
            " Trousers: Chinos\n"
          ]
        },
        {
          "output_type": "execute_result",
          "data": {
            "text/html": [
              "<img src=\"https://world.benetton.com/on/demandware.static/-/Sites-ucb-master/default/dwb75a226d/images/Full_Card_h/Benetton_22P_5VKD5QMI8_905_FY_Full_Card_h.jpg\" width=\"250\" height=\"250\"/>"
            ],
            "text/plain": [
              "<IPython.core.display.Image object>"
            ]
          },
          "metadata": {},
          "execution_count": 69
        }
      ]
    },
    {
      "cell_type": "markdown",
      "source": [
        "**Question 5**: Corporate wishes to implement a scheme offering Senior Citizens above the age of 60; over 5% discount on all clothing. Predict the margin by which it will affect sales in the month of October."
      ],
      "metadata": {
        "id": "Uk-20Nv5H84Q"
      }
    },
    {
      "cell_type": "code",
      "source": [
        "bins=[20,30,40,50,60,70,80]\n",
        "plt.hist(df[\"age\"], bins, alpha=0.9, edgecolor='k', linewidth=1)\n",
        "plt.title(\"Age vs Sales\")\n",
        "plt.xlabel(\"Age Interval\")\n",
        "plt.ylabel(\"Sales\")\n",
        "plt.show()"
      ],
      "metadata": {
        "colab": {
          "base_uri": "https://localhost:8080/",
          "height": 295
        },
        "id": "47vd1LqZwPCm",
        "outputId": "96d82002-56d1-426f-edcf-f7a2f74e3cc9"
      },
      "execution_count": null,
      "outputs": [
        {
          "output_type": "display_data",
          "data": {
            "text/plain": [
              "<Figure size 432x288 with 1 Axes>"
            ],
            "image/png": "[encoded data removed]"
          },
          "metadata": {
            "needs_background": "light"
          }
        }
      ]
    },
    {
      "cell_type": "code",
      "source": [
        "df5[\"sales\"]=df5[\"price\"]*df5[\"quantity\"]\n",
        "df5[\"order_date\"]=df5[\"order_date\"].str[5:6]\n",
        "df5[\"order_date\"]=df5[\"order_date\"].astype(int)\n",
        "sales_df=df5[[\"sales\",\"order_date\"]].copy()\n",
        "sales_df=sales_df.groupby('order_date')['sales'].sum().reset_index()\n",
        "sales_df"
      ],
      "metadata": {
        "colab": {
          "base_uri": "https://localhost:8080/",
          "height": 332
        },
        "id": "aPygV2uhlSld",
        "outputId": "c49c5975-7f17-4e64-bdad-6c1e7c9175fa"
      },
      "execution_count": null,
      "outputs": [
        {
          "output_type": "execute_result",
          "data": {
            "text/plain": [
              "   order_date    sales\n",
              "0           1  1251675\n",
              "1           2   611133\n",
              "2           3   759620\n",
              "3           4   653023\n",
              "4           5   552995\n",
              "5           6   658699\n",
              "6           7   706053\n",
              "7           8   688716\n",
              "8           9   651023"
            ],
            "text/html": [
              "\n",
              "  <div id=\"df-c6b4c677-2382-43af-970c-42b8cf29b39e\">\n",
              "    <div class=\"colab-df-container\">\n",
              "      <div>\n",
              "<style scoped>\n",
              "    .dataframe tbody tr th:only-of-type {\n",
              "        vertical-align: middle;\n",
              "    }\n",
              "\n",
              "    .dataframe tbody tr th {\n",
              "        vertical-align: top;\n",
              "    }\n",
              "\n",
              "    .dataframe thead th {\n",
              "        text-align: right;\n",
              "    }\n",
              "</style>\n",
              "<table border=\"1\" class=\"dataframe\">\n",
              "  <thead>\n",
              "    <tr style=\"text-align: right;\">\n",
              "      <th></th>\n",
              "      <th>order_date</th>\n",
              "      <th>sales</th>\n",
              "    </tr>\n",
              "  </thead>\n",
              "  <tbody>\n",
              "    <tr>\n",
              "      <th>0</th>\n",
              "      <td>1</td>\n",
              "      <td>1251675</td>\n",
              "    </tr>\n",
              "    <tr>\n",
              "      <th>1</th>\n",
              "      <td>2</td>\n",
              "      <td>611133</td>\n",
              "    </tr>\n",
              "    <tr>\n",
              "      <th>2</th>\n",
              "      <td>3</td>\n",
              "      <td>759620</td>\n",
              "    </tr>\n",
              "    <tr>\n",
              "      <th>3</th>\n",
              "      <td>4</td>\n",
              "      <td>653023</td>\n",
              "    </tr>\n",
              "    <tr>\n",
              "      <th>4</th>\n",
              "      <td>5</td>\n",
              "      <td>552995</td>\n",
              "    </tr>\n",
              "    <tr>\n",
              "      <th>5</th>\n",
              "      <td>6</td>\n",
              "      <td>658699</td>\n",
              "    </tr>\n",
              "    <tr>\n",
              "      <th>6</th>\n",
              "      <td>7</td>\n",
              "      <td>706053</td>\n",
              "    </tr>\n",
              "    <tr>\n",
              "      <th>7</th>\n",
              "      <td>8</td>\n",
              "      <td>688716</td>\n",
              "    </tr>\n",
              "    <tr>\n",
              "      <th>8</th>\n",
              "      <td>9</td>\n",
              "      <td>651023</td>\n",
              "    </tr>\n",
              "  </tbody>\n",
              "</table>\n",
              "</div>\n",
              "      <button class=\"colab-df-convert\" onclick=\"convertToInteractive('df-c6b4c677-2382-43af-970c-42b8cf29b39e')\"\n",
              "              title=\"Convert this dataframe to an interactive table.\"\n",
              "              style=\"display:none;\">\n",
              "        \n",
              "  <svg xmlns=\"http://www.w3.org/2000/svg\" height=\"24px\"viewBox=\"0 0 24 24\"\n",
              "       width=\"24px\">\n",
              "    <path d=\"M0 0h24v24H0V0z\" fill=\"none\"/>\n",
              "    <path d=\"M18.56 5.44l.94 2.06.94-2.06 2.06-.94-2.06-.94-.94-2.06-.94 2.06-2.06.94zm-11 1L8.5 8.5l.94-2.06 2.06-.94-2.06-.94L8.5 2.5l-.94 2.06-2.06.94zm10 10l.94 2.06.94-2.06 2.06-.94-2.06-.94-.94-2.06-.94 2.06-2.06.94z\"/><path d=\"M17.41 7.96l-1.37-1.37c-.4-.4-.92-.59-1.43-.59-.52 0-1.04.2-1.43.59L10.3 9.45l-7.72 7.72c-.78.78-.78 2.05 0 2.83L4 21.41c.39.39.9.59 1.41.59.51 0 1.02-.2 1.41-.59l7.78-7.78 2.81-2.81c.8-.78.8-2.07 0-2.86zM5.41 20L4 18.59l7.72-7.72 1.47 1.35L5.41 20z\"/>\n",
              "  </svg>\n",
              "      </button>\n",
              "      \n",
              "  <style>\n",
              "    .colab-df-container {\n",
              "      display:flex;\n",
              "      flex-wrap:wrap;\n",
              "      gap: 12px;\n",
              "    }\n",
              "\n",
              "    .colab-df-convert {\n",
              "      background-color: #E8F0FE;\n",
              "      border: none;\n",
              "      border-radius: 50%;\n",
              "      cursor: pointer;\n",
              "      display: none;\n",
              "      fill: #1967D2;\n",
              "      height: 32px;\n",
              "      padding: 0 0 0 0;\n",
              "      width: 32px;\n",
              "    }\n",
              "\n",
              "    .colab-df-convert:hover {\n",
              "      background-color: #E2EBFA;\n",
              "      box-shadow: 0px 1px 2px rgba(60, 64, 67, 0.3), 0px 1px 3px 1px rgba(60, 64, 67, 0.15);\n",
              "      fill: #174EA6;\n",
              "    }\n",
              "\n",
              "    [theme=dark] .colab-df-convert {\n",
              "      background-color: #3B4455;\n",
              "      fill: #D2E3FC;\n",
              "    }\n",
              "\n",
              "    [theme=dark] .colab-df-convert:hover {\n",
              "      background-color: #434B5C;\n",
              "      box-shadow: 0px 1px 3px 1px rgba(0, 0, 0, 0.15);\n",
              "      filter: drop-shadow(0px 1px 2px rgba(0, 0, 0, 0.3));\n",
              "      fill: #FFFFFF;\n",
              "    }\n",
              "  </style>\n",
              "\n",
              "      <script>\n",
              "        const buttonEl =\n",
              "          document.querySelector('#df-c6b4c677-2382-43af-970c-42b8cf29b39e button.colab-df-convert');\n",
              "        buttonEl.style.display =\n",
              "          google.colab.kernel.accessAllowed ? 'block' : 'none';\n",
              "\n",
              "        async function convertToInteractive(key) {\n",
              "          const element = document.querySelector('#df-c6b4c677-2382-43af-970c-42b8cf29b39e');\n",
              "          const dataTable =\n",
              "            await google.colab.kernel.invokeFunction('convertToInteractive',\n",
              "                                                     [key], {});\n",
              "          if (!dataTable) return;\n",
              "\n",
              "          const docLinkHtml = 'Like what you see? Visit the ' +\n",
              "            '<a target=\"_blank\" href=https://colab.research.google.com/notebooks/data_table.ipynb>data table notebook</a>'\n",
              "            + ' to learn more about interactive tables.';\n",
              "          element.innerHTML = '';\n",
              "          dataTable['output_type'] = 'display_data';\n",
              "          await google.colab.output.renderOutput(dataTable, element);\n",
              "          const docLink = document.createElement('div');\n",
              "          docLink.innerHTML = docLinkHtml;\n",
              "          element.appendChild(docLink);\n",
              "        }\n",
              "      </script>\n",
              "    </div>\n",
              "  </div>\n",
              "  "
            ]
          },
          "metadata": {},
          "execution_count": 80
        }
      ]
    },
    {
      "cell_type": "code",
      "source": [
        "from statistics import mean\n",
        "import numpy as np\n",
        "\n",
        "xs = sales_df[\"order_date\"]\n",
        "ys = sales_df[\"sales\"]\n",
        "\n",
        "def best_fit_slope_and_intercept(xs,ys):\n",
        "    m = (((mean(xs)*mean(ys)) - mean(xs*ys)) /\n",
        "         ((mean(xs)*mean(xs)) - mean(xs*xs)))\n",
        "    \n",
        "    b = mean(ys) - m*mean(xs)\n",
        "    \n",
        "    return m, b\n",
        "\n",
        "m, b = best_fit_slope_and_intercept(xs,ys)\n",
        "\n",
        "print(m,b)"
      ],
      "metadata": {
        "colab": {
          "base_uri": "https://localhost:8080/"
        },
        "id": "Agu4FR7z9WxV",
        "outputId": "0639ce89-93c8-470e-eb3d-fa28ab4e63d5"
      },
      "execution_count": null,
      "outputs": [
        {
          "output_type": "stream",
          "name": "stdout",
          "text": [
            "-37855.28333333332 915158.3055555555\n"
          ]
        }
      ]
    },
    {
      "cell_type": "code",
      "source": [
        "regression_line = [(m*x)+b for x in xs]"
      ],
      "metadata": {
        "id": "QSevjsCa9jW3"
      },
      "execution_count": null,
      "outputs": []
    },
    {
      "cell_type": "code",
      "source": [
        "regression_line = []\n",
        "for x in xs:\n",
        "    regression_line.append((m*x)+b)"
      ],
      "metadata": {
        "id": "K0IgHNFq9l8t"
      },
      "execution_count": null,
      "outputs": []
    },
    {
      "cell_type": "code",
      "source": [
        "import matplotlib.pyplot as plt\n",
        "from matplotlib import style\n",
        "style.use('ggplot')"
      ],
      "metadata": {
        "id": "z0oeRDUF9os4"
      },
      "execution_count": null,
      "outputs": []
    },
    {
      "cell_type": "code",
      "source": [
        "plt.scatter(xs,ys,color='#003F72')\n",
        "plt.plot(xs, regression_line)\n",
        "plt.show()"
      ],
      "metadata": {
        "colab": {
          "base_uri": "https://localhost:8080/",
          "height": 276
        },
        "id": "HCJ7OLhe9qvG",
        "outputId": "e75e2929-7671-4d93-e56d-e2740e6d461a"
      },
      "execution_count": null,
      "outputs": [
        {
          "output_type": "display_data",
          "data": {
            "text/plain": [
              "<Figure size 432x288 with 1 Axes>"
            ],
            "image/png": "[encoded data removed]"
          },
          "metadata": {}
        }
      ]
    },
    {
      "cell_type": "code",
      "source": [
        "predict_x = 10"
      ],
      "metadata": {
        "id": "spKjw6Y59woT"
      },
      "execution_count": null,
      "outputs": []
    },
    {
      "cell_type": "code",
      "source": [
        "predict_y = (m*predict_x)+b\n",
        "print(predict_y)"
      ],
      "metadata": {
        "colab": {
          "base_uri": "https://localhost:8080/"
        },
        "id": "JeAKjKze9z6w",
        "outputId": "7d56b554-f5ad-4aed-b36b-6ff5c006da22"
      },
      "execution_count": null,
      "outputs": [
        {
          "output_type": "stream",
          "name": "stdout",
          "text": [
            "536605.4722222222\n"
          ]
        }
      ]
    },
    {
      "cell_type": "code",
      "source": [
        "print(\"The final sales after discount $\",(((95/100))*predict_y))"
      ],
      "metadata": {
        "colab": {
          "base_uri": "https://localhost:8080/"
        },
        "id": "bA1RWCLm-XrX",
        "outputId": "15e88e7c-2351-46b2-ad9d-10171d7613b9"
      },
      "execution_count": null,
      "outputs": [
        {
          "output_type": "stream",
          "name": "stdout",
          "text": [
            "The final sales after discount $ 509775.1986111111\n"
          ]
        }
      ]
    },
    {
      "cell_type": "markdown",
      "source": [
        "# **The Employee Churn Dataset**"
      ],
      "metadata": {
        "id": "0ny-UN4dO3RC"
      }
    },
    {
      "cell_type": "markdown",
      "source": [
        "***Question: What factor or factors cause an employee to leave his/her company?***"
      ],
      "metadata": {
        "id": "pGLQABv0PYmG"
      }
    },
    {
      "cell_type": "markdown",
      "source": [
        "The \"ML\" way"
      ],
      "metadata": {
        "id": "UIkPxc3dPji7"
      }
    },
    {
      "cell_type": "code",
      "source": [
        "import pandas as pd\n",
        "import numpy as np\n",
        "df=pd.read_csv(\"WA_Fn-UseC_-HR-Employee-Attrition.csv\")\n",
        "df.head()"
      ],
      "metadata": {
        "colab": {
          "base_uri": "https://localhost:8080/",
          "height": 369
        },
        "id": "YPNRxaBMO9F-",
        "outputId": "b16e3b24-f7a7-431c-dd79-59d30d76a395"
      },
      "execution_count": null,
      "outputs": [
        {
          "output_type": "execute_result",
          "data": {
            "text/plain": [
              "   Age Attrition     BusinessTravel  DailyRate              Department  \\\n",
              "0   41       Yes      Travel_Rarely       1102                   Sales   \n",
              "1   49        No  Travel_Frequently        279  Research & Development   \n",
              "2   37       Yes      Travel_Rarely       1373  Research & Development   \n",
              "3   33        No  Travel_Frequently       1392  Research & Development   \n",
              "4   27        No      Travel_Rarely        591  Research & Development   \n",
              "\n",
              "   DistanceFromHome  Education EducationField  EmployeeCount  EmployeeNumber  \\\n",
              "0                 1          2  Life Sciences              1               1   \n",
              "1                 8          1  Life Sciences              1               2   \n",
              "2                 2          2          Other              1               4   \n",
              "3                 3          4  Life Sciences              1               5   \n",
              "4                 2          1        Medical              1               7   \n",
              "\n",
              "   ...  RelationshipSatisfaction StandardHours  StockOptionLevel  \\\n",
              "0  ...                         1            80                 0   \n",
              "1  ...                         4            80                 1   \n",
              "2  ...                         2            80                 0   \n",
              "3  ...                         3            80                 0   \n",
              "4  ...                         4            80                 1   \n",
              "\n",
              "   TotalWorkingYears  TrainingTimesLastYear WorkLifeBalance  YearsAtCompany  \\\n",
              "0                  8                      0               1               6   \n",
              "1                 10                      3               3              10   \n",
              "2                  7                      3               3               0   \n",
              "3                  8                      3               3               8   \n",
              "4                  6                      3               3               2   \n",
              "\n",
              "  YearsInCurrentRole  YearsSinceLastPromotion  YearsWithCurrManager  \n",
              "0                  4                        0                     5  \n",
              "1                  7                        1                     7  \n",
              "2                  0                        0                     0  \n",
              "3                  7                        3                     0  \n",
              "4                  2                        2                     2  \n",
              "\n",
              "[5 rows x 35 columns]"
            ],
            "text/html": [
              "\n",
              "  <div id=\"df-7682dc7d-c307-4210-ae3e-0c645856e572\">\n",
              "    <div class=\"colab-df-container\">\n",
              "      <div>\n",
              "<style scoped>\n",
              "    .dataframe tbody tr th:only-of-type {\n",
              "        vertical-align: middle;\n",
              "    }\n",
              "\n",
              "    .dataframe tbody tr th {\n",
              "        vertical-align: top;\n",
              "    }\n",
              "\n",
              "    .dataframe thead th {\n",
              "        text-align: right;\n",
              "    }\n",
              "</style>\n",
              "<table border=\"1\" class=\"dataframe\">\n",
              "  <thead>\n",
              "    <tr style=\"text-align: right;\">\n",
              "      <th></th>\n",
              "      <th>Age</th>\n",
              "      <th>Attrition</th>\n",
              "      <th>BusinessTravel</th>\n",
              "      <th>DailyRate</th>\n",
              "      <th>Department</th>\n",
              "      <th>DistanceFromHome</th>\n",
              "      <th>Education</th>\n",
              "      <th>EducationField</th>\n",
              "      <th>EmployeeCount</th>\n",
              "      <th>EmployeeNumber</th>\n",
              "      <th>...</th>\n",
              "      <th>RelationshipSatisfaction</th>\n",
              "      <th>StandardHours</th>\n",
              "      <th>StockOptionLevel</th>\n",
              "      <th>TotalWorkingYears</th>\n",
              "      <th>TrainingTimesLastYear</th>\n",
              "      <th>WorkLifeBalance</th>\n",
              "      <th>YearsAtCompany</th>\n",
              "      <th>YearsInCurrentRole</th>\n",
              "      <th>YearsSinceLastPromotion</th>\n",
              "      <th>YearsWithCurrManager</th>\n",
              "    </tr>\n",
              "  </thead>\n",
              "  <tbody>\n",
              "    <tr>\n",
              "      <th>0</th>\n",
              "      <td>41</td>\n",
              "      <td>Yes</td>\n",
              "      <td>Travel_Rarely</td>\n",
              "      <td>1102</td>\n",
              "      <td>Sales</td>\n",
              "      <td>1</td>\n",
              "      <td>2</td>\n",
              "      <td>Life Sciences</td>\n",
              "      <td>1</td>\n",
              "      <td>1</td>\n",
              "      <td>...</td>\n",
              "      <td>1</td>\n",
              "      <td>80</td>\n",
              "      <td>0</td>\n",
              "      <td>8</td>\n",
              "      <td>0</td>\n",
              "      <td>1</td>\n",
              "      <td>6</td>\n",
              "      <td>4</td>\n",
              "      <td>0</td>\n",
              "      <td>5</td>\n",
              "    </tr>\n",
              "    <tr>\n",
              "      <th>1</th>\n",
              "      <td>49</td>\n",
              "      <td>No</td>\n",
              "      <td>Travel_Frequently</td>\n",
              "      <td>279</td>\n",
              "      <td>Research &amp; Development</td>\n",
              "      <td>8</td>\n",
              "      <td>1</td>\n",
              "      <td>Life Sciences</td>\n",
              "      <td>1</td>\n",
              "      <td>2</td>\n",
              "      <td>...</td>\n",
              "      <td>4</td>\n",
              "      <td>80</td>\n",
              "      <td>1</td>\n",
              "      <td>10</td>\n",
              "      <td>3</td>\n",
              "      <td>3</td>\n",
              "      <td>10</td>\n",
              "      <td>7</td>\n",
              "      <td>1</td>\n",
              "      <td>7</td>\n",
              "    </tr>\n",
              "    <tr>\n",
              "      <th>2</th>\n",
              "      <td>37</td>\n",
              "      <td>Yes</td>\n",
              "      <td>Travel_Rarely</td>\n",
              "      <td>1373</td>\n",
              "      <td>Research &amp; Development</td>\n",
              "      <td>2</td>\n",
              "      <td>2</td>\n",
              "      <td>Other</td>\n",
              "      <td>1</td>\n",
              "      <td>4</td>\n",
              "      <td>...</td>\n",
              "      <td>2</td>\n",
              "      <td>80</td>\n",
              "      <td>0</td>\n",
              "      <td>7</td>\n",
              "      <td>3</td>\n",
              "      <td>3</td>\n",
              "      <td>0</td>\n",
              "      <td>0</td>\n",
              "      <td>0</td>\n",
              "      <td>0</td>\n",
              "    </tr>\n",
              "    <tr>\n",
              "      <th>3</th>\n",
              "      <td>33</td>\n",
              "      <td>No</td>\n",
              "      <td>Travel_Frequently</td>\n",
              "      <td>1392</td>\n",
              "      <td>Research &amp; Development</td>\n",
              "      <td>3</td>\n",
              "      <td>4</td>\n",
              "      <td>Life Sciences</td>\n",
              "      <td>1</td>\n",
              "      <td>5</td>\n",
              "      <td>...</td>\n",
              "      <td>3</td>\n",
              "      <td>80</td>\n",
              "      <td>0</td>\n",
              "      <td>8</td>\n",
              "      <td>3</td>\n",
              "      <td>3</td>\n",
              "      <td>8</td>\n",
              "      <td>7</td>\n",
              "      <td>3</td>\n",
              "      <td>0</td>\n",
              "    </tr>\n",
              "    <tr>\n",
              "      <th>4</th>\n",
              "      <td>27</td>\n",
              "      <td>No</td>\n",
              "      <td>Travel_Rarely</td>\n",
              "      <td>591</td>\n",
              "      <td>Research &amp; Development</td>\n",
              "      <td>2</td>\n",
              "      <td>1</td>\n",
              "      <td>Medical</td>\n",
              "      <td>1</td>\n",
              "      <td>7</td>\n",
              "      <td>...</td>\n",
              "      <td>4</td>\n",
              "      <td>80</td>\n",
              "      <td>1</td>\n",
              "      <td>6</td>\n",
              "      <td>3</td>\n",
              "      <td>3</td>\n",
              "      <td>2</td>\n",
              "      <td>2</td>\n",
              "      <td>2</td>\n",
              "      <td>2</td>\n",
              "    </tr>\n",
              "  </tbody>\n",
              "</table>\n",
              "<p>5 rows × 35 columns</p>\n",
              "</div>\n",
              "      <button class=\"colab-df-convert\" onclick=\"convertToInteractive('df-7682dc7d-c307-4210-ae3e-0c645856e572')\"\n",
              "              title=\"Convert this dataframe to an interactive table.\"\n",
              "              style=\"display:none;\">\n",
              "        \n",
              "  <svg xmlns=\"http://www.w3.org/2000/svg\" height=\"24px\"viewBox=\"0 0 24 24\"\n",
              "       width=\"24px\">\n",
              "    <path d=\"M0 0h24v24H0V0z\" fill=\"none\"/>\n",
              "    <path d=\"M18.56 5.44l.94 2.06.94-2.06 2.06-.94-2.06-.94-.94-2.06-.94 2.06-2.06.94zm-11 1L8.5 8.5l.94-2.06 2.06-.94-2.06-.94L8.5 2.5l-.94 2.06-2.06.94zm10 10l.94 2.06.94-2.06 2.06-.94-2.06-.94-.94-2.06-.94 2.06-2.06.94z\"/><path d=\"M17.41 7.96l-1.37-1.37c-.4-.4-.92-.59-1.43-.59-.52 0-1.04.2-1.43.59L10.3 9.45l-7.72 7.72c-.78.78-.78 2.05 0 2.83L4 21.41c.39.39.9.59 1.41.59.51 0 1.02-.2 1.41-.59l7.78-7.78 2.81-2.81c.8-.78.8-2.07 0-2.86zM5.41 20L4 18.59l7.72-7.72 1.47 1.35L5.41 20z\"/>\n",
              "  </svg>\n",
              "      </button>\n",
              "      \n",
              "  <style>\n",
              "    .colab-df-container {\n",
              "      display:flex;\n",
              "      flex-wrap:wrap;\n",
              "      gap: 12px;\n",
              "    }\n",
              "\n",
              "    .colab-df-convert {\n",
              "      background-color: #E8F0FE;\n",
              "      border: none;\n",
              "      border-radius: 50%;\n",
              "      cursor: pointer;\n",
              "      display: none;\n",
              "      fill: #1967D2;\n",
              "      height: 32px;\n",
              "      padding: 0 0 0 0;\n",
              "      width: 32px;\n",
              "    }\n",
              "\n",
              "    .colab-df-convert:hover {\n",
              "      background-color: #E2EBFA;\n",
              "      box-shadow: 0px 1px 2px rgba(60, 64, 67, 0.3), 0px 1px 3px 1px rgba(60, 64, 67, 0.15);\n",
              "      fill: #174EA6;\n",
              "    }\n",
              "\n",
              "    [theme=dark] .colab-df-convert {\n",
              "      background-color: #3B4455;\n",
              "      fill: #D2E3FC;\n",
              "    }\n",
              "\n",
              "    [theme=dark] .colab-df-convert:hover {\n",
              "      background-color: #434B5C;\n",
              "      box-shadow: 0px 1px 3px 1px rgba(0, 0, 0, 0.15);\n",
              "      filter: drop-shadow(0px 1px 2px rgba(0, 0, 0, 0.3));\n",
              "      fill: #FFFFFF;\n",
              "    }\n",
              "  </style>\n",
              "\n",
              "      <script>\n",
              "        const buttonEl =\n",
              "          document.querySelector('#df-7682dc7d-c307-4210-ae3e-0c645856e572 button.colab-df-convert');\n",
              "        buttonEl.style.display =\n",
              "          google.colab.kernel.accessAllowed ? 'block' : 'none';\n",
              "\n",
              "        async function convertToInteractive(key) {\n",
              "          const element = document.querySelector('#df-7682dc7d-c307-4210-ae3e-0c645856e572');\n",
              "          const dataTable =\n",
              "            await google.colab.kernel.invokeFunction('convertToInteractive',\n",
              "                                                     [key], {});\n",
              "          if (!dataTable) return;\n",
              "\n",
              "          const docLinkHtml = 'Like what you see? Visit the ' +\n",
              "            '<a target=\"_blank\" href=https://colab.research.google.com/notebooks/data_table.ipynb>data table notebook</a>'\n",
              "            + ' to learn more about interactive tables.';\n",
              "          element.innerHTML = '';\n",
              "          dataTable['output_type'] = 'display_data';\n",
              "          await google.colab.output.renderOutput(dataTable, element);\n",
              "          const docLink = document.createElement('div');\n",
              "          docLink.innerHTML = docLinkHtml;\n",
              "          element.appendChild(docLink);\n",
              "        }\n",
              "      </script>\n",
              "    </div>\n",
              "  </div>\n",
              "  "
            ]
          },
          "metadata": {},
          "execution_count": 89
        }
      ]
    },
    {
      "cell_type": "code",
      "source": [
        "from sklearn.preprocessing import LabelEncoder\n",
        "for column in df.columns:\n",
        "        if df[column].dtype == np.number:\n",
        "            continue\n",
        "        df[column] = LabelEncoder().fit_transform(df[column])\n",
        "df"
      ],
      "metadata": {
        "colab": {
          "base_uri": "https://localhost:8080/",
          "height": 522
        },
        "id": "ZwucH9JJPAqm",
        "outputId": "7126e77c-5180-4bfd-a17a-193606cb392c"
      },
      "execution_count": null,
      "outputs": [
        {
          "output_type": "stream",
          "name": "stderr",
          "text": [
            "/usr/local/lib/python3.7/dist-packages/ipykernel_launcher.py:3: DeprecationWarning: Converting `np.inexact` or `np.floating` to a dtype is deprecated. The current result is `float64` which is not strictly correct.\n",
            "  This is separate from the ipykernel package so we can avoid doing imports until\n"
          ]
        },
        {
          "output_type": "execute_result",
          "data": {
            "text/plain": [
              "      Age  Attrition  BusinessTravel  DailyRate  Department  DistanceFromHome  \\\n",
              "0      23          1               2        624           2                 0   \n",
              "1      31          0               1        113           1                 7   \n",
              "2      19          1               2        805           1                 1   \n",
              "3      15          0               1        820           1                 2   \n",
              "4       9          0               2        312           1                 1   \n",
              "...   ...        ...             ...        ...         ...               ...   \n",
              "1465   18          0               1        494           1                22   \n",
              "1466   21          0               2        327           1                 5   \n",
              "1467    9          0               2         39           1                 3   \n",
              "1468   31          0               1        579           2                 1   \n",
              "1469   16          0               2        336           1                 7   \n",
              "\n",
              "      Education  EducationField  EmployeeCount  EmployeeNumber  ...  \\\n",
              "0             1               1              0               0  ...   \n",
              "1             0               1              0               1  ...   \n",
              "2             1               4              0               2  ...   \n",
              "3             3               1              0               3  ...   \n",
              "4             0               3              0               4  ...   \n",
              "...         ...             ...            ...             ...  ...   \n",
              "1465          1               3              0            1465  ...   \n",
              "1466          0               3              0            1466  ...   \n",
              "1467          2               1              0            1467  ...   \n",
              "1468          2               3              0            1468  ...   \n",
              "1469          2               3              0            1469  ...   \n",
              "\n",
              "      RelationshipSatisfaction  StandardHours  StockOptionLevel  \\\n",
              "0                            0              0                 0   \n",
              "1                            3              0                 1   \n",
              "2                            1              0                 0   \n",
              "3                            2              0                 0   \n",
              "4                            3              0                 1   \n",
              "...                        ...            ...               ...   \n",
              "1465                         2              0                 1   \n",
              "1466                         0              0                 1   \n",
              "1467                         1              0                 1   \n",
              "1468                         3              0                 0   \n",
              "1469                         0              0                 0   \n",
              "\n",
              "      TotalWorkingYears  TrainingTimesLastYear  WorkLifeBalance  \\\n",
              "0                     8                      0                0   \n",
              "1                    10                      3                2   \n",
              "2                     7                      3                2   \n",
              "3                     8                      3                2   \n",
              "4                     6                      3                2   \n",
              "...                 ...                    ...              ...   \n",
              "1465                 17                      3                2   \n",
              "1466                  9                      5                2   \n",
              "1467                  6                      0                2   \n",
              "1468                 17                      3                1   \n",
              "1469                  6                      3                3   \n",
              "\n",
              "      YearsAtCompany  YearsInCurrentRole  YearsSinceLastPromotion  \\\n",
              "0                  6                   4                        0   \n",
              "1                 10                   7                        1   \n",
              "2                  0                   0                        0   \n",
              "3                  8                   7                        3   \n",
              "4                  2                   2                        2   \n",
              "...              ...                 ...                      ...   \n",
              "1465               5                   2                        0   \n",
              "1466               7                   7                        1   \n",
              "1467               6                   2                        0   \n",
              "1468               9                   6                        0   \n",
              "1469               4                   3                        1   \n",
              "\n",
              "      YearsWithCurrManager  \n",
              "0                        5  \n",
              "1                        7  \n",
              "2                        0  \n",
              "3                        0  \n",
              "4                        2  \n",
              "...                    ...  \n",
              "1465                     3  \n",
              "1466                     7  \n",
              "1467                     3  \n",
              "1468                     8  \n",
              "1469                     2  \n",
              "\n",
              "[1470 rows x 35 columns]"
            ],
            "text/html": [
              "\n",
              "  <div id=\"df-092d20c9-05c9-4477-b041-38a4bbf63397\">\n",
              "    <div class=\"colab-df-container\">\n",
              "      <div>\n",
              "<style scoped>\n",
              "    .dataframe tbody tr th:only-of-type {\n",
              "        vertical-align: middle;\n",
              "    }\n",
              "\n",
              "    .dataframe tbody tr th {\n",
              "        vertical-align: top;\n",
              "    }\n",
              "\n",
              "    .dataframe thead th {\n",
              "        text-align: right;\n",
              "    }\n",
              "</style>\n",
              "<table border=\"1\" class=\"dataframe\">\n",
              "  <thead>\n",
              "    <tr style=\"text-align: right;\">\n",
              "      <th></th>\n",
              "      <th>Age</th>\n",
              "      <th>Attrition</th>\n",
              "      <th>BusinessTravel</th>\n",
              "      <th>DailyRate</th>\n",
              "      <th>Department</th>\n",
              "      <th>DistanceFromHome</th>\n",
              "      <th>Education</th>\n",
              "      <th>EducationField</th>\n",
              "      <th>EmployeeCount</th>\n",
              "      <th>EmployeeNumber</th>\n",
              "      <th>...</th>\n",
              "      <th>RelationshipSatisfaction</th>\n",
              "      <th>StandardHours</th>\n",
              "      <th>StockOptionLevel</th>\n",
              "      <th>TotalWorkingYears</th>\n",
              "      <th>TrainingTimesLastYear</th>\n",
              "      <th>WorkLifeBalance</th>\n",
              "      <th>YearsAtCompany</th>\n",
              "      <th>YearsInCurrentRole</th>\n",
              "      <th>YearsSinceLastPromotion</th>\n",
              "      <th>YearsWithCurrManager</th>\n",
              "    </tr>\n",
              "  </thead>\n",
              "  <tbody>\n",
              "    <tr>\n",
              "      <th>0</th>\n",
              "      <td>23</td>\n",
              "      <td>1</td>\n",
              "      <td>2</td>\n",
              "      <td>624</td>\n",
              "      <td>2</td>\n",
              "      <td>0</td>\n",
              "      <td>1</td>\n",
              "      <td>1</td>\n",
              "      <td>0</td>\n",
              "      <td>0</td>\n",
              "      <td>...</td>\n",
              "      <td>0</td>\n",
              "      <td>0</td>\n",
              "      <td>0</td>\n",
              "      <td>8</td>\n",
              "      <td>0</td>\n",
              "      <td>0</td>\n",
              "      <td>6</td>\n",
              "      <td>4</td>\n",
              "      <td>0</td>\n",
              "      <td>5</td>\n",
              "    </tr>\n",
              "    <tr>\n",
              "      <th>1</th>\n",
              "      <td>31</td>\n",
              "      <td>0</td>\n",
              "      <td>1</td>\n",
              "      <td>113</td>\n",
              "      <td>1</td>\n",
              "      <td>7</td>\n",
              "      <td>0</td>\n",
              "      <td>1</td>\n",
              "      <td>0</td>\n",
              "      <td>1</td>\n",
              "      <td>...</td>\n",
              "      <td>3</td>\n",
              "      <td>0</td>\n",
              "      <td>1</td>\n",
              "      <td>10</td>\n",
              "      <td>3</td>\n",
              "      <td>2</td>\n",
              "      <td>10</td>\n",
              "      <td>7</td>\n",
              "      <td>1</td>\n",
              "      <td>7</td>\n",
              "    </tr>\n",
              "    <tr>\n",
              "      <th>2</th>\n",
              "      <td>19</td>\n",
              "      <td>1</td>\n",
              "      <td>2</td>\n",
              "      <td>805</td>\n",
              "      <td>1</td>\n",
              "      <td>1</td>\n",
              "      <td>1</td>\n",
              "      <td>4</td>\n",
              "      <td>0</td>\n",
              "      <td>2</td>\n",
              "      <td>...</td>\n",
              "      <td>1</td>\n",
              "      <td>0</td>\n",
              "      <td>0</td>\n",
              "      <td>7</td>\n",
              "      <td>3</td>\n",
              "      <td>2</td>\n",
              "      <td>0</td>\n",
              "      <td>0</td>\n",
              "      <td>0</td>\n",
              "      <td>0</td>\n",
              "    </tr>\n",
              "    <tr>\n",
              "      <th>3</th>\n",
              "      <td>15</td>\n",
              "      <td>0</td>\n",
              "      <td>1</td>\n",
              "      <td>820</td>\n",
              "      <td>1</td>\n",
              "      <td>2</td>\n",
              "      <td>3</td>\n",
              "      <td>1</td>\n",
              "      <td>0</td>\n",
              "      <td>3</td>\n",
              "      <td>...</td>\n",
              "      <td>2</td>\n",
              "      <td>0</td>\n",
              "      <td>0</td>\n",
              "      <td>8</td>\n",
              "      <td>3</td>\n",
              "      <td>2</td>\n",
              "      <td>8</td>\n",
              "      <td>7</td>\n",
              "      <td>3</td>\n",
              "      <td>0</td>\n",
              "    </tr>\n",
              "    <tr>\n",
              "      <th>4</th>\n",
              "      <td>9</td>\n",
              "      <td>0</td>\n",
              "      <td>2</td>\n",
              "      <td>312</td>\n",
              "      <td>1</td>\n",
              "      <td>1</td>\n",
              "      <td>0</td>\n",
              "      <td>3</td>\n",
              "      <td>0</td>\n",
              "      <td>4</td>\n",
              "      <td>...</td>\n",
              "      <td>3</td>\n",
              "      <td>0</td>\n",
              "      <td>1</td>\n",
              "      <td>6</td>\n",
              "      <td>3</td>\n",
              "      <td>2</td>\n",
              "      <td>2</td>\n",
              "      <td>2</td>\n",
              "      <td>2</td>\n",
              "      <td>2</td>\n",
              "    </tr>\n",
              "    <tr>\n",
              "      <th>...</th>\n",
              "      <td>...</td>\n",
              "      <td>...</td>\n",
              "      <td>...</td>\n",
              "      <td>...</td>\n",
              "      <td>...</td>\n",
              "      <td>...</td>\n",
              "      <td>...</td>\n",
              "      <td>...</td>\n",
              "      <td>...</td>\n",
              "      <td>...</td>\n",
              "      <td>...</td>\n",
              "      <td>...</td>\n",
              "      <td>...</td>\n",
              "      <td>...</td>\n",
              "      <td>...</td>\n",
              "      <td>...</td>\n",
              "      <td>...</td>\n",
              "      <td>...</td>\n",
              "      <td>...</td>\n",
              "      <td>...</td>\n",
              "      <td>...</td>\n",
              "    </tr>\n",
              "    <tr>\n",
              "      <th>1465</th>\n",
              "      <td>18</td>\n",
              "      <td>0</td>\n",
              "      <td>1</td>\n",
              "      <td>494</td>\n",
              "      <td>1</td>\n",
              "      <td>22</td>\n",
              "      <td>1</td>\n",
              "      <td>3</td>\n",
              "      <td>0</td>\n",
              "      <td>1465</td>\n",
              "      <td>...</td>\n",
              "      <td>2</td>\n",
              "      <td>0</td>\n",
              "      <td>1</td>\n",
              "      <td>17</td>\n",
              "      <td>3</td>\n",
              "      <td>2</td>\n",
              "      <td>5</td>\n",
              "      <td>2</td>\n",
              "      <td>0</td>\n",
              "      <td>3</td>\n",
              "    </tr>\n",
              "    <tr>\n",
              "      <th>1466</th>\n",
              "      <td>21</td>\n",
              "      <td>0</td>\n",
              "      <td>2</td>\n",
              "      <td>327</td>\n",
              "      <td>1</td>\n",
              "      <td>5</td>\n",
              "      <td>0</td>\n",
              "      <td>3</td>\n",
              "      <td>0</td>\n",
              "      <td>1466</td>\n",
              "      <td>...</td>\n",
              "      <td>0</td>\n",
              "      <td>0</td>\n",
              "      <td>1</td>\n",
              "      <td>9</td>\n",
              "      <td>5</td>\n",
              "      <td>2</td>\n",
              "      <td>7</td>\n",
              "      <td>7</td>\n",
              "      <td>1</td>\n",
              "      <td>7</td>\n",
              "    </tr>\n",
              "    <tr>\n",
              "      <th>1467</th>\n",
              "      <td>9</td>\n",
              "      <td>0</td>\n",
              "      <td>2</td>\n",
              "      <td>39</td>\n",
              "      <td>1</td>\n",
              "      <td>3</td>\n",
              "      <td>2</td>\n",
              "      <td>1</td>\n",
              "      <td>0</td>\n",
              "      <td>1467</td>\n",
              "      <td>...</td>\n",
              "      <td>1</td>\n",
              "      <td>0</td>\n",
              "      <td>1</td>\n",
              "      <td>6</td>\n",
              "      <td>0</td>\n",
              "      <td>2</td>\n",
              "      <td>6</td>\n",
              "      <td>2</td>\n",
              "      <td>0</td>\n",
              "      <td>3</td>\n",
              "    </tr>\n",
              "    <tr>\n",
              "      <th>1468</th>\n",
              "      <td>31</td>\n",
              "      <td>0</td>\n",
              "      <td>1</td>\n",
              "      <td>579</td>\n",
              "      <td>2</td>\n",
              "      <td>1</td>\n",
              "      <td>2</td>\n",
              "      <td>3</td>\n",
              "      <td>0</td>\n",
              "      <td>1468</td>\n",
              "      <td>...</td>\n",
              "      <td>3</td>\n",
              "      <td>0</td>\n",
              "      <td>0</td>\n",
              "      <td>17</td>\n",
              "      <td>3</td>\n",
              "      <td>1</td>\n",
              "      <td>9</td>\n",
              "      <td>6</td>\n",
              "      <td>0</td>\n",
              "      <td>8</td>\n",
              "    </tr>\n",
              "    <tr>\n",
              "      <th>1469</th>\n",
              "      <td>16</td>\n",
              "      <td>0</td>\n",
              "      <td>2</td>\n",
              "      <td>336</td>\n",
              "      <td>1</td>\n",
              "      <td>7</td>\n",
              "      <td>2</td>\n",
              "      <td>3</td>\n",
              "      <td>0</td>\n",
              "      <td>1469</td>\n",
              "      <td>...</td>\n",
              "      <td>0</td>\n",
              "      <td>0</td>\n",
              "      <td>0</td>\n",
              "      <td>6</td>\n",
              "      <td>3</td>\n",
              "      <td>3</td>\n",
              "      <td>4</td>\n",
              "      <td>3</td>\n",
              "      <td>1</td>\n",
              "      <td>2</td>\n",
              "    </tr>\n",
              "  </tbody>\n",
              "</table>\n",
              "<p>1470 rows × 35 columns</p>\n",
              "</div>\n",
              "      <button class=\"colab-df-convert\" onclick=\"convertToInteractive('df-092d20c9-05c9-4477-b041-38a4bbf63397')\"\n",
              "              title=\"Convert this dataframe to an interactive table.\"\n",
              "              style=\"display:none;\">\n",
              "        \n",
              "  <svg xmlns=\"http://www.w3.org/2000/svg\" height=\"24px\"viewBox=\"0 0 24 24\"\n",
              "       width=\"24px\">\n",
              "    <path d=\"M0 0h24v24H0V0z\" fill=\"none\"/>\n",
              "    <path d=\"M18.56 5.44l.94 2.06.94-2.06 2.06-.94-2.06-.94-.94-2.06-.94 2.06-2.06.94zm-11 1L8.5 8.5l.94-2.06 2.06-.94-2.06-.94L8.5 2.5l-.94 2.06-2.06.94zm10 10l.94 2.06.94-2.06 2.06-.94-2.06-.94-.94-2.06-.94 2.06-2.06.94z\"/><path d=\"M17.41 7.96l-1.37-1.37c-.4-.4-.92-.59-1.43-.59-.52 0-1.04.2-1.43.59L10.3 9.45l-7.72 7.72c-.78.78-.78 2.05 0 2.83L4 21.41c.39.39.9.59 1.41.59.51 0 1.02-.2 1.41-.59l7.78-7.78 2.81-2.81c.8-.78.8-2.07 0-2.86zM5.41 20L4 18.59l7.72-7.72 1.47 1.35L5.41 20z\"/>\n",
              "  </svg>\n",
              "      </button>\n",
              "      \n",
              "  <style>\n",
              "    .colab-df-container {\n",
              "      display:flex;\n",
              "      flex-wrap:wrap;\n",
              "      gap: 12px;\n",
              "    }\n",
              "\n",
              "    .colab-df-convert {\n",
              "      background-color: #E8F0FE;\n",
              "      border: none;\n",
              "      border-radius: 50%;\n",
              "      cursor: pointer;\n",
              "      display: none;\n",
              "      fill: #1967D2;\n",
              "      height: 32px;\n",
              "      padding: 0 0 0 0;\n",
              "      width: 32px;\n",
              "    }\n",
              "\n",
              "    .colab-df-convert:hover {\n",
              "      background-color: #E2EBFA;\n",
              "      box-shadow: 0px 1px 2px rgba(60, 64, 67, 0.3), 0px 1px 3px 1px rgba(60, 64, 67, 0.15);\n",
              "      fill: #174EA6;\n",
              "    }\n",
              "\n",
              "    [theme=dark] .colab-df-convert {\n",
              "      background-color: #3B4455;\n",
              "      fill: #D2E3FC;\n",
              "    }\n",
              "\n",
              "    [theme=dark] .colab-df-convert:hover {\n",
              "      background-color: #434B5C;\n",
              "      box-shadow: 0px 1px 3px 1px rgba(0, 0, 0, 0.15);\n",
              "      filter: drop-shadow(0px 1px 2px rgba(0, 0, 0, 0.3));\n",
              "      fill: #FFFFFF;\n",
              "    }\n",
              "  </style>\n",
              "\n",
              "      <script>\n",
              "        const buttonEl =\n",
              "          document.querySelector('#df-092d20c9-05c9-4477-b041-38a4bbf63397 button.colab-df-convert');\n",
              "        buttonEl.style.display =\n",
              "          google.colab.kernel.accessAllowed ? 'block' : 'none';\n",
              "\n",
              "        async function convertToInteractive(key) {\n",
              "          const element = document.querySelector('#df-092d20c9-05c9-4477-b041-38a4bbf63397');\n",
              "          const dataTable =\n",
              "            await google.colab.kernel.invokeFunction('convertToInteractive',\n",
              "                                                     [key], {});\n",
              "          if (!dataTable) return;\n",
              "\n",
              "          const docLinkHtml = 'Like what you see? Visit the ' +\n",
              "            '<a target=\"_blank\" href=https://colab.research.google.com/notebooks/data_table.ipynb>data table notebook</a>'\n",
              "            + ' to learn more about interactive tables.';\n",
              "          element.innerHTML = '';\n",
              "          dataTable['output_type'] = 'display_data';\n",
              "          await google.colab.output.renderOutput(dataTable, element);\n",
              "          const docLink = document.createElement('div');\n",
              "          docLink.innerHTML = docLinkHtml;\n",
              "          element.appendChild(docLink);\n",
              "        }\n",
              "      </script>\n",
              "    </div>\n",
              "  </div>\n",
              "  "
            ]
          },
          "metadata": {},
          "execution_count": 90
        }
      ]
    },
    {
      "cell_type": "code",
      "source": [
        "df.info()"
      ],
      "metadata": {
        "colab": {
          "base_uri": "https://localhost:8080/"
        },
        "id": "b0R6-B8DPBxE",
        "outputId": "497859c9-4530-4f0d-ac63-bd7dc3a3ed3b"
      },
      "execution_count": null,
      "outputs": [
        {
          "output_type": "stream",
          "name": "stdout",
          "text": [
            "<class 'pandas.core.frame.DataFrame'>\n",
            "RangeIndex: 1470 entries, 0 to 1469\n",
            "Data columns (total 35 columns):\n",
            " #   Column                    Non-Null Count  Dtype\n",
            "---  ------                    --------------  -----\n",
            " 0   Age                       1470 non-null   int64\n",
            " 1   Attrition                 1470 non-null   int64\n",
            " 2   BusinessTravel            1470 non-null   int64\n",
            " 3   DailyRate                 1470 non-null   int64\n",
            " 4   Department                1470 non-null   int64\n",
            " 5   DistanceFromHome          1470 non-null   int64\n",
            " 6   Education                 1470 non-null   int64\n",
            " 7   EducationField            1470 non-null   int64\n",
            " 8   EmployeeCount             1470 non-null   int64\n",
            " 9   EmployeeNumber            1470 non-null   int64\n",
            " 10  EnvironmentSatisfaction   1470 non-null   int64\n",
            " 11  Gender                    1470 non-null   int64\n",
            " 12  HourlyRate                1470 non-null   int64\n",
            " 13  JobInvolvement            1470 non-null   int64\n",
            " 14  JobLevel                  1470 non-null   int64\n",
            " 15  JobRole                   1470 non-null   int64\n",
            " 16  JobSatisfaction           1470 non-null   int64\n",
            " 17  MaritalStatus             1470 non-null   int64\n",
            " 18  MonthlyIncome             1470 non-null   int64\n",
            " 19  MonthlyRate               1470 non-null   int64\n",
            " 20  NumCompaniesWorked        1470 non-null   int64\n",
            " 21  Over18                    1470 non-null   int64\n",
            " 22  OverTime                  1470 non-null   int64\n",
            " 23  PercentSalaryHike         1470 non-null   int64\n",
            " 24  PerformanceRating         1470 non-null   int64\n",
            " 25  RelationshipSatisfaction  1470 non-null   int64\n",
            " 26  StandardHours             1470 non-null   int64\n",
            " 27  StockOptionLevel          1470 non-null   int64\n",
            " 28  TotalWorkingYears         1470 non-null   int64\n",
            " 29  TrainingTimesLastYear     1470 non-null   int64\n",
            " 30  WorkLifeBalance           1470 non-null   int64\n",
            " 31  YearsAtCompany            1470 non-null   int64\n",
            " 32  YearsInCurrentRole        1470 non-null   int64\n",
            " 33  YearsSinceLastPromotion   1470 non-null   int64\n",
            " 34  YearsWithCurrManager      1470 non-null   int64\n",
            "dtypes: int64(35)\n",
            "memory usage: 402.1 KB\n"
          ]
        }
      ]
    },
    {
      "cell_type": "code",
      "source": [
        "X = df.iloc[:, 1:df.shape[1]].values \n",
        "Y = df.iloc[:, 0].values"
      ],
      "metadata": {
        "id": "0ckyxQyaPDsN"
      },
      "execution_count": null,
      "outputs": []
    },
    {
      "cell_type": "code",
      "source": [
        "from sklearn.model_selection import train_test_split\n",
        "X_train, X_test, Y_train, Y_test = train_test_split(X, Y, test_size = 0.25, random_state = 0)"
      ],
      "metadata": {
        "id": "Z1mO3QuMPN6W"
      },
      "execution_count": null,
      "outputs": []
    },
    {
      "cell_type": "code",
      "source": [
        "from sklearn.ensemble import RandomForestClassifier\n",
        "forest = RandomForestClassifier(n_estimators = 10, criterion = 'entropy', random_state = 0)\n",
        "forest.fit(X_train, Y_train)"
      ],
      "metadata": {
        "colab": {
          "base_uri": "https://localhost:8080/"
        },
        "id": "f5g41OJBPOiw",
        "outputId": "c9ef3031-642c-4ad0-8902-f3e749bfa55c"
      },
      "execution_count": null,
      "outputs": [
        {
          "output_type": "execute_result",
          "data": {
            "text/plain": [
              "RandomForestClassifier(criterion='entropy', n_estimators=10, random_state=0)"
            ]
          },
          "metadata": {},
          "execution_count": 94
        }
      ]
    },
    {
      "cell_type": "code",
      "source": [
        "forest.score(X_train, Y_train)"
      ],
      "metadata": {
        "colab": {
          "base_uri": "https://localhost:8080/"
        },
        "id": "3t9qd1TBPP9N",
        "outputId": "77155d7d-4c5a-4e39-8f0a-0311825238ea"
      },
      "execution_count": null,
      "outputs": [
        {
          "output_type": "execute_result",
          "data": {
            "text/plain": [
              "0.9954627949183303"
            ]
          },
          "metadata": {},
          "execution_count": 95
        }
      ]
    },
    {
      "cell_type": "code",
      "source": [
        "from sklearn.metrics import confusion_matrix\n",
        "\n",
        "cm = confusion_matrix(Y_test, forest.predict(X_test))\n",
        "  \n",
        "TN = cm[0][0]\n",
        "TP = cm[1][1]\n",
        "FN = cm[1][0]\n",
        "FP = cm[0][1]\n",
        "  \n",
        "print(cm)\n",
        "print('Model Testing Accuracy = \"{}!\"'.format(  (TP + TN) / (TP + TN + FN + FP)))\n",
        "print()"
      ],
      "metadata": {
        "colab": {
          "base_uri": "https://localhost:8080/"
        },
        "id": "OdmTQb9EPRk2",
        "outputId": "c861aed0-fc46-4704-de3b-5880b4237fe7"
      },
      "execution_count": null,
      "outputs": [
        {
          "output_type": "stream",
          "name": "stdout",
          "text": [
            "[[1 0 0 ... 0 0 0]\n",
            " [1 0 1 ... 0 0 0]\n",
            " [1 0 0 ... 0 0 0]\n",
            " ...\n",
            " [0 0 0 ... 0 0 0]\n",
            " [0 0 0 ... 0 0 0]\n",
            " [0 0 0 ... 0 0 0]]\n",
            "Model Testing Accuracy = \"0.5!\"\n",
            "\n"
          ]
        }
      ]
    },
    {
      "cell_type": "code",
      "source": [
        "importances = pd.DataFrame({'feature':df.iloc[:, 1:df.shape[1]].columns,'importance':np.round(forest.feature_importances_,3)}) #Note: The target column is at position 0\n",
        "importances = importances.sort_values('importance',ascending=False).set_index('feature')"
      ],
      "metadata": {
        "id": "MrxkY0O8PU7B"
      },
      "execution_count": null,
      "outputs": []
    },
    {
      "cell_type": "code",
      "source": [
        "importances.plot.bar()"
      ],
      "metadata": {
        "colab": {
          "base_uri": "https://localhost:8080/",
          "height": 414
        },
        "id": "rrruB3K-PWyT",
        "outputId": "933c9482-5310-4240-e460-95083c7d0292"
      },
      "execution_count": null,
      "outputs": [
        {
          "output_type": "execute_result",
          "data": {
            "text/plain": [
              "<matplotlib.axes._subplots.AxesSubplot at 0x7ffa39cc8510>"
            ]
          },
          "metadata": {},
          "execution_count": 98
        },
        {
          "output_type": "display_data",
          "data": {
            "text/plain": [
              "<Figure size 432x288 with 1 Axes>"
            ],
            "image/png": "[encoded data removed]"
          },
          "metadata": {}
        }
      ]
    },
    {
      "cell_type": "markdown",
      "source": [
        "***Our Way....The Simple Way***"
      ],
      "metadata": {
        "id": "cbJCciZKPmiK"
      }
    },
    {
      "cell_type": "code",
      "source": [
        "list1=[]\n",
        "list2=[]\n",
        "for i in df.columns:\n",
        "  score=df['Attrition'].corr(df[i])\n",
        "  list1.append(i)\n",
        "  list2.append(score)\n",
        "df1 = pd.DataFrame(list(zip(list1, list2)),columns =['Name', 'Correlation'])\n",
        "df1 = df1.drop(df.index[[8,21,26,1]])\n",
        "df1.head()"
      ],
      "metadata": {
        "colab": {
          "base_uri": "https://localhost:8080/",
          "height": 206
        },
        "id": "b_umClC2Pxsq",
        "outputId": "39f90b3b-db02-4cac-8ba4-29e0424ff864"
      },
      "execution_count": null,
      "outputs": [
        {
          "output_type": "execute_result",
          "data": {
            "text/plain": [
              "               Name  Correlation\n",
              "0               Age    -0.159205\n",
              "2    BusinessTravel     0.000074\n",
              "3         DailyRate    -0.056605\n",
              "4        Department     0.063991\n",
              "5  DistanceFromHome     0.077924"
            ],
            "text/html": [
              "\n",
              "  <div id=\"df-37119e36-4695-4e8b-b829-44ccb33c53be\">\n",
              "    <div class=\"colab-df-container\">\n",
              "      <div>\n",
              "<style scoped>\n",
              "    .dataframe tbody tr th:only-of-type {\n",
              "        vertical-align: middle;\n",
              "    }\n",
              "\n",
              "    .dataframe tbody tr th {\n",
              "        vertical-align: top;\n",
              "    }\n",
              "\n",
              "    .dataframe thead th {\n",
              "        text-align: right;\n",
              "    }\n",
              "</style>\n",
              "<table border=\"1\" class=\"dataframe\">\n",
              "  <thead>\n",
              "    <tr style=\"text-align: right;\">\n",
              "      <th></th>\n",
              "      <th>Name</th>\n",
              "      <th>Correlation</th>\n",
              "    </tr>\n",
              "  </thead>\n",
              "  <tbody>\n",
              "    <tr>\n",
              "      <th>0</th>\n",
              "      <td>Age</td>\n",
              "      <td>-0.159205</td>\n",
              "    </tr>\n",
              "    <tr>\n",
              "      <th>2</th>\n",
              "      <td>BusinessTravel</td>\n",
              "      <td>0.000074</td>\n",
              "    </tr>\n",
              "    <tr>\n",
              "      <th>3</th>\n",
              "      <td>DailyRate</td>\n",
              "      <td>-0.056605</td>\n",
              "    </tr>\n",
              "    <tr>\n",
              "      <th>4</th>\n",
              "      <td>Department</td>\n",
              "      <td>0.063991</td>\n",
              "    </tr>\n",
              "    <tr>\n",
              "      <th>5</th>\n",
              "      <td>DistanceFromHome</td>\n",
              "      <td>0.077924</td>\n",
              "    </tr>\n",
              "  </tbody>\n",
              "</table>\n",
              "</div>\n",
              "      <button class=\"colab-df-convert\" onclick=\"convertToInteractive('df-37119e36-4695-4e8b-b829-44ccb33c53be')\"\n",
              "              title=\"Convert this dataframe to an interactive table.\"\n",
              "              style=\"display:none;\">\n",
              "        \n",
              "  <svg xmlns=\"http://www.w3.org/2000/svg\" height=\"24px\"viewBox=\"0 0 24 24\"\n",
              "       width=\"24px\">\n",
              "    <path d=\"M0 0h24v24H0V0z\" fill=\"none\"/>\n",
              "    <path d=\"M18.56 5.44l.94 2.06.94-2.06 2.06-.94-2.06-.94-.94-2.06-.94 2.06-2.06.94zm-11 1L8.5 8.5l.94-2.06 2.06-.94-2.06-.94L8.5 2.5l-.94 2.06-2.06.94zm10 10l.94 2.06.94-2.06 2.06-.94-2.06-.94-.94-2.06-.94 2.06-2.06.94z\"/><path d=\"M17.41 7.96l-1.37-1.37c-.4-.4-.92-.59-1.43-.59-.52 0-1.04.2-1.43.59L10.3 9.45l-7.72 7.72c-.78.78-.78 2.05 0 2.83L4 21.41c.39.39.9.59 1.41.59.51 0 1.02-.2 1.41-.59l7.78-7.78 2.81-2.81c.8-.78.8-2.07 0-2.86zM5.41 20L4 18.59l7.72-7.72 1.47 1.35L5.41 20z\"/>\n",
              "  </svg>\n",
              "      </button>\n",
              "      \n",
              "  <style>\n",
              "    .colab-df-container {\n",
              "      display:flex;\n",
              "      flex-wrap:wrap;\n",
              "      gap: 12px;\n",
              "    }\n",
              "\n",
              "    .colab-df-convert {\n",
              "      background-color: #E8F0FE;\n",
              "      border: none;\n",
              "      border-radius: 50%;\n",
              "      cursor: pointer;\n",
              "      display: none;\n",
              "      fill: #1967D2;\n",
              "      height: 32px;\n",
              "      padding: 0 0 0 0;\n",
              "      width: 32px;\n",
              "    }\n",
              "\n",
              "    .colab-df-convert:hover {\n",
              "      background-color: #E2EBFA;\n",
              "      box-shadow: 0px 1px 2px rgba(60, 64, 67, 0.3), 0px 1px 3px 1px rgba(60, 64, 67, 0.15);\n",
              "      fill: #174EA6;\n",
              "    }\n",
              "\n",
              "    [theme=dark] .colab-df-convert {\n",
              "      background-color: #3B4455;\n",
              "      fill: #D2E3FC;\n",
              "    }\n",
              "\n",
              "    [theme=dark] .colab-df-convert:hover {\n",
              "      background-color: #434B5C;\n",
              "      box-shadow: 0px 1px 3px 1px rgba(0, 0, 0, 0.15);\n",
              "      filter: drop-shadow(0px 1px 2px rgba(0, 0, 0, 0.3));\n",
              "      fill: #FFFFFF;\n",
              "    }\n",
              "  </style>\n",
              "\n",
              "      <script>\n",
              "        const buttonEl =\n",
              "          document.querySelector('#df-37119e36-4695-4e8b-b829-44ccb33c53be button.colab-df-convert');\n",
              "        buttonEl.style.display =\n",
              "          google.colab.kernel.accessAllowed ? 'block' : 'none';\n",
              "\n",
              "        async function convertToInteractive(key) {\n",
              "          const element = document.querySelector('#df-37119e36-4695-4e8b-b829-44ccb33c53be');\n",
              "          const dataTable =\n",
              "            await google.colab.kernel.invokeFunction('convertToInteractive',\n",
              "                                                     [key], {});\n",
              "          if (!dataTable) return;\n",
              "\n",
              "          const docLinkHtml = 'Like what you see? Visit the ' +\n",
              "            '<a target=\"_blank\" href=https://colab.research.google.com/notebooks/data_table.ipynb>data table notebook</a>'\n",
              "            + ' to learn more about interactive tables.';\n",
              "          element.innerHTML = '';\n",
              "          dataTable['output_type'] = 'display_data';\n",
              "          await google.colab.output.renderOutput(dataTable, element);\n",
              "          const docLink = document.createElement('div');\n",
              "          docLink.innerHTML = docLinkHtml;\n",
              "          element.appendChild(docLink);\n",
              "        }\n",
              "      </script>\n",
              "    </div>\n",
              "  </div>\n",
              "  "
            ]
          },
          "metadata": {},
          "execution_count": 105
        }
      ]
    },
    {
      "cell_type": "code",
      "source": [
        "import matplotlib.pyplot as plt\n",
        "from matplotlib.lines import Line2D\n",
        "import matplotlib\n",
        "fig, ax = plt.subplots(figsize=(15,5))\n",
        "ax.set_title('Plotting the Correlation b/w Attrition')\n",
        "ax.set_xlabel('Factors')\n",
        "ax.set_ylabel('Correlation')\n",
        "plt.bar(df1[\"Name\"], df1[\"Correlation\"], color=['r' if v < 0 else 'g' for v in df1[\"Correlation\"]])\n",
        "plt.ylim(-1, 1)\n",
        "plt.xticks(rotation=90)\n",
        "\n",
        "legend_handles = [Line2D([0], [0], linewidth=0, marker='o', markerfacecolor=color, markersize=12, markeredgecolor='none')\n",
        "                  for color in ['g', 'r']]\n",
        "ax.legend(legend_handles, ['+ve Correlation', '-ve Correlation'])\n",
        "plt.show()"
      ],
      "metadata": {
        "colab": {
          "base_uri": "https://localhost:8080/",
          "height": 468
        },
        "id": "RernkywbP1gr",
        "outputId": "1b4840f3-cf18-45ac-bf06-841a88e024df"
      },
      "execution_count": null,
      "outputs": [
        {
          "output_type": "display_data",
          "data": {
            "text/plain": [
              "<Figure size 1080x360 with 1 Axes>"
            ],
            "image/png": "[encoded data removed]"
          },
          "metadata": {}
        }
      ]
    }
  ]
}