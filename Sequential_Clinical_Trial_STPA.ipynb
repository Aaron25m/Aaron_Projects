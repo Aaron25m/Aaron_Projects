{
  "nbformat": 4,
  "nbformat_minor": 0,
  "metadata": {
    "colab": {
      "provenance": [],
      "authorship_tag": "ABX9TyNuUgff7hDWEBw1M19oRr/m",
      "include_colab_link": true
    },
    "kernelspec": {
      "name": "python3",
      "display_name": "Python 3"
    },
    "language_info": {
      "name": "python"
    }
  },
  "cells": [
    {
      "cell_type": "markdown",
      "metadata": {
        "id": "view-in-github",
        "colab_type": "text"
      },
      "source": [
        "<a href=\"https://colab.research.google.com/github/Aaron25m/Aaron_Projects/blob/Sequential-Clinical-Trials/Sequential_Clinical_Trial_STPA.ipynb\" target=\"_parent\"><img src=\"https://colab.research.google.com/assets/colab-badge.svg\" alt=\"Open In Colab\"/></a>"
      ]
    },
    {
      "cell_type": "code",
      "source": [
        "import pandas as pd\n",
        "data=pd.read_csv(\"diabetes.csv\")\n",
        "data.head(2)"
      ],
      "metadata": {
        "colab": {
          "base_uri": "https://localhost:8080/",
          "height": 112
        },
        "id": "zMPWi1p4M09m",
        "outputId": "58366af6-0ad7-4108-f01f-aed27776ee9f"
      },
      "execution_count": 1,
      "outputs": [
        {
          "output_type": "execute_result",
          "data": {
            "text/plain": [
              "   Pregnancies  Glucose  BloodPressure  SkinThickness  Insulin   BMI  \\\n",
              "0            6      148             72             35        0  33.6   \n",
              "1            1       85             66             29        0  26.6   \n",
              "\n",
              "   DiabetesPedigreeFunction  Age  Outcome  \n",
              "0                     0.627   50        1  \n",
              "1                     0.351   31        0  "
            ],
            "text/html": [
              "\n",
              "  <div id=\"df-ec5d8e3f-b577-4137-b9fe-e6933368c9d3\">\n",
              "    <div class=\"colab-df-container\">\n",
              "      <div>\n",
              "<style scoped>\n",
              "    .dataframe tbody tr th:only-of-type {\n",
              "        vertical-align: middle;\n",
              "    }\n",
              "\n",
              "    .dataframe tbody tr th {\n",
              "        vertical-align: top;\n",
              "    }\n",
              "\n",
              "    .dataframe thead th {\n",
              "        text-align: right;\n",
              "    }\n",
              "</style>\n",
              "<table border=\"1\" class=\"dataframe\">\n",
              "  <thead>\n",
              "    <tr style=\"text-align: right;\">\n",
              "      <th></th>\n",
              "      <th>Pregnancies</th>\n",
              "      <th>Glucose</th>\n",
              "      <th>BloodPressure</th>\n",
              "      <th>SkinThickness</th>\n",
              "      <th>Insulin</th>\n",
              "      <th>BMI</th>\n",
              "      <th>DiabetesPedigreeFunction</th>\n",
              "      <th>Age</th>\n",
              "      <th>Outcome</th>\n",
              "    </tr>\n",
              "  </thead>\n",
              "  <tbody>\n",
              "    <tr>\n",
              "      <th>0</th>\n",
              "      <td>6</td>\n",
              "      <td>148</td>\n",
              "      <td>72</td>\n",
              "      <td>35</td>\n",
              "      <td>0</td>\n",
              "      <td>33.6</td>\n",
              "      <td>0.627</td>\n",
              "      <td>50</td>\n",
              "      <td>1</td>\n",
              "    </tr>\n",
              "    <tr>\n",
              "      <th>1</th>\n",
              "      <td>1</td>\n",
              "      <td>85</td>\n",
              "      <td>66</td>\n",
              "      <td>29</td>\n",
              "      <td>0</td>\n",
              "      <td>26.6</td>\n",
              "      <td>0.351</td>\n",
              "      <td>31</td>\n",
              "      <td>0</td>\n",
              "    </tr>\n",
              "  </tbody>\n",
              "</table>\n",
              "</div>\n",
              "      <button class=\"colab-df-convert\" onclick=\"convertToInteractive('df-ec5d8e3f-b577-4137-b9fe-e6933368c9d3')\"\n",
              "              title=\"Convert this dataframe to an interactive table.\"\n",
              "              style=\"display:none;\">\n",
              "        \n",
              "  <svg xmlns=\"http://www.w3.org/2000/svg\" height=\"24px\"viewBox=\"0 0 24 24\"\n",
              "       width=\"24px\">\n",
              "    <path d=\"M0 0h24v24H0V0z\" fill=\"none\"/>\n",
              "    <path d=\"M18.56 5.44l.94 2.06.94-2.06 2.06-.94-2.06-.94-.94-2.06-.94 2.06-2.06.94zm-11 1L8.5 8.5l.94-2.06 2.06-.94-2.06-.94L8.5 2.5l-.94 2.06-2.06.94zm10 10l.94 2.06.94-2.06 2.06-.94-2.06-.94-.94-2.06-.94 2.06-2.06.94z\"/><path d=\"M17.41 7.96l-1.37-1.37c-.4-.4-.92-.59-1.43-.59-.52 0-1.04.2-1.43.59L10.3 9.45l-7.72 7.72c-.78.78-.78 2.05 0 2.83L4 21.41c.39.39.9.59 1.41.59.51 0 1.02-.2 1.41-.59l7.78-7.78 2.81-2.81c.8-.78.8-2.07 0-2.86zM5.41 20L4 18.59l7.72-7.72 1.47 1.35L5.41 20z\"/>\n",
              "  </svg>\n",
              "      </button>\n",
              "      \n",
              "  <style>\n",
              "    .colab-df-container {\n",
              "      display:flex;\n",
              "      flex-wrap:wrap;\n",
              "      gap: 12px;\n",
              "    }\n",
              "\n",
              "    .colab-df-convert {\n",
              "      background-color: #E8F0FE;\n",
              "      border: none;\n",
              "      border-radius: 50%;\n",
              "      cursor: pointer;\n",
              "      display: none;\n",
              "      fill: #1967D2;\n",
              "      height: 32px;\n",
              "      padding: 0 0 0 0;\n",
              "      width: 32px;\n",
              "    }\n",
              "\n",
              "    .colab-df-convert:hover {\n",
              "      background-color: #E2EBFA;\n",
              "      box-shadow: 0px 1px 2px rgba(60, 64, 67, 0.3), 0px 1px 3px 1px rgba(60, 64, 67, 0.15);\n",
              "      fill: #174EA6;\n",
              "    }\n",
              "\n",
              "    [theme=dark] .colab-df-convert {\n",
              "      background-color: #3B4455;\n",
              "      fill: #D2E3FC;\n",
              "    }\n",
              "\n",
              "    [theme=dark] .colab-df-convert:hover {\n",
              "      background-color: #434B5C;\n",
              "      box-shadow: 0px 1px 3px 1px rgba(0, 0, 0, 0.15);\n",
              "      filter: drop-shadow(0px 1px 2px rgba(0, 0, 0, 0.3));\n",
              "      fill: #FFFFFF;\n",
              "    }\n",
              "  </style>\n",
              "\n",
              "      <script>\n",
              "        const buttonEl =\n",
              "          document.querySelector('#df-ec5d8e3f-b577-4137-b9fe-e6933368c9d3 button.colab-df-convert');\n",
              "        buttonEl.style.display =\n",
              "          google.colab.kernel.accessAllowed ? 'block' : 'none';\n",
              "\n",
              "        async function convertToInteractive(key) {\n",
              "          const element = document.querySelector('#df-ec5d8e3f-b577-4137-b9fe-e6933368c9d3');\n",
              "          const dataTable =\n",
              "            await google.colab.kernel.invokeFunction('convertToInteractive',\n",
              "                                                     [key], {});\n",
              "          if (!dataTable) return;\n",
              "\n",
              "          const docLinkHtml = 'Like what you see? Visit the ' +\n",
              "            '<a target=\"_blank\" href=https://colab.research.google.com/notebooks/data_table.ipynb>data table notebook</a>'\n",
              "            + ' to learn more about interactive tables.';\n",
              "          element.innerHTML = '';\n",
              "          dataTable['output_type'] = 'display_data';\n",
              "          await google.colab.output.renderOutput(dataTable, element);\n",
              "          const docLink = document.createElement('div');\n",
              "          docLink.innerHTML = docLinkHtml;\n",
              "          element.appendChild(docLink);\n",
              "        }\n",
              "      </script>\n",
              "    </div>\n",
              "  </div>\n",
              "  "
            ]
          },
          "metadata": {},
          "execution_count": 1
        }
      ]
    },
    {
      "cell_type": "code",
      "source": [
        "data.columns"
      ],
      "metadata": {
        "colab": {
          "base_uri": "https://localhost:8080/"
        },
        "id": "hX-c_KzINJrM",
        "outputId": "7e3121d8-825b-449e-d506-d5f9f4c44ca1"
      },
      "execution_count": 2,
      "outputs": [
        {
          "output_type": "execute_result",
          "data": {
            "text/plain": [
              "Index(['Pregnancies', 'Glucose', 'BloodPressure', 'SkinThickness', 'Insulin',\n",
              "       'BMI', 'DiabetesPedigreeFunction', 'Age', 'Outcome'],\n",
              "      dtype='object')"
            ]
          },
          "metadata": {},
          "execution_count": 2
        }
      ]
    },
    {
      "cell_type": "code",
      "source": [
        "model = data.iloc[:768]"
      ],
      "metadata": {
        "id": "AQc9EwCwOe-b"
      },
      "execution_count": 3,
      "outputs": []
    },
    {
      "cell_type": "code",
      "source": [
        "len(data)"
      ],
      "metadata": {
        "colab": {
          "base_uri": "https://localhost:8080/"
        },
        "id": "1Yode7pZOIZ3",
        "outputId": "ac10935b-465f-4c9c-cdd7-a78bbc4b5fc6"
      },
      "execution_count": 4,
      "outputs": [
        {
          "output_type": "execute_result",
          "data": {
            "text/plain": [
              "768"
            ]
          },
          "metadata": {},
          "execution_count": 4
        }
      ]
    },
    {
      "cell_type": "code",
      "source": [
        "len(model)"
      ],
      "metadata": {
        "colab": {
          "base_uri": "https://localhost:8080/"
        },
        "id": "0NGkz0saOiTa",
        "outputId": "f9469e0f-07b6-4e6a-fbe1-31d01060014d"
      },
      "execution_count": 5,
      "outputs": [
        {
          "output_type": "execute_result",
          "data": {
            "text/plain": [
              "768"
            ]
          },
          "metadata": {},
          "execution_count": 5
        }
      ]
    },
    {
      "cell_type": "code",
      "source": [
        "model.isnull().sum()"
      ],
      "metadata": {
        "colab": {
          "base_uri": "https://localhost:8080/"
        },
        "id": "eb1fLWuHQZ1L",
        "outputId": "9244c6e1-14e7-4a6a-e756-384742c5f0f8"
      },
      "execution_count": 6,
      "outputs": [
        {
          "output_type": "execute_result",
          "data": {
            "text/plain": [
              "Pregnancies                 0\n",
              "Glucose                     0\n",
              "BloodPressure               0\n",
              "SkinThickness               0\n",
              "Insulin                     0\n",
              "BMI                         0\n",
              "DiabetesPedigreeFunction    0\n",
              "Age                         0\n",
              "Outcome                     0\n",
              "dtype: int64"
            ]
          },
          "metadata": {},
          "execution_count": 6
        }
      ]
    },
    {
      "cell_type": "code",
      "source": [
        "from sklearn.model_selection import train_test_split\n",
        "from sklearn.naive_bayes import GaussianNB\n",
        "from sklearn.metrics import accuracy_score\n",
        "\n",
        "# Split the data into features and target\n",
        "X = model.drop(columns=[\"Outcome\"])\n",
        "y = model[\"Outcome\"]\n",
        "\n",
        "# Split the data into training and test sets\n",
        "X_train, X_test, y_train, y_test = train_test_split(X, y, test_size=0.4, random_state=42)\n",
        "\n",
        "# Create a Gaussian Naive Bayes classifier\n",
        "gnb = GaussianNB()\n",
        "\n",
        "# Fit the model to the training data\n",
        "gnb.fit(X_train, y_train)\n",
        "\n",
        "# Make predictions on the test data\n",
        "y_pred = gnb.predict(X_test)\n",
        "\n",
        "# Calculate the accuracy of the model\n",
        "accuracy = accuracy_score(y_test, y_pred)\n",
        "\n",
        "print(\"Accuracy:\", accuracy)\n"
      ],
      "metadata": {
        "colab": {
          "base_uri": "https://localhost:8080/"
        },
        "id": "FIJhH1L6OTY_",
        "outputId": "6a34b27e-67cb-4934-9b7b-def5984d02fc"
      },
      "execution_count": 7,
      "outputs": [
        {
          "output_type": "stream",
          "name": "stdout",
          "text": [
            "Accuracy: 0.7597402597402597\n"
          ]
        }
      ]
    },
    {
      "cell_type": "markdown",
      "source": [
        "Traditional Clinical Trial"
      ],
      "metadata": {
        "id": "Njs85FwZAvFU"
      }
    },
    {
      "cell_type": "code",
      "source": [
        "import pandas as pd\n",
        "from sklearn.datasets import load_iris\n",
        "from sklearn.naive_bayes import GaussianNB\n",
        "from sklearn.model_selection import train_test_split\n",
        "from sklearn.metrics import accuracy_score\n",
        "\n",
        "\n",
        "# Split the data into training and test sets\n",
        "X_train, X_test, y_train, y_test = train_test_split(X, y, test_size=0.4, random_state=42)\n",
        "\n",
        "# Create a Gaussian Naive Bayes classifier\n",
        "gnb = GaussianNB()\n",
        "\n",
        "# Fit the model to the training data\n",
        "gnb.fit(X_train, y_train)\n",
        "y_pred = gnb.predict(X_test)\n",
        "\n",
        "accuracy = accuracy_score(y_test, y_pred)\n",
        "print(\"Accuracy:\", accuracy)\n",
        "y_prob = gnb.predict_proba(X_test)\n",
        "\n",
        "df = pd.DataFrame(y_prob, columns=[\"Class 0 Probability\", \"Class 1 Probability\"])\n",
        "df[\"Obs\"] = range(1, len(df) + 1)\n",
        "\n",
        "for i in range(len(df)):\n",
        "    if df.loc[i, \"Class 0 Probability\"] < df.loc[i, \"Class 1 Probability\"]:\n",
        "        df.loc[i, \"Actual Class\"] = 1 \n",
        "    else:\n",
        "        df.loc[i, \"Actual Class\"] = 0\n",
        "\n",
        "df.set_index(\"Obs\", inplace=True)\n",
        "print(df)\n",
        "class_counts = (df[\"Actual Class\"].value_counts(normalize=True) * 10).round(decimals=1)\n",
        "print(class_counts)\n"
      ],
      "metadata": {
        "colab": {
          "base_uri": "https://localhost:8080/"
        },
        "id": "Q24Z1x9G3yHS",
        "outputId": "48c0bee6-7c4b-442d-b1a8-19c92f6dfe0f"
      },
      "execution_count": 8,
      "outputs": [
        {
          "output_type": "stream",
          "name": "stdout",
          "text": [
            "Accuracy: 0.7597402597402597\n",
            "     Class 0 Probability  Class 1 Probability  Actual Class\n",
            "Obs                                                        \n",
            "1               0.718211             0.281789           0.0\n",
            "2               0.939441             0.060559           0.0\n",
            "3               0.970721             0.029279           0.0\n",
            "4               0.808641             0.191359           0.0\n",
            "5               0.473029             0.526971           1.0\n",
            "..                   ...                  ...           ...\n",
            "304             0.992963             0.007037           0.0\n",
            "305             0.975498             0.024502           0.0\n",
            "306             0.995971             0.004029           0.0\n",
            "307             0.853746             0.146254           0.0\n",
            "308             0.879324             0.120676           0.0\n",
            "\n",
            "[308 rows x 3 columns]\n",
            "0.0    6.5\n",
            "1.0    3.5\n",
            "Name: Actual Class, dtype: float64\n"
          ]
        }
      ]
    },
    {
      "cell_type": "markdown",
      "source": [
        "Sequential Clinical Trial"
      ],
      "metadata": {
        "id": "bXj8yRGJAxju"
      }
    },
    {
      "cell_type": "code",
      "source": [
        "import numpy as np\n",
        "\n",
        "# Set the number of stages to run\n",
        "num_stages = 10\n",
        "\n",
        "# Initialize a list to store the actual class value counts for each stage\n",
        "actual_class_counts = []\n",
        "\n",
        "for stage in range(num_stages):\n",
        "    # Randomly select 10 observations from the test set\n",
        "    random_indices = np.random.choice(X_test.index, size=10, replace=False)\n",
        "    X_stage = X_test.loc[random_indices]\n",
        "    y_stage = y_test.loc[random_indices]\n",
        "    \n",
        "    # Initialize counters for class 0 and class 1\n",
        "    count_0 = 0\n",
        "    count_1 = 0\n",
        "    \n",
        "    # Initialize a list to store the predicted class for each observation\n",
        "    y_pred_list = []\n",
        "    \n",
        "    # Create a Gaussian Naive Bayes classifier\n",
        "    gnb = GaussianNB()\n",
        "    \n",
        "    # Fit the model to the training data\n",
        "    gnb.fit(X_train, y_train)\n",
        "    \n",
        "    # Loop through each observation in the stage\n",
        "    for i in range(len(X_stage)):\n",
        "        # Split the stage into a single observation\n",
        "        X_single = X_stage.iloc[[i]]\n",
        "        y_single = y_stage.iloc[[i]]\n",
        "        \n",
        "        # Make a prediction for the single observation\n",
        "        y_single_pred = gnb.predict(X_single)[0]\n",
        "        \n",
        "        # Update the counters based on the actual class of the single observation\n",
        "        if y_single.iloc[0] == 0:\n",
        "            count_0 += 1\n",
        "        else:\n",
        "            count_1 += 1\n",
        "        \n",
        "        # Add the predicted class to the list\n",
        "        y_pred_list.append(y_single_pred)\n",
        "    \n",
        "    # Calculate the percentage of each class based on the predicted values\n",
        "    count_0_pred = y_pred_list.count(0)\n",
        "    count_1_pred = y_pred_list.count(1)\n",
        "    percent_0_pred = count_0_pred / len(y_pred_list) * 100\n",
        "    percent_1_pred = count_1_pred / len(y_pred_list) * 100\n",
        "    \n",
        "    # Print the percentage of each class based on the predicted values\n",
        "    print(f\"Stage {stage+1}: Class 0 = {percent_0_pred:.2f}%, Class 1 = {percent_1_pred:.2f}%\")\n",
        "    \n",
        "    # Add the actual class value counts to the list for this stage\n",
        "    actual_class_counts.append(y_stage.value_counts())\n",
        "    \n",
        "# Calculate the average actual class value counts across all stages\n",
        "avg_class_counts = sum(actual_class_counts) / num_stages\n",
        "\n",
        "# Print the average actual class value counts\n",
        "print(f\"\\nAverage Class Value Counts Across All Stages:\\n{avg_class_counts}\")\n"
      ],
      "metadata": {
        "colab": {
          "base_uri": "https://localhost:8080/"
        },
        "id": "VKJM2xMK-NVF",
        "outputId": "1db23eb1-813f-4506-ed1a-86366aa81fae"
      },
      "execution_count": 10,
      "outputs": [
        {
          "output_type": "stream",
          "name": "stdout",
          "text": [
            "Stage 1: Class 0 = 70.00%, Class 1 = 30.00%\n",
            "Stage 2: Class 0 = 70.00%, Class 1 = 30.00%\n",
            "Stage 3: Class 0 = 70.00%, Class 1 = 30.00%\n",
            "Stage 4: Class 0 = 90.00%, Class 1 = 10.00%\n",
            "Stage 5: Class 0 = 70.00%, Class 1 = 30.00%\n",
            "Stage 6: Class 0 = 40.00%, Class 1 = 60.00%\n",
            "Stage 7: Class 0 = 80.00%, Class 1 = 20.00%\n",
            "Stage 8: Class 0 = 50.00%, Class 1 = 50.00%\n",
            "Stage 9: Class 0 = 50.00%, Class 1 = 50.00%\n",
            "Stage 10: Class 0 = 70.00%, Class 1 = 30.00%\n",
            "\n",
            "Average Class Value Counts Across All Stages:\n",
            "0    6.8\n",
            "1    3.2\n",
            "Name: Outcome, dtype: float64\n"
          ]
        }
      ]
    },
    {
      "cell_type": "markdown",
      "source": [
        "As we can observe, the ratio for both sequential and traditional trials are almost the same even after Traditional trial used 308 patients whereas sequential trial used only 100 patients"
      ],
      "metadata": {
        "id": "YjGgC8RBA0hp"
      }
    }
  ]
}